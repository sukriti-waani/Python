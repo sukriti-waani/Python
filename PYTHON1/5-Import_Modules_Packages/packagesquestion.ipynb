{
 "cells": [
  {
   "cell_type": "markdown",
   "id": "9290dc41",
   "metadata": {},
   "source": [
    "# Module 5: Modules and Packages Assignments\n",
    "## Lesson 5.1: Importing Modules\n",
    "### Assignment 1: Importing and Using Modules\n",
    "\n",
    "Import the `math` module and use it to calculate the square root of 25 and the sine of 90 degrees.\n",
    "\n",
    "### Assignment 2: Aliasing Modules\n",
    "\n",
    "Import the `datetime` module with an alias and use it to print the current date and time.\n",
    "\n",
    "### Assignment 3: Importing Specific Functions\n",
    "\n",
    "Import the `randint` function from the `random` module and use it to generate a random integer between 1 and 100.\n",
    "\n",
    "### Assignment 4: Importing Multiple Functions\n",
    "\n",
    "Import the `sqrt` and `pow` functions from the `math` module and use them to calculate the square root of 16 and 2 raised to the power of 3.\n",
    "\n",
    "### Assignment 5: Handling Import Errors\n",
    "\n",
    "Write code that attempts to import a non-existent module and gracefully handles the import error by printing an error message.\n",
    "\n",
    "## Lesson 5.2: Standard Library Overview\n",
    "### Assignment 6: Working with the `os` Module\n",
    "\n",
    "Use the `os` module to create a new directory, list the contents of the current directory, and remove the newly created directory.\n",
    "\n",
    "### Assignment 7: Working with the `sys` Module\n",
    "\n",
    "Use the `sys` module to print the Python version currently in use and the command-line arguments passed to the script.\n",
    "\n",
    "### Assignment 8: Working with the `math` Module\n",
    "\n",
    "Use the `math` module to calculate the greatest common divisor (GCD) of two numbers and the factorial of a number.\n",
    "\n",
    "### Assignment 9: Working with the `datetime` Module\n",
    "\n",
    "Use the `datetime` module to print the current date, calculate the date 100 days from today, and determine the day of the week for a given date.\n",
    "\n",
    "### Assignment 10: Working with the `random` Module\n",
    "\n",
    "Use the `random` module to generate a list of 5 random numbers between 1 and 50 and shuffle the elements of a list.\n",
    "\n",
    "## Lesson 5.3: Creating and Using Packages\n",
    "### Assignment 11: Creating a Simple Package\n",
    "\n",
    "Create a package named `mypackage` with two modules: `module1` and `module2`. `module1` should contain a function that adds two numbers, and `module2` should contain a function that multiplies two numbers. Write code to use these functions.\n",
    "\n",
    "### Assignment 12: Using `__init__.py`\n",
    "\n",
    "Modify the `mypackage` package to include an `__init__.py` file that imports the functions from `module1` and `module2`. Write code to use these functions.\n",
    "\n",
    "### Assignment 13: Importing from a Package\n",
    "\n",
    "Write code to import and use the functions from `mypackage` without explicitly importing `module1` and `module2`.\n",
    "\n",
    "### Assignment 14: Relative Imports\n",
    "\n",
    "Create a subpackage named `subpackage` within `mypackage` and move `module2` into `subpackage`. Modify the import statements in `__init__.py` to use relative imports. Write code to use the functions from both modules.\n",
    "\n",
    "### Assignment 15: Handling Package Import Errors\n",
    "\n",
    "Write code that attempts to import a non-existent function from `mypackage` and gracefully handles the import error by printing an error message."
   ]
  },
  {
   "cell_type": "code",
   "execution_count": 1,
   "id": "63b3733a",
   "metadata": {},
   "outputs": [
    {
     "name": "stdout",
     "output_type": "stream",
     "text": [
      "Square root of 25:  5.0\n",
      "Sine of 90 degrees:  1.0\n"
     ]
    }
   ],
   "source": [
    "# 1: Importing and Using Modules\n",
    "\n",
    "import math\n",
    "\n",
    "print(\"Square root of 25: \", math.sqrt(25))\n",
    "print(\"Sine of 90 degrees: \", math.sin(math.radians(90)))"
   ]
  },
  {
   "cell_type": "code",
   "execution_count": 2,
   "id": "1038c0aa",
   "metadata": {},
   "outputs": [
    {
     "name": "stdout",
     "output_type": "stream",
     "text": [
      "Current date and time:  2025-10-12 01:31:38.216913\n"
     ]
    }
   ],
   "source": [
    "# 2: Aliasing Modules\n",
    "\n",
    "import datetime as dt\n",
    "\n",
    "currDate = dt.datetime.now()\n",
    "print(\"Current date and time: \", currDate)"
   ]
  },
  {
   "cell_type": "code",
   "execution_count": 3,
   "id": "3bce6b1c",
   "metadata": {},
   "outputs": [
    {
     "name": "stdout",
     "output_type": "stream",
     "text": [
      "Random integer between 1 and 100:  32\n"
     ]
    }
   ],
   "source": [
    "# 3: Importing Specific Functions\n",
    "\n",
    "from random import randint\n",
    "\n",
    "randomNum = randint(1, 100)\n",
    "print(\"Random integer between 1 and 100: \", randomNum)"
   ]
  },
  {
   "cell_type": "code",
   "execution_count": 4,
   "id": "6879a1b7",
   "metadata": {},
   "outputs": [
    {
     "name": "stdout",
     "output_type": "stream",
     "text": [
      "Square root of 16: 4.0\n",
      "2 raised to power 3: 8.0\n"
     ]
    }
   ],
   "source": [
    "# 4: Importing Multiple Functions\n",
    "\n",
    "from math import sqrt, pow\n",
    "\n",
    "sqrtRoot = sqrt(16)\n",
    "powerVal = pow(2, 3)\n",
    "\n",
    "print(\"Square root of 16:\", sqrtRoot)\n",
    "print(\"2 raised to power 3:\", powerVal)"
   ]
  },
  {
   "cell_type": "code",
   "execution_count": 5,
   "id": "e9f188e9",
   "metadata": {},
   "outputs": [
    {
     "name": "stdout",
     "output_type": "stream",
     "text": [
      "Error: The module you are trying to import does not exist.\n"
     ]
    }
   ],
   "source": [
    "# 5: Handling Import Errors\n",
    "\n",
    "try:\n",
    "  import non_existent_module\n",
    "except ImportError:\n",
    "  print(\"Error: The module you are trying to import does not exist.\")"
   ]
  },
  {
   "cell_type": "code",
   "execution_count": 6,
   "id": "be4cb441",
   "metadata": {},
   "outputs": [
    {
     "name": "stdout",
     "output_type": "stream",
     "text": [
      "Directory 'new_folder' created.\n",
      "Contents of current directory: ['5.1-import.ipynb', '5.2-StandardLibrary.ipynb', 'destination.txt', 'example.csv', 'new_folder', 'package', 'packagesquestion.ipynb', 'source.txt', 'test.py', 'test_dir']\n",
      "Directory 'new_folder' removed.\n"
     ]
    }
   ],
   "source": [
    "# 6: Working with the os Module\n",
    "\n",
    "import os\n",
    "\n",
    "# Create new directory\n",
    "os.mkdir(\"new_folder\")\n",
    "print(\"Directory 'new_folder' created.\")\n",
    "\n",
    "# List contents of current directory\n",
    "print(\"Contents of current directory:\", os.listdir())\n",
    "\n",
    "# Remove the newly created directory\n",
    "os.rmdir(\"new_folder\")\n",
    "print(\"Directory 'new_folder' removed.\")"
   ]
  },
  {
   "cell_type": "code",
   "execution_count": 7,
   "id": "edb425cc",
   "metadata": {},
   "outputs": [
    {
     "name": "stdout",
     "output_type": "stream",
     "text": [
      "Python version: 3.13.5 | packaged by Anaconda, Inc. | (main, Jun 12 2025, 16:37:03) [MSC v.1929 64 bit (AMD64)]\n",
      "Command-line arguments: ['c:\\\\My_Programs\\\\Python\\\\Python\\\\PYTHON1\\\\venv1\\\\Lib\\\\site-packages\\\\ipykernel_launcher.py', '--f=c:\\\\Users\\\\KIIT0001\\\\AppData\\\\Roaming\\\\jupyter\\\\runtime\\\\kernel-v36bda952e6ef46e2345bd5dc78991b311ccd9703e.json']\n"
     ]
    }
   ],
   "source": [
    "# 7: Working with the sys Module\n",
    "\n",
    "import sys\n",
    "\n",
    "# Print Python version\n",
    "print(\"Python version:\", sys.version)\n",
    "\n",
    "# Print command-line arguments\n",
    "print(\"Command-line arguments:\", sys.argv)"
   ]
  },
  {
   "cell_type": "code",
   "execution_count": 9,
   "id": "76c81fdb",
   "metadata": {},
   "outputs": [
    {
     "name": "stdout",
     "output_type": "stream",
     "text": [
      "GCD of 48 and 18: 6\n",
      "Factorial of 5: 120\n"
     ]
    }
   ],
   "source": [
    "# 8: Working with the math Module\n",
    "\n",
    "import math\n",
    "\n",
    "# Calculate GCD and factorial\n",
    "gcd_res = math.gcd(48, 18)\n",
    "factorial_res = math.factorial(5)\n",
    "\n",
    "print(\"GCD of 48 and 18:\", gcd_res)\n",
    "print(\"Factorial of 5:\", factorial_res)"
   ]
  },
  {
   "cell_type": "code",
   "execution_count": 10,
   "id": "312d45a9",
   "metadata": {},
   "outputs": [
    {
     "name": "stdout",
     "output_type": "stream",
     "text": [
      "Today's date: 2025-10-12\n",
      "Date 100 days from today: 2026-01-20\n",
      "Day of the week for 2025-01-01: Wednesday\n"
     ]
    }
   ],
   "source": [
    "# 9: Working with the datetime Module\n",
    "\n",
    "from datetime import date, timedelta\n",
    "\n",
    "# Current date\n",
    "today = date.today()\n",
    "print(\"Today's date:\", today)\n",
    "\n",
    "# Date 100 days from today\n",
    "future_date = today + timedelta(days=100)\n",
    "print(\"Date 100 days from today:\", future_date)\n",
    "\n",
    "# Day of the week for a given date\n",
    "given_date = date(2025, 1, 1)\n",
    "print(\"Day of the week for 2025-01-01:\", given_date.strftime(\"%A\"))"
   ]
  },
  {
   "cell_type": "code",
   "execution_count": 11,
   "id": "eb2ee5a2",
   "metadata": {},
   "outputs": [
    {
     "name": "stdout",
     "output_type": "stream",
     "text": [
      "Random numbers: [48, 9, 31, 28, 13]\n",
      "Shuffled numbers: [48, 9, 13, 28, 31]\n"
     ]
    }
   ],
   "source": [
    "# 10: Working with the random Module\n",
    "\n",
    "import random\n",
    "\n",
    "# Generate list of 5 random numbers between 1 and 50\n",
    "numbers = [random.randint(1, 50) for _ in range(5)]\n",
    "print(\"Random numbers:\", numbers)\n",
    "\n",
    "# Shuffle the list\n",
    "random.shuffle(numbers)\n",
    "print(\"Shuffled numbers:\", numbers)"
   ]
  }
 ],
 "metadata": {
  "kernelspec": {
   "display_name": "Python 3",
   "language": "python",
   "name": "python3"
  },
  "language_info": {
   "codemirror_mode": {
    "name": "ipython",
    "version": 3
   },
   "file_extension": ".py",
   "mimetype": "text/x-python",
   "name": "python",
   "nbconvert_exporter": "python",
   "pygments_lexer": "ipython3",
   "version": "3.13.5"
  }
 },
 "nbformat": 4,
 "nbformat_minor": 5
}
