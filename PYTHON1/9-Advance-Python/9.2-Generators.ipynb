{
 "cells": [
  {
   "cell_type": "markdown",
   "id": "f922acb0",
   "metadata": {},
   "source": [
    "Generators are a simpler way to create iterators. They use the yield keyword to produce a series a values lazily, which means they generate values on the fly and do not store them in memory."
   ]
  },
  {
   "cell_type": "code",
   "execution_count": 2,
   "metadata": {},
   "outputs": [],
   "source": [
    "def square(n):\n",
    "  for i in range(3):\n",
    "    yield i ** 2"
   ]
  },
  {
   "cell_type": "code",
   "execution_count": 3,
   "id": "db2a613d",
   "metadata": {},
   "outputs": [
    {
     "data": {
      "text/plain": [
       "<generator object square at 0x00000170C424A330>"
      ]
     },
     "execution_count": 3,
     "metadata": {},
     "output_type": "execute_result"
    }
   ],
   "source": [
    "square(3)"
   ]
  },
  {
   "cell_type": "code",
   "execution_count": 4,
   "id": "2d2e11b0",
   "metadata": {},
   "outputs": [
    {
     "name": "stdout",
     "output_type": "stream",
     "text": [
      "0\n",
      "1\n",
      "2\n"
     ]
    }
   ],
   "source": [
    "for i in range(3):\n",
    "    print(i)"
   ]
  },
  {
   "cell_type": "code",
   "execution_count": 5,
   "id": "2cc0807a",
   "metadata": {},
   "outputs": [],
   "source": [
    "a = square(3)"
   ]
  },
  {
   "cell_type": "code",
   "execution_count": 8,
   "id": "cb4e0687",
   "metadata": {},
   "outputs": [
    {
     "data": {
      "text/plain": [
       "4"
      ]
     },
     "execution_count": 8,
     "metadata": {},
     "output_type": "execute_result"
    }
   ],
   "source": [
    "next(a)"
   ]
  },
  {
   "cell_type": "code",
   "execution_count": 28,
   "id": "af51c5f9",
   "metadata": {},
   "outputs": [],
   "source": [
    "def my_generator():\n",
    "  yield 1\n",
    "  yield 2\n",
    "  yield 3"
   ]
  },
  {
   "cell_type": "code",
   "execution_count": 29,
   "id": "f7111141",
   "metadata": {},
   "outputs": [
    {
     "data": {
      "text/plain": [
       "<generator object my_generator at 0x00000170C3F37060>"
      ]
     },
     "execution_count": 29,
     "metadata": {},
     "output_type": "execute_result"
    }
   ],
   "source": [
    "gen = my_generator()\n",
    "gen"
   ]
  },
  {
   "cell_type": "code",
   "execution_count": 30,
   "id": "25163e8b",
   "metadata": {},
   "outputs": [
    {
     "data": {
      "text/plain": [
       "1"
      ]
     },
     "execution_count": 30,
     "metadata": {},
     "output_type": "execute_result"
    }
   ],
   "source": [
    "next(gen)"
   ]
  },
  {
   "cell_type": "code",
   "execution_count": 31,
   "id": "884e4499",
   "metadata": {},
   "outputs": [
    {
     "name": "stdout",
     "output_type": "stream",
     "text": [
      "2\n",
      "3\n"
     ]
    }
   ],
   "source": [
    "for val in gen:\n",
    "    print(val)"
   ]
  },
  {
   "cell_type": "markdown",
   "id": "dd11f192",
   "metadata": {},
   "source": [
    "## Reading Large Files\n",
    "\n",
    "Generators are particularly useful for reading large files because they allow us ti process one line at a time without loading the entire file in memory."
   ]
  },
  {
   "cell_type": "code",
   "execution_count": 32,
   "id": "97b65688",
   "metadata": {},
   "outputs": [],
   "source": [
    "## Reading large files using generators\n",
    "\n",
    "\n",
    "def read_large_file(file_path):\n",
    "  with open(file_path, 'r') as file:\n",
    "    for line in file:\n",
    "      yield line"
   ]
  },
  {
   "cell_type": "code",
   "execution_count": 33,
   "id": "abc82e3c",
   "metadata": {},
   "outputs": [
    {
     "name": "stdout",
     "output_type": "stream",
     "text": [
      "Physics is the reason computers shrunk from building-size to ones that fit in your pocket. We explore how the smartphone celebrates a variety of scientific and technological advancements: semiconductor nanotechnology, sensors, fiber optics, satellites, and atomic clocks are some of the puzzle pieces that have conspired to make such a useful (and distracting!) device. Upon exploring some of the technologies used by your phone, you may not be able to look at your phone in the same way and may even think that your phone is sort of smart.\n",
      "\n",
      "While it may not feel like an inspiring moment each time you pull out your smartphone to check your email, there is a lot of fascinating physics going on inside your device. Smartphones are a rich showcase of many of the triumphs of modern physics. This article is intended to give some framework for understanding smartphone technology, and hopefully leave the reader with a sense of wonder, and maybe even some curiosity about future technologies that may soon make ‘smartphones’ antiquated technology.\n"
     ]
    }
   ],
   "source": [
    "file_path = 'large_file.txt'\n",
    "\n",
    "for line in read_large_file(file_path):\n",
    "    print(line.strip())"
   ]
  }
 ],
 "metadata": {
  "kernelspec": {
   "display_name": "Python 3",
   "language": "python",
   "name": "python3"
  },
  "language_info": {
   "codemirror_mode": {
    "name": "ipython",
    "version": 3
   },
   "file_extension": ".py",
   "mimetype": "text/x-python",
   "name": "python",
   "nbconvert_exporter": "python",
   "pygments_lexer": "ipython3",
   "version": "3.13.5"
  }
 },
 "nbformat": 4,
 "nbformat_minor": 5
}
