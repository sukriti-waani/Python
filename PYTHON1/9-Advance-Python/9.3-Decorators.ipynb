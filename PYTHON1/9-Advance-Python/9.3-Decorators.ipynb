{
 "cells": [
  {
   "cell_type": "markdown",
   "id": "7fcce65a",
   "metadata": {},
   "source": [
    "Decorators are a powerful and flexible feature in Python that allows us to modify the behavior of a function or class method.\n",
    "They are commonly used to add functionality to functions or methods without modifying their actual code."
   ]
  },
  {
   "cell_type": "code",
   "execution_count": 1,
   "id": "8e7ab592",
   "metadata": {},
   "outputs": [],
   "source": [
    "# function copy\n",
    "# closures\n",
    "# decorators"
   ]
  },
  {
   "cell_type": "code",
   "execution_count": 19,
   "id": "2f10126d",
   "metadata": {},
   "outputs": [
    {
     "data": {
      "text/plain": [
       "'Welcome to Python Decorators!'"
      ]
     },
     "execution_count": 19,
     "metadata": {},
     "output_type": "execute_result"
    }
   ],
   "source": [
    "# Function Copy\n",
    "\n",
    "def welcome():\n",
    "    return \"Welcome to Python Decorators!\"\n",
    "\n",
    "welcome()"
   ]
  },
  {
   "cell_type": "code",
   "execution_count": 20,
   "id": "38bc5646",
   "metadata": {},
   "outputs": [
    {
     "name": "stdout",
     "output_type": "stream",
     "text": [
      "Welcome to Python Decorators!\n",
      "Welcome to Python Decorators!\n"
     ]
    }
   ],
   "source": [
    "wel = welcome\n",
    "print(wel())\n",
    "del welcome\n",
    "print(wel())"
   ]
  },
  {
   "cell_type": "code",
   "execution_count": 23,
   "id": "3f0e18dc",
   "metadata": {},
   "outputs": [],
   "source": [
    "# Closures\n",
    "\n",
    "def main_welcome(msg):\n",
    "  def sum_welcome():\n",
    "      print(\"Welcome to Python Decorators!\")\n",
    "      print(msg)\n",
    "\n",
    "      print(\"Learning is fun with Python.\")\n",
    "\n",
    "  return sum_welcome()"
   ]
  },
  {
   "cell_type": "code",
   "execution_count": 24,
   "id": "944479cf",
   "metadata": {},
   "outputs": [
    {
     "name": "stdout",
     "output_type": "stream",
     "text": [
      "Welcome to Python Decorators!\n",
      "Hello\n",
      "Learning is fun with Python.\n"
     ]
    }
   ],
   "source": [
    "main_welcome(\"Hello\")"
   ]
  },
  {
   "cell_type": "code",
   "execution_count": 33,
   "id": "1290f13c",
   "metadata": {},
   "outputs": [],
   "source": [
    "def main_welcome(func):\n",
    "  def sum_welcome():\n",
    "      print(\"Welcome to Python Decorators!\")\n",
    "      func(\"Welcome Message\")\n",
    "      print(\"Learning is fun with Python.\")\n",
    "\n",
    "  return sum_welcome()"
   ]
  },
  {
   "cell_type": "code",
   "execution_count": 34,
   "id": "73bb2bb5",
   "metadata": {},
   "outputs": [
    {
     "name": "stdout",
     "output_type": "stream",
     "text": [
      "Welcome to Python Decorators!\n",
      "Welcome Message\n",
      "Learning is fun with Python.\n"
     ]
    }
   ],
   "source": [
    "main_welcome(print)"
   ]
  },
  {
   "cell_type": "code",
   "execution_count": null,
   "id": "211e1c88",
   "metadata": {},
   "outputs": [],
   "source": [
    "def main_welcome(func, lst):\n",
    "  def sum_welcome():\n",
    "      print(\"Welcome to Python Decorators!\")\n",
    "      print(func(lst))\n",
    "      print(\"Learning is fun with Python.\")\n",
    "\n",
    "  return sum_welcome()"
   ]
  },
  {
   "cell_type": "code",
   "execution_count": 39,
   "id": "2b844198",
   "metadata": {},
   "outputs": [
    {
     "name": "stdout",
     "output_type": "stream",
     "text": [
      "Welcome to Python Decorators!\n",
      "6\n",
      "Learning is fun with Python.\n"
     ]
    }
   ],
   "source": [
    "main_welcome(len,([1,2,3,4,5,6]))"
   ]
  },
  {
   "cell_type": "code",
   "execution_count": 43,
   "id": "46021b1e",
   "metadata": {},
   "outputs": [],
   "source": [
    "# Decorators\n",
    "\n",
    "def main_welcome(func):\n",
    "  def sum_welcome():\n",
    "      print(\"Welcome to Python Decorators!\")\n",
    "      func()\n",
    "      print(\"Learning is fun with Python.\")\n",
    "\n",
    "  return sum_welcome()"
   ]
  },
  {
   "cell_type": "code",
   "execution_count": 41,
   "id": "215c4174",
   "metadata": {},
   "outputs": [
    {
     "data": {
      "text/plain": [
       "<function __main__.course_intro()>"
      ]
     },
     "execution_count": 41,
     "metadata": {},
     "output_type": "execute_result"
    }
   ],
   "source": [
    "def course_intro():\n",
    "    print(\"Welcome Message\")\n",
    "\n",
    "course_intro"
   ]
  },
  {
   "cell_type": "code",
   "execution_count": 44,
   "id": "7b4c36fb",
   "metadata": {},
   "outputs": [
    {
     "name": "stdout",
     "output_type": "stream",
     "text": [
      "Welcome to Python Decorators!\n",
      "Welcome Message\n",
      "Learning is fun with Python.\n"
     ]
    }
   ],
   "source": [
    "main_welcome(course_intro)"
   ]
  },
  {
   "cell_type": "code",
   "execution_count": 45,
   "id": "de2871bb",
   "metadata": {},
   "outputs": [
    {
     "name": "stdout",
     "output_type": "stream",
     "text": [
      "Welcome to Python Decorators!\n",
      "Welcome Message 2\n",
      "Learning is fun with Python.\n"
     ]
    }
   ],
   "source": [
    "@main_welcome\n",
    "def course_intro():\n",
    "    print(\"Welcome Message 2\")"
   ]
  },
  {
   "cell_type": "code",
   "execution_count": 48,
   "id": "df29c3f0",
   "metadata": {},
   "outputs": [],
   "source": [
    "# Decorators\n",
    "\n",
    "def my_decorator(func):\n",
    "    def wrapper():\n",
    "        print(\"Something is happening before the function is called.\")\n",
    "        func()\n",
    "        print(\"Something is happening after the function is called.\")\n",
    "    return wrapper"
   ]
  },
  {
   "cell_type": "code",
   "execution_count": 50,
   "id": "b2fa6e55",
   "metadata": {},
   "outputs": [],
   "source": [
    "@my_decorator\n",
    "def say_hello():\n",
    "    print(\"Hello!\")"
   ]
  },
  {
   "cell_type": "code",
   "execution_count": 51,
   "id": "ad98ba4e",
   "metadata": {},
   "outputs": [
    {
     "name": "stdout",
     "output_type": "stream",
     "text": [
      "Something is happening before the function is called.\n",
      "Hello!\n",
      "Something is happening after the function is called.\n"
     ]
    }
   ],
   "source": [
    "say_hello()"
   ]
  },
  {
   "cell_type": "code",
   "execution_count": 52,
   "id": "403343e1",
   "metadata": {},
   "outputs": [],
   "source": [
    "# Decorators with Arguments\n",
    "\n",
    "def repeat(n):\n",
    "    def decorator(func):\n",
    "        def wrapper(*args, **kwargs):\n",
    "            for _ in range(n):\n",
    "                func(*args, **kwargs)\n",
    "        return wrapper\n",
    "    return decorator"
   ]
  },
  {
   "cell_type": "code",
   "execution_count": 53,
   "id": "cba5ebed",
   "metadata": {},
   "outputs": [],
   "source": [
    "@repeat(3)\n",
    "def greet():\n",
    "    print(\"Hello\")"
   ]
  },
  {
   "cell_type": "code",
   "execution_count": 54,
   "id": "2a8eff43",
   "metadata": {},
   "outputs": [
    {
     "name": "stdout",
     "output_type": "stream",
     "text": [
      "Hello\n",
      "Hello\n",
      "Hello\n"
     ]
    }
   ],
   "source": [
    "greet()"
   ]
  },
  {
   "cell_type": "markdown",
   "id": "63111301",
   "metadata": {},
   "source": [
    "### Conclusion\n",
    "\n",
    "Decorators are a powerful tool in Python for extending and modifying the behavior of functions and methods.\n",
    "They provide a clean and readable way to add functionality such as logging, timing, access control, and more without changing the original code.\n",
    "Understanding and using decorators effectively can significantly enhance our Python programming skills."
   ]
  }
 ],
 "metadata": {
  "kernelspec": {
   "display_name": "Python 3",
   "language": "python",
   "name": "python3"
  },
  "language_info": {
   "codemirror_mode": {
    "name": "ipython",
    "version": 3
   },
   "file_extension": ".py",
   "mimetype": "text/x-python",
   "name": "python",
   "nbconvert_exporter": "python",
   "pygments_lexer": "ipython3",
   "version": "3.13.5"
  }
 },
 "nbformat": 4,
 "nbformat_minor": 5
}
