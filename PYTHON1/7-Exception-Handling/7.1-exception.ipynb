{
 "cells": [
  {
   "cell_type": "markdown",
   "id": "6f2129bb",
   "metadata": {},
   "source": [
    "Exception handling allows us to handle errors gracefully and take corrective actions without stopping the execution of the program."
   ]
  },
  {
   "cell_type": "markdown",
   "id": "30a9e847",
   "metadata": {},
   "source": [
    "### What are Exceptions ?\n",
    "\n",
    "Exceptions are events that disrupt the normal flow of a program. They occur when an error is encountered during program execution. Common exceptions include:\n",
    "            ZeroDivisionError : Dividing by zero.\n",
    "            FileNotFoundError : File not found.\n",
    "            ValueError : Invalid value.\n",
    "            TypeError : Invalid type."
   ]
  },
  {
   "cell_type": "code",
   "execution_count": 1,
   "id": "db9682e4",
   "metadata": {},
   "outputs": [],
   "source": [
    "a = 10"
   ]
  },
  {
   "cell_type": "code",
   "execution_count": 5,
   "id": "039744cc",
   "metadata": {},
   "outputs": [
    {
     "name": "stdout",
     "output_type": "stream",
     "text": [
      "name 'b' is not defined\n"
     ]
    }
   ],
   "source": [
    "## Exception try, except block\n",
    "\n",
    "try:\n",
    "  a = b\n",
    "except NameError as e:\n",
    "  print(e)"
   ]
  },
  {
   "cell_type": "code",
   "execution_count": 7,
   "id": "f5cab8cc",
   "metadata": {},
   "outputs": [
    {
     "name": "stdout",
     "output_type": "stream",
     "text": [
      "division by zero\n",
      "Please provide a non zero denominator\n"
     ]
    }
   ],
   "source": [
    "try:\n",
    "  res = 1/0\n",
    "except ZeroDivisionError as e:\n",
    "  print(e)\n",
    "  print(\"Please provide a non zero denominator\")"
   ]
  },
  {
   "cell_type": "code",
   "execution_count": 10,
   "id": "30a1052e",
   "metadata": {},
   "outputs": [
    {
     "name": "stdout",
     "output_type": "stream",
     "text": [
      "name 'b' is not defined\n",
      "Main exception got caught here\n"
     ]
    }
   ],
   "source": [
    "try:\n",
    "  res = 1/2\n",
    "  a = b\n",
    "except ZeroDivisionError as e:\n",
    "  print(e)\n",
    "  print(\"Please provide a non zero denominator\")\n",
    "except Exception as e1:\n",
    "  print(e1)\n",
    "  print('Main exception got caught here')"
   ]
  },
  {
   "cell_type": "code",
   "execution_count": 15,
   "id": "736f7fc5",
   "metadata": {},
   "outputs": [
    {
     "name": "stdout",
     "output_type": "stream",
     "text": [
      "Please provide a valid integer\n"
     ]
    }
   ],
   "source": [
    "try:\n",
    "  num = int(input(\"Enter a number: \"))\n",
    "  res = 10/num\n",
    "except ValueError as e:\n",
    "  print(\"Please provide a valid integer\")\n",
    "except ZeroDivisionError as e:\n",
    "  print(\"Denominator cannot be zero\")\n",
    "except Exception as e:\n",
    "  print(e)"
   ]
  },
  {
   "cell_type": "code",
   "execution_count": 16,
   "id": "e45c9d8c",
   "metadata": {},
   "outputs": [
    {
     "name": "stdout",
     "output_type": "stream",
     "text": [
      "Everything went well\n",
      "0.8333333333333334\n"
     ]
    }
   ],
   "source": [
    "## try, except, else block\n",
    "\n",
    "try:\n",
    "  num = int(input(\"Enter a number: \"))\n",
    "  res = 10/num\n",
    "except ValueError as e:\n",
    "  print(\"Please provide a valid integer\")\n",
    "except ZeroDivisionError as e:\n",
    "  print(\"Denominator cannot be zero\")\n",
    "except Exception as e:\n",
    "  print(e)\n",
    "  \n",
    "else:\n",
    "  print(\"Everything went well\")\n",
    "  print(res)"
   ]
  },
  {
   "cell_type": "code",
   "execution_count": 17,
   "id": "bab0b3c6",
   "metadata": {},
   "outputs": [
    {
     "name": "stdout",
     "output_type": "stream",
     "text": [
      "Everything went well\n",
      "0.4166666666666667\n",
      "Execution completed\n"
     ]
    }
   ],
   "source": [
    "# try, except, else, finally block\n",
    "\n",
    "try:\n",
    "  num = int(input(\"Enter a number: \"))\n",
    "  res = 10/num\n",
    "except ValueError as e:\n",
    "  print(\"Please provide a valid integer\")\n",
    "except ZeroDivisionError as e:\n",
    "  print(\"Denominator cannot be zero\")\n",
    "except Exception as e:\n",
    "  print(e)\n",
    "  \n",
    "else:\n",
    "  print(\"Everything went well\")\n",
    "  print(res)\n",
    "\n",
    "finally:\n",
    "  print(\"Execution completed\")"
   ]
  },
  {
   "cell_type": "code",
   "execution_count": 7,
   "id": "d30b98a2",
   "metadata": {},
   "outputs": [
    {
     "name": "stdout",
     "output_type": "stream",
     "text": [
      "Hello World !\n",
      "File closed.\n"
     ]
    }
   ],
   "source": [
    "# File handling and Exception handling\n",
    "\n",
    "try:\n",
    "  file = open('example1.txt', 'r')\n",
    "  content = file.read()\n",
    "  print(content)\n",
    "except FileNotFoundError as e:\n",
    "  print(\"File not found. Please check the file path.\")\n",
    "except Exception as ex:\n",
    "  print(ex) \n",
    "finally:\n",
    "  if 'file' in locals() or not file.closed():\n",
    "    file.close()\n",
    "    print(\"File closed.\")"
   ]
  }
 ],
 "metadata": {
  "kernelspec": {
   "display_name": "Python 3",
   "language": "python",
   "name": "python3"
  },
  "language_info": {
   "codemirror_mode": {
    "name": "ipython",
    "version": 3
   },
   "file_extension": ".py",
   "mimetype": "text/x-python",
   "name": "python",
   "nbconvert_exporter": "python",
   "pygments_lexer": "ipython3",
   "version": "3.13.5"
  }
 },
 "nbformat": 4,
 "nbformat_minor": 5
}
