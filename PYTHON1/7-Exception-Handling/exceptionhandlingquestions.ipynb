{
 "cells": [
  {
   "cell_type": "markdown",
   "metadata": {},
   "source": [
    "# Module: Exception Handling Assignments\n",
    "## Lesson: Exception Handling with try, except, and finally\n",
    "### Assignment 1: Handling Division by Zero\n",
    "\n",
    "Write a function that takes two integers as input and returns their division. Use try, except, and finally blocks to handle division by zero and print an appropriate message.\n",
    "\n",
    "### Assignment 2: File Reading with Exception Handling\n",
    "\n",
    "Write a function that reads the contents of a file named `data.txt`. Use try, except, and finally blocks to handle file not found errors and ensure the file is properly closed.\n",
    "\n",
    "### Assignment 3: Handling Multiple Exceptions\n",
    "\n",
    "Write a function that takes a list of integers and returns their sum. Use try, except, and finally blocks to handle TypeError if a non-integer value is encountered and print an appropriate message.\n",
    "\n",
    "### Assignment 4: Exception Handling in User Input\n",
    "\n",
    "Write a function that prompts the user to enter an integer. Use try, except, and finally blocks to handle ValueError if the user enters a non-integer value and print an appropriate message.\n",
    "\n",
    "### Assignment 5: Exception Handling in Dictionary Access\n",
    "\n",
    "Write a function that takes a dictionary and a key as input and returns the value associated with the key. Use try, except, and finally blocks to handle KeyError if the key is not found in the dictionary and print an appropriate message.\n",
    "\n",
    "### Assignment 6: Nested Exception Handling\n",
    "\n",
    "Write a function that performs nested exception handling. It should first attempt to convert a string to an integer, and then attempt to divide by that integer. Use nested try, except, and finally blocks to handle ValueError and ZeroDivisionError and print appropriate messages.\n",
    "\n",
    "### Assignment 7: Exception Handling in List Operations\n",
    "\n",
    "Write a function that takes a list and an index as input and returns the element at the given index. Use try, except, and finally blocks to handle IndexError if the index is out of range and print an appropriate message.\n",
    "\n",
    "### Assignment 8: Exception Handling in Network Operations\n",
    "\n",
    "Write a function that attempts to open a URL and read its contents. Use try, except, and finally blocks to handle network-related errors and print an appropriate message.\n",
    "\n",
    "### Assignment 9: Exception Handling in JSON Parsing\n",
    "\n",
    "Write a function that attempts to parse a JSON string. Use try, except, and finally blocks to handle JSONDecodeError if the string is not a valid JSON and print an appropriate message.\n",
    "\n",
    "### Assignment 10: Custom Exception Handling\n",
    "\n",
    "Define a custom exception named `NegativeNumberError`. Write a function that raises this exception if a negative number is encountered in a list. Use try, except, and finally blocks to handle the custom exception and print an appropriate message.\n",
    "\n",
    "### Assignment 11: Exception Handling in Function Calls\n",
    "\n",
    "Write a function that calls another function which may raise an exception. Use try, except, and finally blocks to handle the exception and print an appropriate message.\n",
    "\n",
    "### Assignment 12: Exception Handling in Class Methods\n",
    "\n",
    "Define a class with a method that performs a division operation. Use try, except, and finally blocks within the method to handle division by zero and print an appropriate message.\n",
    "\n",
    "### Assignment 13: Exception Handling in Data Conversion\n",
    "\n",
    "Write a function that takes a list of strings and converts them to integers. Use try, except, and finally blocks to handle ValueError if a string cannot be converted and print an appropriate message.\n",
    "\n",
    "### Assignment 14: Exception Handling in List Comprehensions\n",
    "\n",
    "Write a function that uses a list comprehension to convert a list of strings to integers. Use try, except, and finally blocks within the list comprehension to handle ValueError and print an appropriate message.\n",
    "\n",
    "### Assignment 15: Exception Handling in File Writing\n",
    "\n",
    "Write a function that attempts to write a list of strings to a file. Use try, except, and finally blocks to handle IOError and ensure the file is properly closed."
   ]
  },
  {
   "cell_type": "code",
   "execution_count": 5,
   "metadata": {},
   "outputs": [
    {
     "name": "stdout",
     "output_type": "stream",
     "text": [
      "Result: 5.0\n",
      "Execution of divide_numbers() is complete.\n",
      "\n",
      "Error: Division by zero is not allowed.\n",
      "Execution of divide_numbers() is complete.\n",
      "\n"
     ]
    }
   ],
   "source": [
    "# 1: Handling Division by Zero\n",
    "\n",
    "def divide_numbers(a, b):\n",
    "    try:\n",
    "        result = a / b\n",
    "        print(\"Result:\", result)\n",
    "    except ZeroDivisionError:\n",
    "        print(\"Error: Division by zero is not allowed.\")\n",
    "    finally:\n",
    "        print(\"Execution of divide_numbers() is complete.\\n\")\n",
    "\n",
    "divide_numbers(10, 2)\n",
    "divide_numbers(5, 0)"
   ]
  },
  {
   "cell_type": "code",
   "execution_count": 6,
   "id": "51105c8e",
   "metadata": {},
   "outputs": [
    {
     "name": "stdout",
     "output_type": "stream",
     "text": [
      "Hello World !\n",
      "File closed successfully.\n",
      "\n"
     ]
    }
   ],
   "source": [
    "# 2: File Reading with Exception Handling\n",
    "\n",
    "def read_file():\n",
    "    try:\n",
    "        file = open(\"example1.txt\", \"r\")\n",
    "        print(file.read())\n",
    "    except FileNotFoundError:\n",
    "        print(\"Error: File 'data.txt' not found.\")\n",
    "    finally:\n",
    "        try:\n",
    "            file.close()\n",
    "            print(\"File closed successfully.\\n\")\n",
    "        except:\n",
    "            print(\"File could not be closed.\\n\")\n",
    "\n",
    "read_file()\n"
   ]
  },
  {
   "cell_type": "code",
   "execution_count": 13,
   "id": "2d9fb99d",
   "metadata": {},
   "outputs": [],
   "source": [
    "# # 3: Handling Multiple Exceptions\n",
    "\n",
    "# def sum_integers(lst):\n",
    "#     try:\n",
    "#         total = sum(lst)\n",
    "#         print(\"Sum of integers:\", total)\n",
    "#     except TypeError:\n",
    "#         print(\"Error: List contains non-integer values.\")\n",
    "#     finally:\n",
    "#         print(\"Execution of sum_integers() is complete.\\n\")\n",
    "\n",
    "# sum_integers([1, 2, 3])        # Valid input\n",
    "# sum_integers([1, \"two\", 3])"
   ]
  },
  {
   "cell_type": "code",
   "execution_count": 15,
   "id": "26d526c3",
   "metadata": {},
   "outputs": [
    {
     "name": "stdout",
     "output_type": "stream",
     "text": [
      "You entered: 12\n",
      "Execution is complete.\n",
      "\n"
     ]
    }
   ],
   "source": [
    "# 4: Exception Handling in User Input\n",
    "\n",
    "def get_integer_input():\n",
    "    try:\n",
    "        num = int(input(\"Enter an integer: \"))\n",
    "        print(\"You entered:\", num)\n",
    "    except ValueError:\n",
    "        print(\"Error.\")\n",
    "    finally:\n",
    "        print(\"Execution is complete.\\n\")\n",
    "\n",
    "get_integer_input()\n"
   ]
  },
  {
   "cell_type": "code",
   "execution_count": 16,
   "id": "38bee280",
   "metadata": {},
   "outputs": [
    {
     "name": "stdout",
     "output_type": "stream",
     "text": [
      "Value for 'a' is: 1\n",
      "Execution of get_dict_value() is complete.\n",
      "\n",
      "Error: Key 'c' not found in dictionary.\n",
      "Execution of get_dict_value() is complete.\n",
      "\n"
     ]
    }
   ],
   "source": [
    "# 5 Exception Handling in Dictionary Access\n",
    "\n",
    "def get_dict_value(d, key):\n",
    "    try:\n",
    "        value = d[key]\n",
    "        print(f\"Value for '{key}' is:\", value)\n",
    "    except KeyError:\n",
    "        print(f\"Error: Key '{key}' not found in dictionary.\")\n",
    "    finally:\n",
    "        print(\"Execution of get_dict_value() is complete.\\n\")\n",
    "\n",
    "get_dict_value({'a': 1, 'b': 2}, 'a')\n",
    "get_dict_value({'a': 1, 'b': 2}, 'c')"
   ]
  },
  {
   "cell_type": "code",
   "execution_count": 17,
   "id": "51ce3365",
   "metadata": {},
   "outputs": [
    {
     "name": "stdout",
     "output_type": "stream",
     "text": [
      "Converted string to integer: 5\n",
      "Result of division: 2.0\n",
      "Nested try-except block completed.\n",
      "\n",
      "Converted string to integer: 0\n",
      "Error: Division by zero.\n",
      "Nested try-except block completed.\n",
      "\n",
      "Error: Cannot convert string to integer.\n",
      "Nested try-except block completed.\n",
      "\n"
     ]
    }
   ],
   "source": [
    "# 6: Nested Exception Handling\n",
    "\n",
    "def nested_exception_handling(s, divisor):\n",
    "    try:\n",
    "        try:\n",
    "            num = int(s)\n",
    "            print(\"Converted string to integer:\", num)\n",
    "            result = divisor / num\n",
    "            print(\"Result of division:\", result)\n",
    "        except ValueError:\n",
    "            print(\"Error: Cannot convert string to integer.\")\n",
    "        except ZeroDivisionError:\n",
    "            print(\"Error: Division by zero.\")\n",
    "    finally:\n",
    "        print(\"Nested try-except block completed.\\n\")\n",
    "\n",
    "nested_exception_handling(\"5\", 10)\n",
    "nested_exception_handling(\"0\", 10)\n",
    "nested_exception_handling(\"abc\", 10)"
   ]
  },
  {
   "cell_type": "code",
   "execution_count": 18,
   "id": "b8b437f9",
   "metadata": {},
   "outputs": [
    {
     "name": "stdout",
     "output_type": "stream",
     "text": [
      "Element at index 1 is: 20\n",
      "Execution of get_list_element() is complete.\n",
      "\n",
      "Error: Index out of range.\n",
      "Execution of get_list_element() is complete.\n",
      "\n"
     ]
    }
   ],
   "source": [
    "# 7: Exception Handling in List Operations\n",
    "\n",
    "def get_list_element(lst, index):\n",
    "    try:\n",
    "        print(\"Element at index\", index, \"is:\", lst[index])\n",
    "    except IndexError:\n",
    "        print(\"Error: Index out of range.\")\n",
    "    finally:\n",
    "        print(\"Execution of get_list_element() is complete.\\n\")\n",
    "\n",
    "get_list_element([10, 20, 30], 1)\n",
    "get_list_element([10, 20, 30], 5)"
   ]
  },
  {
   "cell_type": "code",
   "execution_count": 20,
   "id": "5362a669",
   "metadata": {},
   "outputs": [
    {
     "name": "stdout",
     "output_type": "stream",
     "text": [
      "URL opened successfully. Content preview:\n",
      "b'<!doctype html><html lang=\"en\"><head><title>Example Domain</title><meta name=\"viewport\" content=\"wid'\n",
      "Execution of read_url() is complete.\n",
      "\n",
      "Network Error: <urlopen error [Errno 11001] getaddrinfo failed>\n",
      "Execution of read_url() is complete.\n",
      "\n"
     ]
    }
   ],
   "source": [
    "#  8 : Exception Handling in Network Operations\n",
    "\n",
    "import urllib.request\n",
    "\n",
    "def read_url(url):\n",
    "    try:\n",
    "        response = urllib.request.urlopen(url)\n",
    "        print(\"URL opened successfully. Content preview:\")\n",
    "        print(response.read(100))\n",
    "    except Exception as e:\n",
    "        print(\"Network Error:\", e)\n",
    "    finally:\n",
    "        print(\"Execution of read_url() is complete.\\n\")\n",
    "\n",
    "read_url(\"https://www.example.com\")\n",
    "read_url(\"https://invalid-url-test.com\")"
   ]
  },
  {
   "cell_type": "code",
   "execution_count": 22,
   "id": "96ace9ed",
   "metadata": {},
   "outputs": [
    {
     "name": "stdout",
     "output_type": "stream",
     "text": [
      "Parsed JSON: {'name': 'Alice', 'age': 25}\n",
      "Execution of parse_json() is complete.\n",
      "\n",
      "Error: Invalid JSON string.\n",
      "Execution of parse_json() is complete.\n",
      "\n"
     ]
    }
   ],
   "source": [
    "# 9 : Exception Handling in JSON Parsing\n",
    "\n",
    "import json\n",
    "\n",
    "def parse_json(json_string):\n",
    "    try:\n",
    "        data = json.loads(json_string)\n",
    "        print(\"Parsed JSON:\", data)\n",
    "    except json.JSONDecodeError:\n",
    "        print(\"Error: Invalid JSON string.\")\n",
    "    finally:\n",
    "        print(\"Execution of parse_json() is complete.\\n\")\n",
    "\n",
    "parse_json('{\"name\": \"Alice\", \"age\": 25}')\n",
    "parse_json('{name: Alice, age: 25}')  # Invalid JSON"
   ]
  },
  {
   "cell_type": "code",
   "execution_count": 24,
   "id": "ce822466",
   "metadata": {},
   "outputs": [
    {
     "name": "stdout",
     "output_type": "stream",
     "text": [
      "All numbers are positive.\n",
      "Execution of check_negative_numbers() is complete.\n",
      "\n",
      "Error: Negative number found!\n",
      "Execution of check_negative_numbers() is complete.\n",
      "\n"
     ]
    }
   ],
   "source": [
    "# 10 : Custom Exception Handling\n",
    "\n",
    "class NegativeNumberError(Exception):\n",
    "    pass\n",
    "\n",
    "def check_negative_numbers(lst):\n",
    "    try:\n",
    "        for num in lst:\n",
    "            if num < 0:\n",
    "                raise NegativeNumberError(\"Negative number found!\")\n",
    "        print(\"All numbers are positive.\")\n",
    "    except NegativeNumberError as e:\n",
    "        print(\"Error:\", e)\n",
    "    finally:\n",
    "        print(\"Execution of check_negative_numbers() is complete.\\n\")\n",
    "\n",
    "check_negative_numbers([1, 2, 3])\n",
    "check_negative_numbers([1, -5, 3])"
   ]
  },
  {
   "cell_type": "code",
   "execution_count": 25,
   "id": "14d1b737",
   "metadata": {},
   "outputs": [
    {
     "name": "stdout",
     "output_type": "stream",
     "text": [
      "Caught an exception: Something went wrong inside risky_function!\n",
      "Execution of call_function() is complete.\n",
      "\n"
     ]
    }
   ],
   "source": [
    "#  11 : Exception Handling in Function Calls\n",
    "\n",
    "def risky_function():\n",
    "    raise ValueError(\"Something went wrong inside risky_function!\")\n",
    "\n",
    "def call_function():\n",
    "    try:\n",
    "        risky_function()\n",
    "    except ValueError as e:\n",
    "        print(\"Caught an exception:\", e)\n",
    "    finally:\n",
    "        print(\"Execution of call_function() is complete.\\n\")\n",
    "\n",
    "call_function()"
   ]
  },
  {
   "cell_type": "code",
   "execution_count": 26,
   "id": "17cf1595",
   "metadata": {},
   "outputs": [
    {
     "name": "stdout",
     "output_type": "stream",
     "text": [
      "Result: 5.0\n",
      "Execution of divide() method is complete.\n",
      "\n",
      "Error: Division by zero.\n",
      "Execution of divide() method is complete.\n",
      "\n"
     ]
    }
   ],
   "source": [
    "#  12 : Exception Handling in Class Methods\n",
    "\n",
    "class Divider:\n",
    "    def divide(self, a, b):\n",
    "        try:\n",
    "            result = a / b\n",
    "            print(\"Result:\", result)\n",
    "        except ZeroDivisionError:\n",
    "            print(\"Error: Division by zero.\")\n",
    "        finally:\n",
    "            print(\"Execution of divide() method is complete.\\n\")\n",
    "\n",
    "d = Divider()\n",
    "d.divide(10, 2)\n",
    "d.divide(10, 0)"
   ]
  },
  {
   "cell_type": "code",
   "execution_count": 27,
   "id": "8526be1f",
   "metadata": {},
   "outputs": [
    {
     "name": "stdout",
     "output_type": "stream",
     "text": [
      "Converted list: [1, 2, 3]\n",
      "Execution of convert_to_integers() is complete.\n",
      "\n",
      "Error: List contains non-convertible values.\n",
      "Execution of convert_to_integers() is complete.\n",
      "\n"
     ]
    }
   ],
   "source": [
    "# 13 : Exception Handling in Data Conversion\n",
    "def convert_to_integers(lst):\n",
    "    try:\n",
    "        converted = [int(x) for x in lst]\n",
    "        print(\"Converted list:\", converted)\n",
    "    except ValueError:\n",
    "        print(\"Error: List contains non-convertible values.\")\n",
    "    finally:\n",
    "        print(\"Execution of convert_to_integers() is complete.\\n\")\n",
    "\n",
    "convert_to_integers([\"1\", \"2\", \"3\"])\n",
    "convert_to_integers([\"1\", \"two\", \"3\"])"
   ]
  },
  {
   "cell_type": "code",
   "execution_count": 28,
   "id": "86841517",
   "metadata": {},
   "outputs": [
    {
     "name": "stdout",
     "output_type": "stream",
     "text": [
      "Converted list: [10, 20, 30]\n",
      "Execution of safe_list_conversion() is complete.\n",
      "\n",
      "Error: One or more elements could not be converted to int.\n",
      "Execution of safe_list_conversion() is complete.\n",
      "\n"
     ]
    }
   ],
   "source": [
    "# 14 : Exception Handling in List Comprehensions\n",
    "\n",
    "def safe_list_conversion(lst):\n",
    "    try:\n",
    "        converted = [int(x) for x in lst]\n",
    "        print(\"Converted list:\", converted)\n",
    "    except ValueError:\n",
    "        print(\"Error: One or more elements could not be converted to int.\")\n",
    "    finally:\n",
    "        print(\"Execution of safe_list_conversion() is complete.\\n\")\n",
    "\n",
    "safe_list_conversion([\"10\", \"20\", \"30\"])\n",
    "safe_list_conversion([\"10\", \"abc\", \"30\"])"
   ]
  },
  {
   "cell_type": "code",
   "execution_count": 29,
   "id": "e9009dc3",
   "metadata": {},
   "outputs": [
    {
     "name": "stdout",
     "output_type": "stream",
     "text": [
      "Data written successfully.\n",
      "File closed successfully.\n",
      "\n"
     ]
    }
   ],
   "source": [
    "# 15 : Exception Handling in File Writing\n",
    "def write_to_file(data):\n",
    "    try:\n",
    "        file = open(\"example1.txt\", \"w\")\n",
    "        for line in data:\n",
    "            file.write(line + \"\\n\")\n",
    "        print(\"Data written successfully.\")\n",
    "    except IOError:\n",
    "        print(\"Error: Unable to write to file.\")\n",
    "    finally:\n",
    "        try:\n",
    "            file.close()\n",
    "            print(\"File closed successfully.\\n\")\n",
    "        except:\n",
    "            print(\"File could not be closed.\\n\")\n",
    "\n",
    "write_to_file([\"Hello\", \"World\", \"Python\"])"
   ]
  }
 ],
 "metadata": {
  "kernelspec": {
   "display_name": "Python 3",
   "language": "python",
   "name": "python3"
  },
  "language_info": {
   "codemirror_mode": {
    "name": "ipython",
    "version": 3
   },
   "file_extension": ".py",
   "mimetype": "text/x-python",
   "name": "python",
   "nbconvert_exporter": "python",
   "pygments_lexer": "ipython3",
   "version": "3.13.5"
  }
 },
 "nbformat": 4,
 "nbformat_minor": 5
}
