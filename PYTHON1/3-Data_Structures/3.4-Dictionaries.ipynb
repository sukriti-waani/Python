{
 "cells": [
  {
   "cell_type": "markdown",
   "id": "59d8239d",
   "metadata": {},
   "source": [
    "#### Dictionaries\n",
    "\n",
    "Dictionaries are unordered collections of items. They store data in key-value pairs. Keys must be unique and immutable (e.g. strings, numbers or tuples), while values can be of any type.\n",
    "\n"
   ]
  },
  {
   "cell_type": "code",
   "execution_count": 1,
   "id": "cf045986",
   "metadata": {},
   "outputs": [
    {
     "name": "stdout",
     "output_type": "stream",
     "text": [
      "<class 'dict'>\n"
     ]
    }
   ],
   "source": [
    "# Creating Dictionaries\n",
    "\n",
    "empty_dict = {}\n",
    "print(type(empty_dict))"
   ]
  },
  {
   "cell_type": "code",
   "execution_count": 2,
   "id": "93f23005",
   "metadata": {},
   "outputs": [
    {
     "data": {
      "text/plain": [
       "{}"
      ]
     },
     "execution_count": 2,
     "metadata": {},
     "output_type": "execute_result"
    }
   ],
   "source": [
    "empty_dict = dict()\n",
    "empty_dict"
   ]
  },
  {
   "cell_type": "code",
   "execution_count": 4,
   "id": "a2c4ef69",
   "metadata": {},
   "outputs": [
    {
     "name": "stdout",
     "output_type": "stream",
     "text": [
      "{'name': 'Suk', 'age': 19, 'grade': 24}\n",
      "<class 'dict'>\n"
     ]
    }
   ],
   "source": [
    "student = {\"name\": \"Suk\", \"age\": 19, \"grade\": 24}\n",
    "print(student)\n",
    "print(type(student))"
   ]
  },
  {
   "cell_type": "code",
   "execution_count": 5,
   "id": "ea034a3a",
   "metadata": {},
   "outputs": [
    {
     "name": "stdout",
     "output_type": "stream",
     "text": [
      "{'name': 24, 'age': 19}\n"
     ]
    }
   ],
   "source": [
    "# Single key is always used\n",
    "student = {\"name\": \"Suk\", \"age\": 19, \"name\": 24}\n",
    "print(student)"
   ]
  },
  {
   "cell_type": "code",
   "execution_count": 6,
   "id": "ba54a59c",
   "metadata": {},
   "outputs": [
    {
     "name": "stdout",
     "output_type": "stream",
     "text": [
      "{'name': 'Suk', 'age': 19, 'grade': 'A'}\n"
     ]
    }
   ],
   "source": [
    "student = {\"name\": \"Suk\", \"age\": 19, \"grade\": \"A\"}\n",
    "print(student)"
   ]
  },
  {
   "cell_type": "code",
   "execution_count": 7,
   "id": "62a0509f",
   "metadata": {},
   "outputs": [
    {
     "name": "stdout",
     "output_type": "stream",
     "text": [
      "A\n",
      "19\n",
      "A\n",
      "None\n",
      "Not Available\n"
     ]
    }
   ],
   "source": [
    "## Accessing Dictionary Elements\n",
    "print(student['grade'])\n",
    "print(student['age'])\n",
    "\n",
    "## Accessing using get() method\n",
    "print(student.get('grade'))\n",
    "print(student.get('last_name'))\n",
    "print(student.get('last_name', \"Not Available\"))"
   ]
  },
  {
   "cell_type": "code",
   "execution_count": 8,
   "id": "96f44cc7",
   "metadata": {},
   "outputs": [
    {
     "name": "stdout",
     "output_type": "stream",
     "text": [
      "{'name': 'Suk', 'age': 19, 'grade': 'A'}\n"
     ]
    }
   ],
   "source": [
    "# Modifying Dictionary Elements\n",
    "# Dictionary are mutable, sp we can add, update or delete elements\n",
    "\n",
    "print(student)"
   ]
  },
  {
   "cell_type": "code",
   "execution_count": 9,
   "id": "d7e99d5f",
   "metadata": {},
   "outputs": [
    {
     "name": "stdout",
     "output_type": "stream",
     "text": [
      "{'name': 'Suk', 'age': 20, 'grade': 'A'}\n",
      "{'name': 'Suk', 'age': 20, 'grade': 'A', 'address': 'India'}\n"
     ]
    }
   ],
   "source": [
    "student[\"age\"] = 20  # Update value for the key\n",
    "print(student)\n",
    "\n",
    "student[\"address\"] = \"India\"  # Added a new key and value\n",
    "print(student)"
   ]
  },
  {
   "cell_type": "code",
   "execution_count": 10,
   "id": "e3662593",
   "metadata": {},
   "outputs": [
    {
     "name": "stdout",
     "output_type": "stream",
     "text": [
      "{'name': 'Suk', 'age': 20, 'address': 'India'}\n"
     ]
    }
   ],
   "source": [
    "del student['grade'] # delete key and value pair\n",
    "print(student)"
   ]
  },
  {
   "cell_type": "markdown",
   "id": "005335b1",
   "metadata": {},
   "source": [
    "#### DICTIONARY METHODS"
   ]
  },
  {
   "cell_type": "code",
   "execution_count": 11,
   "id": "0c6cd856",
   "metadata": {},
   "outputs": [
    {
     "name": "stdout",
     "output_type": "stream",
     "text": [
      "dict_keys(['name', 'age', 'address'])\n",
      "dict_values(['Suk', 20, 'India'])\n",
      "dict_items([('name', 'Suk'), ('age', 20), ('address', 'India')])\n"
     ]
    }
   ],
   "source": [
    "keys = student.keys()\n",
    "print(keys)\n",
    "\n",
    "values = student.values()\n",
    "print(values)\n",
    "\n",
    "items = student.items()\n",
    "print(items)"
   ]
  },
  {
   "cell_type": "code",
   "execution_count": 12,
   "id": "2818a3f7",
   "metadata": {},
   "outputs": [
    {
     "name": "stdout",
     "output_type": "stream",
     "text": [
      "{'name': 'Suk', 'age': 20, 'address': 'India'}\n",
      "{'name': 'Suk', 'age': 20, 'address': 'India'}\n"
     ]
    }
   ],
   "source": [
    "# Shallow Copy\n",
    "\n",
    "student_copy = student\n",
    "print(student)\n",
    "print(student_copy)"
   ]
  },
  {
   "cell_type": "code",
   "execution_count": 13,
   "id": "50e2eaab",
   "metadata": {},
   "outputs": [
    {
     "name": "stdout",
     "output_type": "stream",
     "text": [
      "{'name': 'Suk2', 'age': 20, 'address': 'India'}\n",
      "{'name': 'Suk2', 'age': 20, 'address': 'India'}\n"
     ]
    }
   ],
   "source": [
    "student[\"name\"] = \"Suk2\"\n",
    "print(student)\n",
    "print(student_copy)"
   ]
  },
  {
   "cell_type": "code",
   "execution_count": 14,
   "id": "36fc654a",
   "metadata": {},
   "outputs": [
    {
     "name": "stdout",
     "output_type": "stream",
     "text": [
      "{'name': 'Suk2', 'age': 20, 'address': 'India'}\n",
      "{'name': 'Suk2', 'age': 20, 'address': 'India'}\n"
     ]
    }
   ],
   "source": [
    "student_copy1 = student.copy() # Shallow Copy\n",
    "print(student_copy1)\n",
    "print(student)"
   ]
  },
  {
   "cell_type": "code",
   "execution_count": 15,
   "id": "35952eae",
   "metadata": {},
   "outputs": [
    {
     "name": "stdout",
     "output_type": "stream",
     "text": [
      "{'name': 'Suk2', 'age': 20, 'address': 'India'}\n",
      "{'name': 'Suk3', 'age': 20, 'address': 'India'}\n"
     ]
    }
   ],
   "source": [
    "student[\"name\"] = \"Suk3\"\n",
    "print(student_copy1)\n",
    "print(student)"
   ]
  },
  {
   "cell_type": "code",
   "execution_count": 26,
   "id": "b6d6df95",
   "metadata": {},
   "outputs": [
    {
     "name": "stdout",
     "output_type": "stream",
     "text": [
      "name\n",
      "age\n",
      "address\n"
     ]
    }
   ],
   "source": [
    "### Iterating Over Dictionaries\n",
    "## We can use loops to iterative over dictionaries, keys, vales, or items\n",
    "\n",
    "## Iterating Over keys\n",
    "for keys in student.keys():\n",
    "  print(keys)"
   ]
  },
  {
   "cell_type": "code",
   "execution_count": 16,
   "id": "804d0f25",
   "metadata": {},
   "outputs": [
    {
     "name": "stdout",
     "output_type": "stream",
     "text": [
      "Suk3\n",
      "20\n",
      "India\n"
     ]
    }
   ],
   "source": [
    "# Iterate over values\n",
    "\n",
    "for value in student.values():\n",
    "  print(value)"
   ]
  },
  {
   "cell_type": "code",
   "execution_count": 18,
   "id": "47d50922",
   "metadata": {},
   "outputs": [
    {
     "name": "stdout",
     "output_type": "stream",
     "text": [
      "name: Suk3\n",
      "age: 20\n",
      "address: India\n"
     ]
    }
   ],
   "source": [
    "# Iterate over key value pairs\n",
    "\n",
    "for key, value in student.items():\n",
    "  print(f\"{key}: {value}\")"
   ]
  },
  {
   "cell_type": "markdown",
   "id": "53cbcff8",
   "metadata": {},
   "source": [
    "##### NESTED DICTIONARIES"
   ]
  },
  {
   "cell_type": "code",
   "execution_count": 20,
   "id": "9ba55a96",
   "metadata": {},
   "outputs": [
    {
     "name": "stdout",
     "output_type": "stream",
     "text": [
      "{'student1': {'name': 'Suk', 'age': 19}, 'student2': {'name': 'Waani', 'age': 20}}\n"
     ]
    }
   ],
   "source": [
    "students = {\n",
    "  \"student1\": {\"name\": \"Suk\", \"age\": 19},\n",
    "  \"student2\": {\"name\": \"Waani\", \"age\": 20}\n",
    "}\n",
    "\n",
    "print(students)"
   ]
  },
  {
   "cell_type": "code",
   "execution_count": 21,
   "id": "edb1cbc6",
   "metadata": {},
   "outputs": [
    {
     "name": "stdout",
     "output_type": "stream",
     "text": [
      "Waani\n",
      "19\n"
     ]
    }
   ],
   "source": [
    "## Access Nested Dictionaries elements\n",
    "\n",
    "print(students[\"student2\"][\"name\"])\n",
    "print(students[\"student1\"][\"age\"])"
   ]
  },
  {
   "cell_type": "code",
   "execution_count": 22,
   "id": "ebadad19",
   "metadata": {},
   "outputs": [
    {
     "data": {
      "text/plain": [
       "dict_items([('student1', {'name': 'Suk', 'age': 19}), ('student2', {'name': 'Waani', 'age': 20})])"
      ]
     },
     "execution_count": 22,
     "metadata": {},
     "output_type": "execute_result"
    }
   ],
   "source": [
    "students.items()"
   ]
  },
  {
   "cell_type": "code",
   "execution_count": 24,
   "id": "8cf782ab",
   "metadata": {},
   "outputs": [
    {
     "name": "stdout",
     "output_type": "stream",
     "text": [
      "student1:{'name': 'Suk', 'age': 19}\n",
      "name:Suk\n",
      "age:19\n",
      "student2:{'name': 'Waani', 'age': 20}\n",
      "name:Waani\n",
      "age:20\n"
     ]
    }
   ],
   "source": [
    "## Iterating over nested dictionaries\n",
    "\n",
    "for student_id, student_info in students.items():\n",
    "  print(f\"{student_id}:{student_info}\")\n",
    "  for key, value in student_info.items():\n",
    "    print(f\"{key}:{value}\")"
   ]
  },
  {
   "cell_type": "markdown",
   "id": "0e13b8d9",
   "metadata": {},
   "source": [
    "DICTIONARY COMPREHENSION"
   ]
  },
  {
   "cell_type": "code",
   "execution_count": 1,
   "id": "b62f74c8",
   "metadata": {},
   "outputs": [
    {
     "name": "stdout",
     "output_type": "stream",
     "text": [
      "{0: 0, 1: 1, 2: 4, 3: 9, 4: 16}\n"
     ]
    }
   ],
   "source": [
    "squares = {x : x**2 for x in range(5)}\n",
    "print(squares)"
   ]
  },
  {
   "cell_type": "code",
   "execution_count": 2,
   "id": "728c7358",
   "metadata": {},
   "outputs": [
    {
     "name": "stdout",
     "output_type": "stream",
     "text": [
      "{0: 0, 2: 4, 4: 16, 6: 36, 8: 64}\n"
     ]
    }
   ],
   "source": [
    "## Condition Dictionary Comprehension\n",
    "\n",
    "evens = {x : x**2 for x in range(10) if x % 2 == 0}\n",
    "print(evens)"
   ]
  },
  {
   "cell_type": "code",
   "execution_count": 4,
   "id": "002db8bd",
   "metadata": {},
   "outputs": [
    {
     "name": "stdout",
     "output_type": "stream",
     "text": [
      "{1: 1, 2: 3, 3: 3, 4: 5}\n"
     ]
    }
   ],
   "source": [
    "## Practical Examples\n",
    "\n",
    "# Use a dictionary to count the dictionary of elements in list\n",
    "\n",
    "num = [1,2,2,2,3,3,3,4,4,4,4,4]\n",
    "frequency = {}\n",
    "\n",
    "for n in num:\n",
    "  if n in frequency:\n",
    "    frequency[n] += 1\n",
    "  else:\n",
    "    frequency[n] = 1\n",
    "print(frequency)"
   ]
  },
  {
   "cell_type": "code",
   "execution_count": 7,
   "id": "edfe8da0",
   "metadata": {},
   "outputs": [
    {
     "name": "stdout",
     "output_type": "stream",
     "text": [
      "{'a': 1, 'b': 3, 'c': 4}\n"
     ]
    }
   ],
   "source": [
    "# Merge two dictionaries into one\n",
    "\n",
    "dict1 = {\"a\":1, \"b\":2}\n",
    "dict2 = {\"b\":3, \"c\":4}\n",
    "merged_dict = {**dict1, **dict2}\n",
    "print(merged_dict)"
   ]
  }
 ],
 "metadata": {
  "kernelspec": {
   "display_name": "Python 3",
   "language": "python",
   "name": "python3"
  },
  "language_info": {
   "codemirror_mode": {
    "name": "ipython",
    "version": 3
   },
   "file_extension": ".py",
   "mimetype": "text/x-python",
   "name": "python",
   "nbconvert_exporter": "python",
   "pygments_lexer": "ipython3",
   "version": "3.13.5"
  }
 },
 "nbformat": 4,
 "nbformat_minor": 5
}
