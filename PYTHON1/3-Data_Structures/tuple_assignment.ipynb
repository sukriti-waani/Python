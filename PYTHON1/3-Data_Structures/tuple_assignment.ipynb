{
 "cells": [
  {
   "cell_type": "markdown",
   "id": "6cade624",
   "metadata": {},
   "source": [
    "# Module 3: Data Structures Assignments\n",
    "## Lesson 3.2: Tuples\n",
    "### Assignment 1: Creating and Accessing Tuples\n",
    "\n",
    "Create a tuple with the first 10 positive integers. Print the tuple.\n",
    "\n",
    "### Assignment 2: Accessing Tuple Elements\n",
    "\n",
    "Print the first, middle, and last elements of the tuple created in Assignment 1.\n",
    "\n",
    "### Assignment 3: Tuple Slicing\n",
    "\n",
    "Print the first three elements, the last three elements, and the elements from index 2 to 5 of the tuple created in Assignment 1.\n",
    "\n",
    "### Assignment 4: Nested Tuples\n",
    "\n",
    "Create a nested tuple representing a 3x3 matrix and print the matrix. Access and print the element at the second row and third column.\n",
    "\n",
    "### Assignment 5: Tuple Concatenation\n",
    "\n",
    "Concatenate two tuples: (1, 2, 3) and (4, 5, 6). Print the resulting tuple.\n",
    "\n",
    "### Assignment 6: Tuple Methods\n",
    "\n",
    "Create a tuple with duplicate elements and count the occurrences of an element. Find the index of the first occurrence of an element in the tuple.\n",
    "\n",
    "### Assignment 7: Unpacking Tuples\n",
    "\n",
    "Create a tuple with 5 elements and unpack it into 5 variables. Print the variables.\n",
    "\n",
    "### Assignment 8: Tuple Conversion\n",
    "\n",
    "Convert a list of the first 5 positive integers to a tuple. Print the tuple.\n",
    "\n",
    "### Assignment 9: Tuple of Tuples\n",
    "\n",
    "Create a tuple containing 3 tuples, each with 3 elements. Print the tuple of tuples.\n",
    "\n",
    "### Assignment 10: Tuple and List\n",
    "\n",
    "Create a tuple with the first 5 positive integers. Convert it to a list, append the number 6, and convert it back to a tuple. Print the resulting tuple.\n",
    "\n",
    "### Assignment 11: Tuple and String\n",
    "\n",
    "Create a tuple with the characters of a string. Join the tuple elements into a single string. Print the string.\n",
    "\n",
    "### Assignment 12: Tuple and Dictionary\n",
    "\n",
    "Create a dictionary with tuple keys and integer values. Print the dictionary.\n",
    "\n",
    "### Assignment 13: Nested Tuple Iteration\n",
    "\n",
    "Create a nested tuple and iterate over the elements, printing each element.\n",
    "\n",
    "### Assignment 14: Tuple and Set\n",
    "\n",
    "Create a tuple with duplicate elements. Convert it to a set to remove duplicates and print the resulting set.\n",
    "\n",
    "### Assignment 15: Tuple Functions\n",
    "\n",
    "Write functions that take a tuple and return the minimum, maximum, and sum of the elements. Print the results for a sample tuple."
   ]
  },
  {
   "cell_type": "code",
   "execution_count": 1,
   "metadata": {},
   "outputs": [
    {
     "name": "stdout",
     "output_type": "stream",
     "text": [
      "Tuple of first 10 positive integers: (1, 2, 3, 4, 5, 6, 7, 8, 9, 10)\n"
     ]
    }
   ],
   "source": [
    "# 1: Creating and Accessing Tuples\n",
    "# Create a tuple with the first 10 positive integers.\n",
    "\n",
    "numbers = tuple(range(1, 11))\n",
    "print(\"Tuple of first 10 positive integers:\", numbers)"
   ]
  },
  {
   "cell_type": "code",
   "execution_count": 2,
   "id": "a32c3158",
   "metadata": {},
   "outputs": [
    {
     "name": "stdout",
     "output_type": "stream",
     "text": [
      "First element: 1\n",
      "Middle element: 6\n",
      "Last element: 10\n"
     ]
    }
   ],
   "source": [
    "# 2: Accessing Tuple Elements\n",
    "# Print first, middle, and last elements.\n",
    "\n",
    "# Assignment 2\n",
    "print(\"First element:\", numbers[0])\n",
    "print(\"Middle element:\", numbers[len(numbers)//2])\n",
    "print(\"Last element:\", numbers[-1])"
   ]
  },
  {
   "cell_type": "code",
   "execution_count": 3,
   "id": "28517e7f",
   "metadata": {},
   "outputs": [
    {
     "name": "stdout",
     "output_type": "stream",
     "text": [
      "First 3 elements: (1, 2, 3)\n",
      "Last 3 elements: (8, 9, 10)\n",
      "Elements from index 2 to 5: (3, 4, 5, 6)\n"
     ]
    }
   ],
   "source": [
    "# 3: Tuple Slicing\n",
    "# Print first 3, last 3, and elements from index 2 to 5.\n",
    "\n",
    "print(\"First 3 elements:\", numbers[:3])\n",
    "print(\"Last 3 elements:\", numbers[-3:])\n",
    "print(\"Elements from index 2 to 5:\", numbers[2:6])"
   ]
  },
  {
   "cell_type": "code",
   "execution_count": 4,
   "id": "8b5218fa",
   "metadata": {},
   "outputs": [
    {
     "name": "stdout",
     "output_type": "stream",
     "text": [
      "Matrix:\n",
      "(1, 2, 3)\n",
      "(4, 5, 6)\n",
      "(7, 8, 9)\n",
      "Element at 2nd row, 3rd column: 6\n"
     ]
    }
   ],
   "source": [
    "# 4: Nested Tuples\n",
    "# Create 3×3 matrix using nested tuple and access an element.\n",
    "\n",
    "matrix = (\n",
    "    (1, 2, 3),\n",
    "    (4, 5, 6),\n",
    "    (7, 8, 9)\n",
    ")\n",
    "\n",
    "print(\"Matrix:\")\n",
    "for row in matrix:\n",
    "    print(row)\n",
    "\n",
    "print(\"Element at 2nd row, 3rd column:\", matrix[1][2])"
   ]
  },
  {
   "cell_type": "code",
   "execution_count": 5,
   "id": "4a2cc3d6",
   "metadata": {},
   "outputs": [
    {
     "name": "stdout",
     "output_type": "stream",
     "text": [
      "Concatenated tuple: (1, 2, 3, 4, 5, 6)\n"
     ]
    }
   ],
   "source": [
    "# 5: Tuple Concatenation\n",
    "# Combine two tuples.\n",
    "\n",
    "t1 = (1, 2, 3)\n",
    "t2 = (4, 5, 6)\n",
    "result = t1 + t2\n",
    "print(\"Concatenated tuple:\", result)"
   ]
  },
  {
   "cell_type": "code",
   "execution_count": 6,
   "id": "97427d90",
   "metadata": {},
   "outputs": [
    {
     "name": "stdout",
     "output_type": "stream",
     "text": [
      "Tuple: (1, 2, 2, 3, 4, 2, 5)\n",
      "Count of 2: 3\n",
      "Index of first occurrence of 3: 3\n"
     ]
    }
   ],
   "source": [
    "# 6: Tuple Methods\n",
    "# Count and find index.\n",
    "\n",
    "t = (1, 2, 2, 3, 4, 2, 5)\n",
    "print(\"Tuple:\", t)\n",
    "print(\"Count of 2:\", t.count(2))\n",
    "print(\"Index of first occurrence of 3:\", t.index(3))"
   ]
  },
  {
   "cell_type": "code",
   "execution_count": 7,
   "id": "d09c2b56",
   "metadata": {},
   "outputs": [
    {
     "name": "stdout",
     "output_type": "stream",
     "text": [
      "Unpacked values: 10 20 30 40 50\n"
     ]
    }
   ],
   "source": [
    "# 7: Unpacking Tuples\n",
    "# Assign tuple elements to variables.\n",
    "\n",
    "t = (10, 20, 30, 40, 50)\n",
    "a, b, c, d, e = t\n",
    "print(\"Unpacked values:\", a, b, c, d, e)"
   ]
  },
  {
   "cell_type": "code",
   "execution_count": 8,
   "id": "82c78318",
   "metadata": {},
   "outputs": [
    {
     "name": "stdout",
     "output_type": "stream",
     "text": [
      "Converted tuple: (1, 2, 3, 4, 5)\n"
     ]
    }
   ],
   "source": [
    "# 8: Tuple Conversion\n",
    "# Convert list → tuple.\n",
    "\n",
    "lst = [1, 2, 3, 4, 5]\n",
    "t = tuple(lst)\n",
    "print(\"Converted tuple:\", t)"
   ]
  },
  {
   "cell_type": "code",
   "execution_count": 9,
   "id": "23b8ac35",
   "metadata": {},
   "outputs": [
    {
     "name": "stdout",
     "output_type": "stream",
     "text": [
      "Tuple of tuples: ((1, 2, 3), (4, 5, 6), (7, 8, 9))\n"
     ]
    }
   ],
   "source": [
    "# 9: Tuple of Tuples\n",
    "# Create tuple containing 3 tuples.\n",
    "\n",
    "tuple_of_tuples = ((1, 2, 3), (4, 5, 6), (7, 8, 9))\n",
    "print(\"Tuple of tuples:\", tuple_of_tuples)"
   ]
  },
  {
   "cell_type": "code",
   "execution_count": 10,
   "id": "41b4a468",
   "metadata": {},
   "outputs": [
    {
     "name": "stdout",
     "output_type": "stream",
     "text": [
      "Modified tuple: (1, 2, 3, 4, 5, 6)\n"
     ]
    }
   ],
   "source": [
    "# 10: Tuple and List\n",
    "# Convert tuple → list → modify → tuple again.\n",
    "\n",
    "t = (1, 2, 3, 4, 5)\n",
    "lst = list(t)\n",
    "lst.append(6)\n",
    "t = tuple(lst)\n",
    "print(\"Modified tuple:\", t)"
   ]
  },
  {
   "cell_type": "code",
   "execution_count": 11,
   "id": "d5dd7938",
   "metadata": {},
   "outputs": [
    {
     "name": "stdout",
     "output_type": "stream",
     "text": [
      "Tuple of characters: ('H', 'E', 'L', 'L', 'O')\n",
      "Joined string: HELLO\n"
     ]
    }
   ],
   "source": [
    "# 11: Tuple and String\n",
    "# Convert string → tuple → back to string.\n",
    "\n",
    "s = \"HELLO\"\n",
    "t = tuple(s)\n",
    "joined_string = ''.join(t)\n",
    "print(\"Tuple of characters:\", t)\n",
    "print(\"Joined string:\", joined_string)"
   ]
  },
  {
   "cell_type": "code",
   "execution_count": 12,
   "id": "3ac40c72",
   "metadata": {},
   "outputs": [
    {
     "name": "stdout",
     "output_type": "stream",
     "text": [
      "Dictionary with tuple keys: {(1, 2): 10, (3, 4): 20, (5, 6): 30}\n"
     ]
    }
   ],
   "source": [
    "# 12: Tuple and Dictionary\n",
    "# Dictionary with tuple keys.\n",
    "\n",
    "d = {\n",
    "    (1, 2): 10,\n",
    "    (3, 4): 20,\n",
    "    (5, 6): 30\n",
    "}\n",
    "print(\"Dictionary with tuple keys:\", d)\n"
   ]
  },
  {
   "cell_type": "code",
   "execution_count": 13,
   "id": "ac88875b",
   "metadata": {},
   "outputs": [
    {
     "name": "stdout",
     "output_type": "stream",
     "text": [
      "Nested tuple elements:\n",
      "1 2 3 4 5 6 "
     ]
    }
   ],
   "source": [
    "# 13: Nested Tuple Iteration\n",
    "# Print each element of nested tuple.\n",
    "\n",
    "nested_tuple = ((1, 2), (3, 4), (5, 6))\n",
    "print(\"Nested tuple elements:\")\n",
    "for sub_tuple in nested_tuple:\n",
    "    for item in sub_tuple:\n",
    "        print(item, end=' ')"
   ]
  },
  {
   "cell_type": "code",
   "execution_count": 14,
   "id": "39fcc10f",
   "metadata": {},
   "outputs": [
    {
     "name": "stdout",
     "output_type": "stream",
     "text": [
      "Set without duplicates: {1, 2, 3, 4, 5}\n"
     ]
    }
   ],
   "source": [
    "# 14: Tuple and Set\n",
    "# Remove duplicates using set.\n",
    "\n",
    "t = (1, 2, 2, 3, 4, 4, 5)\n",
    "unique_set = set(t)\n",
    "print(\"Set without duplicates:\", unique_set)"
   ]
  },
  {
   "cell_type": "code",
   "execution_count": 15,
   "id": "3c6b3e22",
   "metadata": {},
   "outputs": [
    {
     "name": "stdout",
     "output_type": "stream",
     "text": [
      "Tuple: (3, 7, 2, 9, 5)\n",
      "Minimum: 2\n",
      "Maximum: 9\n",
      "Sum: 26\n"
     ]
    }
   ],
   "source": [
    "# 15: Tuple Functions\n",
    "# Find min, max, and sum.\n",
    "\n",
    "def tuple_stats(t):\n",
    "    return min(t), max(t), sum(t)\n",
    "\n",
    "t = (3, 7, 2, 9, 5)\n",
    "minimum, maximum, total = tuple_stats(t)\n",
    "print(\"Tuple:\", t)\n",
    "print(\"Minimum:\", minimum)\n",
    "print(\"Maximum:\", maximum)\n",
    "print(\"Sum:\", total)"
   ]
  },
  {
   "cell_type": "code",
   "execution_count": null,
   "id": "f9df5a52",
   "metadata": {},
   "outputs": [],
   "source": []
  }
 ],
 "metadata": {
  "kernelspec": {
   "display_name": "Python 3",
   "language": "python",
   "name": "python3"
  },
  "language_info": {
   "codemirror_mode": {
    "name": "ipython",
    "version": 3
   },
   "file_extension": ".py",
   "mimetype": "text/x-python",
   "name": "python",
   "nbconvert_exporter": "python",
   "pygments_lexer": "ipython3",
   "version": "3.13.5"
  }
 },
 "nbformat": 4,
 "nbformat_minor": 5
}
