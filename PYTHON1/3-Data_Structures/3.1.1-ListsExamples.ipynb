{
 "cells": [
  {
   "cell_type": "markdown",
   "id": "8cbb2ac3",
   "metadata": {},
   "source": [
    "### Real-World Example Using Lists in Python\n",
    "\n",
    "Lists are one of the most commonly used data structures in Python, thanks to versatility and ease of use.\n",
    "Here are several practical examples that illustrate their use in real-world scenarios.\n",
    "\n",
    "\n",
    "##### Example 1. Manage A To Do List\n",
    "\n",
    "    Create a To do List To Keep Track Of Tasks"
   ]
  },
  {
   "cell_type": "code",
   "execution_count": 1,
   "id": "304a7fbb",
   "metadata": {},
   "outputs": [
    {
     "name": "stdout",
     "output_type": "stream",
     "text": [
      "Don't forget to pay the utility bills\n",
      "To Do List remaining\n",
      "-But Groceries\n",
      "-Pay bills\n",
      "-Schedule meeting\n",
      "-Go For a Run\n"
     ]
    }
   ],
   "source": [
    "to_do_list = [\"But Groceries\", \"Clean the house\", \"Pay bills\"]\n",
    "\n",
    "## Adding to task\n",
    "to_do_list.append(\"Schedule meeting\")\n",
    "to_do_list.append(\"Go For a Run\")\n",
    "\n",
    "## Removing a completed task\n",
    "to_do_list.remove(\"Clean the house\")\n",
    "\n",
    "## Checking if a task is in the list\n",
    "if \"Pay bills\" in to_do_list:\n",
    "  print(\"Don't forget to pay the utility bills\")\n",
    "\n",
    "print(\"To Do List remaining\")\n",
    "for task in to_do_list:\n",
    "  print(f\"-{task}\")"
   ]
  },
  {
   "cell_type": "markdown",
   "id": "41787cb7",
   "metadata": {},
   "source": [
    "##### Example 2: Organizing Student Grades\n",
    "\n",
    "    Create a list to store and calculate average grades for students"
   ]
  },
  {
   "cell_type": "code",
   "execution_count": 2,
   "id": "3242f610",
   "metadata": {},
   "outputs": [
    {
     "name": "stdout",
     "output_type": "stream",
     "text": [
      "Average Grade:  87.14\n",
      "Highest Grade: 95\n",
      "Lowest Grade: 75\n"
     ]
    }
   ],
   "source": [
    "# Organizing student grades\n",
    "grades = [85, 92, 75, 88, 90, 85]\n",
    "\n",
    "# Adding a new grade\n",
    "grades.append(95)\n",
    "\n",
    "# Calculating the average grade\n",
    "avg_grade = sum(grades) / len(grades)\n",
    "print(f\"Average Grade: {avg_grade: .2f}\")\n",
    "\n",
    "# Finding the highest and lowest grades\n",
    "highest_grade = max(grades)\n",
    "lowest_grade = min(grades)\n",
    "print(f\"Highest Grade: {highest_grade}\")\n",
    "print(f\"Lowest Grade: {lowest_grade}\")"
   ]
  },
  {
   "cell_type": "markdown",
   "id": "b10619fb",
   "metadata": {},
   "source": [
    "##### Example 3: Managing An Inventory\n",
    "    Use a list to manage inventory items in a store"
   ]
  },
  {
   "cell_type": "code",
   "execution_count": 4,
   "id": "ce113457",
   "metadata": {},
   "outputs": [
    {
     "name": "stdout",
     "output_type": "stream",
     "text": [
      "oranges are in stock.\n",
      "Inventory List: \n",
      "-apples\n",
      "-oranges\n",
      "-grapes\n",
      "-strawberries\n"
     ]
    }
   ],
   "source": [
    "# Managing an inventory\n",
    "inventory = [\"apples\", \"bananas\", \"oranges\", \"grapes\"]\n",
    "\n",
    "# Adding a new item\n",
    "inventory.append(\"strawberries\")\n",
    "\n",
    "# Removing an item that is out of stock\n",
    "inventory.remove(\"bananas\")\n",
    "\n",
    "# Checking if an item is in stock\n",
    "item = \"oranges\"\n",
    "if item in inventory:\n",
    "  print(f\"{item} are in stock.\")\n",
    "else:\n",
    "  print(f\"{item} are out of stock.\")\n",
    "\n",
    "# Printing the inventory\n",
    "print(\"Inventory List: \")\n",
    "for item in inventory:\n",
    "  print(f\"-{item}\")"
   ]
  }
 ],
 "metadata": {
  "kernelspec": {
   "display_name": "Python 3",
   "language": "python",
   "name": "python3"
  },
  "language_info": {
   "codemirror_mode": {
    "name": "ipython",
    "version": 3
   },
   "file_extension": ".py",
   "mimetype": "text/x-python",
   "name": "python",
   "nbconvert_exporter": "python",
   "pygments_lexer": "ipython3",
   "version": "3.13.5"
  }
 },
 "nbformat": 4,
 "nbformat_minor": 5
}
