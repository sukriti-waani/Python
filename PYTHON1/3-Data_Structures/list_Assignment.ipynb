{
 "cells": [
  {
   "cell_type": "markdown",
   "metadata": {},
   "source": [
    "# Module 3: Data Structures Assignments\n",
    "## Lesson 3.1: Lists\n",
    "### Assignment 1: Creating and Accessing Lists\n",
    "\n",
    "Create a list of the first 20 positive integers. Print the list.\n",
    "\n",
    "### Assignment 2: Accessing List Elements\n",
    "\n",
    "Print the first, middle, and last elements of the list created in Assignment 1.\n",
    "\n",
    "### Assignment 3: List Slicing\n",
    "\n",
    "Print the first five elements, the last five elements, and the elements from index 5 to 15 of the list created in Assignment 1.\n",
    "\n",
    "### Assignment 4: List Comprehensions\n",
    "\n",
    "Create a new list containing the squares of the first 10 positive integers using a list comprehension. Print the new list.\n",
    "\n",
    "### Assignment 5: Filtering Lists\n",
    "\n",
    "Create a new list containing only the even numbers from the list created in Assignment 1 using a list comprehension. Print the new list.\n",
    "\n",
    "### Assignment 6: List Methods\n",
    "\n",
    "Create a list of random numbers and sort it in ascending and descending order. Remove the duplicates from the list and print the modified list.\n",
    "\n",
    "### Assignment 7: Nested Lists\n",
    "\n",
    "Create a nested list representing a 3x3 matrix and print the matrix. Access and print the element at the second row and third column.\n",
    "\n",
    "### Assignment 8: List of Dictionaries\n",
    "\n",
    "Create a list of dictionaries where each dictionary represents a student with keys 'name' and 'score'. Sort the list of dictionaries by the 'score' in descending order and print the sorted list.\n",
    "\n",
    "### Assignment 9: Matrix Transposition\n",
    "\n",
    "Write a function that takes a 3x3 matrix (nested list) as input and returns its transpose. Print the original and transposed matrices.\n",
    "\n",
    "### Assignment 10: Flattening a Nested List\n",
    "\n",
    "Write a function that takes a nested list and flattens it into a single list. Print the original and flattened lists.\n",
    "\n",
    "### Assignment 11: List Manipulation\n",
    "\n",
    "Create a list of the first 10 positive integers. Remove the elements at indices 2, 4, and 6, and insert the element '99' at index 5. Print the modified list.\n",
    "\n",
    "### Assignment 12: List Zipping\n",
    "\n",
    "Create two lists of the same length. Use the `zip` function to combine these lists into a list of tuples and print the result.\n",
    "\n",
    "### Assignment 13: List Reversal\n",
    "\n",
    "Write a function that takes a list and returns a new list with the elements in reverse order. Print the original and reversed lists.\n",
    "\n",
    "### Assignment 14: List Rotation\n",
    "\n",
    "Write a function that rotates a list by n positions. Print the original and rotated lists.\n",
    "\n",
    "### Assignment 15: List Intersection\n",
    "\n",
    "Write a function that takes two lists and returns a new list containing only the elements that are present in both lists. Print the intersected list."
   ]
  },
  {
   "cell_type": "code",
   "execution_count": 1,
   "metadata": {},
   "outputs": [
    {
     "name": "stdout",
     "output_type": "stream",
     "text": [
      "List of first 20 positive integers:  [1, 2, 3, 4, 5, 6, 7, 8, 9, 10, 11, 12, 13, 14, 15, 16, 17, 18, 19, 20]\n"
     ]
    }
   ],
   "source": [
    "# 1: Create a list of the first 20 positive integers and print it.\n",
    "\n",
    "num = list(range(1,21))\n",
    "print(\"List of first 20 positive integers: \", num)"
   ]
  },
  {
   "cell_type": "code",
   "execution_count": 4,
   "id": "e568f88f",
   "metadata": {},
   "outputs": [
    {
     "name": "stdout",
     "output_type": "stream",
     "text": [
      "First element: 1\n",
      "Middle element: 11\n",
      "Last element: 20\n"
     ]
    }
   ],
   "source": [
    "# 2: Print first, middle, and last elements.\n",
    "\n",
    "print(\"First element:\", num[0])\n",
    "print(\"Middle element:\", num[len(num)//2])\n",
    "print(\"Last element:\", num[-1])"
   ]
  },
  {
   "cell_type": "code",
   "execution_count": 5,
   "id": "54d87106",
   "metadata": {},
   "outputs": [
    {
     "name": "stdout",
     "output_type": "stream",
     "text": [
      "First 5 elements: [1, 2, 3, 4, 5]\n",
      "Last 5 elements: [16, 17, 18, 19, 20]\n",
      "Elements from index 5 to 15: [6, 7, 8, 9, 10, 11, 12, 13, 14, 15, 16]\n"
     ]
    }
   ],
   "source": [
    "# 3: Print first 5, last 5, and elements from index 5 to 15.\n",
    "\n",
    "print(\"First 5 elements:\", num[:5])\n",
    "print(\"Last 5 elements:\", num[-5:])\n",
    "print(\"Elements from index 5 to 15:\", num[5:16])"
   ]
  },
  {
   "cell_type": "code",
   "execution_count": 6,
   "id": "fe4cd97d",
   "metadata": {},
   "outputs": [
    {
     "name": "stdout",
     "output_type": "stream",
     "text": [
      "Squares of first 10 integers: [1, 4, 9, 16, 25, 36, 49, 64, 81, 100]\n"
     ]
    }
   ],
   "source": [
    "# 4: Squares of first 10 positive integers.\n",
    "\n",
    "squares = [x ** 2 for x in range(1, 11)]\n",
    "print(\"Squares of first 10 integers:\", squares)"
   ]
  },
  {
   "cell_type": "code",
   "execution_count": 9,
   "id": "a71d6ce2",
   "metadata": {},
   "outputs": [
    {
     "name": "stdout",
     "output_type": "stream",
     "text": [
      "Even Numbers from List:  [2, 4, 6, 8, 10, 12, 14, 16, 18, 20]\n"
     ]
    }
   ],
   "source": [
    "# 5: Keep only even numbers.\n",
    "\n",
    "evenNum = [x for x in num if x % 2 == 0]\n",
    "print(\"Even Numbers from List: \", evenNum)"
   ]
  },
  {
   "cell_type": "code",
   "execution_count": 11,
   "id": "c7f53a7f",
   "metadata": {},
   "outputs": [
    {
     "name": "stdout",
     "output_type": "stream",
     "text": [
      "Original List:  [4, 7, 2, 9, 12, 1, 3, 10, 5, 2, 4, 12]\n",
      "Sorted ascending:  [1, 2, 2, 3, 4, 4, 5, 7, 9, 10, 12, 12]\n",
      "sorted descending:  [12, 12, 10, 9, 7, 5, 4, 4, 3, 2, 2, 1]\n",
      "List after removing duplicates: [1, 2, 3, 4, 5, 7, 9, 10, 12]\n"
     ]
    }
   ],
   "source": [
    "# 6: Create random list → sort → remove duplicates.\n",
    "\n",
    "randomNum = [4, 7, 2, 9, 12, 1, 3, 10, 5, 2, 4, 12]\n",
    "print(\"Original List: \", randomNum)\n",
    "\n",
    "randomNum.sort()\n",
    "print(\"Sorted ascending: \", randomNum)\n",
    "\n",
    "randomNum.sort(reverse=True)\n",
    "print(\"sorted descending: \", randomNum)\n",
    "\n",
    "unique = list(set(randomNum))\n",
    "print(\"List after removing duplicates:\", unique)"
   ]
  },
  {
   "cell_type": "code",
   "execution_count": 12,
   "id": "dd587abe",
   "metadata": {},
   "outputs": [
    {
     "name": "stdout",
     "output_type": "stream",
     "text": [
      "Matrix:\n",
      "[1, 2, 3]\n",
      "[4, 5, 6]\n",
      "[7, 8, 9]\n",
      "Element at 2nd row, 3rd column: 6\n"
     ]
    }
   ],
   "source": [
    "# 7: Create 3×3 matrix.\n",
    "\n",
    "matrix = [\n",
    "    [1, 2, 3],\n",
    "    [4, 5, 6],\n",
    "    [7, 8, 9]\n",
    "]\n",
    "\n",
    "print(\"Matrix:\")\n",
    "for row in matrix:\n",
    "    print(row)\n",
    "\n",
    "print(\"Element at 2nd row, 3rd column:\", matrix[1][2])"
   ]
  },
  {
   "cell_type": "code",
   "execution_count": null,
   "id": "6a956d18",
   "metadata": {},
   "outputs": [],
   "source": [
    "# 8: Students sorted by score.\n",
    "\n",
    "students = [\n",
    "    {'name': 'Alice', 'score': 88},\n",
    "    {'name': 'Bob', 'score': 72},\n",
    "    {'name': 'Charlie', 'score': 95},\n",
    "    {'name': 'David', 'score': 65},\n",
    "    {'name': 'Eve', 'score': 78}\n",
    "]\n",
    "sorted_students = sorted(students, key=lambda x: x['score'], reverse=True)\n",
    "print(\"Sorted students by score in descending order:\")\n",
    "for student in sorted_students:\n",
    "    print(student)"
   ]
  }
 ],
 "metadata": {
  "kernelspec": {
   "display_name": "Python 3",
   "language": "python",
   "name": "python3"
  },
  "language_info": {
   "codemirror_mode": {
    "name": "ipython",
    "version": 3
   },
   "file_extension": ".py",
   "mimetype": "text/x-python",
   "name": "python",
   "nbconvert_exporter": "python",
   "pygments_lexer": "ipython3",
   "version": "3.13.5"
  }
 },
 "nbformat": 4,
 "nbformat_minor": 5
}
