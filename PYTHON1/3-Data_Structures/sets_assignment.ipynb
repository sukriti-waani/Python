{
 "cells": [
  {
   "cell_type": "markdown",
   "id": "b93f9db9",
   "metadata": {},
   "source": [
    "# Module 3: Data Structures Assignments\n",
    "## Lesson 3.3: Sets\n",
    "### Assignment 1: Creating and Accessing Sets\n",
    "\n",
    "Create a set with the first 10 positive integers. Print the set.\n",
    "\n",
    "### Assignment 2: Adding and Removing Elements\n",
    "\n",
    "Add the number 11 to the set created in Assignment 1. Then remove the number 1 from the set. Print the modified set.\n",
    "\n",
    "### Assignment 3: Set Operations\n",
    "\n",
    "Create two sets: one with the first 5 positive integers and another with the first 5 even integers. Perform and print the results of union, intersection, difference, and symmetric difference operations on these sets.\n",
    "\n",
    "### Assignment 4: Set Comprehensions\n",
    "\n",
    "Create a new set containing the squares of the first 10 positive integers using a set comprehension. Print the new set.\n",
    "\n",
    "### Assignment 5: Filtering Sets\n",
    "\n",
    "Create a new set containing only the even numbers from the set created in Assignment 1 using a set comprehension. Print the new set.\n",
    "\n",
    "### Assignment 6: Set Methods\n",
    "\n",
    "Create a set with duplicate elements and remove the duplicates using set methods. Print the modified set.\n",
    "\n",
    "### Assignment 7: Subsets and Supersets\n",
    "\n",
    "Create two sets: one with the first 5 positive integers and another with the first 3 positive integers. Check if the second set is a subset of the first set and if the first set is a superset of the second set. Print the results.\n",
    "\n",
    "### Assignment 8: Frozenset\n",
    "\n",
    "Create a frozenset with the first 5 positive integers. Print the frozenset.\n",
    "\n",
    "### Assignment 9: Set and List Conversion\n",
    "\n",
    "Create a set with the first 5 positive integers. Convert it to a list, append the number 6, and convert it back to a set. Print the resulting set.\n",
    "\n",
    "### Assignment 10: Set and Dictionary\n",
    "\n",
    "Create a dictionary with set keys and integer values. Print the dictionary.\n",
    "\n",
    "### Assignment 11: Iterating Over Sets\n",
    "\n",
    "Create a set and iterate over the elements, printing each element.\n",
    "\n",
    "### Assignment 12: Removing Elements from Sets\n",
    "\n",
    "Create a set and remove elements from it until it is empty. Print the set after each removal.\n",
    "\n",
    "### Assignment 13: Set Symmetric Difference Update\n",
    "\n",
    "Create two sets and update the first set with the symmetric difference of the two sets. Print the modified first set.\n",
    "\n",
    "### Assignment 14: Set Membership Testing\n",
    "\n",
    "Create a set and test if certain elements are present in the set. Print the results.\n",
    "\n",
    "### Assignment 15: Set of Tuples\n",
    "\n",
    "Create a set containing tuples, where each tuple contains two elements. Print the set."
   ]
  },
  {
   "cell_type": "code",
   "execution_count": 4,
   "id": "4e399112",
   "metadata": {},
   "outputs": [
    {
     "name": "stdout",
     "output_type": "stream",
     "text": [
      "Set of first 10 positive integers: {1, 2, 3, 4, 5, 6, 7, 8, 9, 10}\n"
     ]
    }
   ],
   "source": [
    "# 1: Creating and Accessing Sets\n",
    "# Create a set with the first 10 positive integers.\n",
    "\n",
    "numbers = set(range(1, 11))\n",
    "print(\"Set of first 10 positive integers:\", numbers)"
   ]
  },
  {
   "cell_type": "code",
   "execution_count": 5,
   "id": "b4de4fe2",
   "metadata": {},
   "outputs": [
    {
     "name": "stdout",
     "output_type": "stream",
     "text": [
      "Modified set: {2, 3, 4, 5, 6, 7, 8, 9, 10, 11}\n"
     ]
    }
   ],
   "source": [
    "# 2: Adding and Removing Elements\n",
    "# Add 11, remove 1.\n",
    "\n",
    "numbers.add(11)\n",
    "numbers.remove(1)\n",
    "print(\"Modified set:\", numbers)"
   ]
  },
  {
   "cell_type": "code",
   "execution_count": 6,
   "id": "d87e606b",
   "metadata": {},
   "outputs": [
    {
     "name": "stdout",
     "output_type": "stream",
     "text": [
      "Union: {1, 2, 3, 4, 5, 6, 8, 10}\n",
      "Intersection: {2, 4}\n",
      "Difference (set1 - set2): {1, 3, 5}\n",
      "Symmetric Difference: {1, 3, 5, 6, 8, 10}\n"
     ]
    }
   ],
   "source": [
    "# 3: Set Operations\n",
    "# Perform union, intersection, difference, symmetric difference.\n",
    "\n",
    "set1 = {1, 2, 3, 4, 5}\n",
    "set2 = {2, 4, 6, 8, 10}\n",
    "\n",
    "print(\"Union:\", set1 | set2)\n",
    "print(\"Intersection:\", set1 & set2)\n",
    "print(\"Difference (set1 - set2):\", set1 - set2)\n",
    "print(\"Symmetric Difference:\", set1 ^ set2)"
   ]
  },
  {
   "cell_type": "code",
   "execution_count": 7,
   "id": "5432d4de",
   "metadata": {},
   "outputs": [
    {
     "name": "stdout",
     "output_type": "stream",
     "text": [
      "Set of squares: {64, 1, 4, 36, 100, 9, 16, 49, 81, 25}\n"
     ]
    }
   ],
   "source": [
    "# 4: Set Comprehensions\n",
    "# Create set of squares using comprehension.\n",
    "\n",
    "squares = {x**2 for x in range(1, 11)}\n",
    "print(\"Set of squares:\", squares)"
   ]
  },
  {
   "cell_type": "code",
   "execution_count": 8,
   "id": "86585403",
   "metadata": {},
   "outputs": [
    {
     "name": "stdout",
     "output_type": "stream",
     "text": [
      "Even numbers set: {2, 4, 6, 8, 10}\n"
     ]
    }
   ],
   "source": [
    "# 5: Filtering Sets\n",
    "# Keep only even numbers using comprehension.\n",
    "\n",
    "evens = {x for x in range(1, 11) if x % 2 == 0}\n",
    "print(\"Even numbers set:\", evens)"
   ]
  },
  {
   "cell_type": "code",
   "execution_count": 9,
   "id": "6d4070fb",
   "metadata": {},
   "outputs": [
    {
     "name": "stdout",
     "output_type": "stream",
     "text": [
      "Set after removing duplicates: {1, 2, 3, 4, 5}\n"
     ]
    }
   ],
   "source": [
    "# 6: Set Methods\n",
    "#: Remove duplicates using set methods.\n",
    "\n",
    "dup_list = [1, 2, 2, 3, 4, 4, 5]\n",
    "unique_set = set(dup_list)\n",
    "print(\"Set after removing duplicates:\", unique_set)"
   ]
  },
  {
   "cell_type": "code",
   "execution_count": 12,
   "id": "be041ed4",
   "metadata": {},
   "outputs": [
    {
     "name": "stdout",
     "output_type": "stream",
     "text": [
      "True\n",
      "True\n"
     ]
    }
   ],
   "source": [
    "# 7: Subsets and Supersets\n",
    "# Check subset and superset.\n",
    "\n",
    "set_a = {1, 2, 3, 4, 5}\n",
    "set_b = {1, 2, 3}\n",
    "\n",
    "print(set_b.issubset(set_a))\n",
    "print(set_a.issuperset(set_b))"
   ]
  },
  {
   "cell_type": "code",
   "execution_count": null,
   "id": "c452d857",
   "metadata": {},
   "outputs": [
    {
     "name": "stdout",
     "output_type": "stream",
     "text": [
      "Frozenset: frozenset({1, 2, 3, 4, 5})\n"
     ]
    }
   ],
   "source": [
    "# 8: Frozenset are immutable — cannot add or remove elements.\n",
    "# Create frozenset (immutable set).\n",
    "\n",
    "fset = frozenset(range(1, 6))\n",
    "print(\"Frozenset:\", fset)"
   ]
  },
  {
   "cell_type": "code",
   "execution_count": 14,
   "id": "e7962f2d",
   "metadata": {},
   "outputs": [
    {
     "name": "stdout",
     "output_type": "stream",
     "text": [
      "Modified set: {1, 2, 3, 4, 5, 6}\n"
     ]
    }
   ],
   "source": [
    "# 9: Set and List Conversion\n",
    "# Convert set → list → modify → back to set.\n",
    "\n",
    "s = {1, 2, 3, 4, 5}\n",
    "lst = list(s)\n",
    "lst.append(6)\n",
    "s = set(lst)\n",
    "print(\"Modified set:\", s)"
   ]
  },
  {
   "cell_type": "code",
   "execution_count": 15,
   "id": "4736d07a",
   "metadata": {},
   "outputs": [
    {
     "name": "stdout",
     "output_type": "stream",
     "text": [
      "Dictionary with frozenset keys: {frozenset({1, 2}): 10, frozenset({3, 4}): 20}\n"
     ]
    }
   ],
   "source": [
    "# 10: Set and Dictionary\n",
    "# You can’t use sets as dictionary keys (they’re mutable).\n",
    "# Instead, use frozenset (immutable).\n",
    "\n",
    "d = {\n",
    "    frozenset({1, 2}): 10,\n",
    "    frozenset({3, 4}): 20\n",
    "}\n",
    "print(\"Dictionary with frozenset keys:\", d)"
   ]
  },
  {
   "cell_type": "code",
   "execution_count": 16,
   "id": "9a90476d",
   "metadata": {},
   "outputs": [
    {
     "name": "stdout",
     "output_type": "stream",
     "text": [
      "Elements of set:\n",
      "40\n",
      "10\n",
      "20\n",
      "30\n"
     ]
    }
   ],
   "source": [
    "# 11: Iterating Over Sets\n",
    "# Print each element.\n",
    "\n",
    "my_set = {10, 20, 30, 40}\n",
    "print(\"Elements of set:\")\n",
    "for element in my_set:\n",
    "    print(element)"
   ]
  },
  {
   "cell_type": "code",
   "execution_count": 17,
   "id": "c9cb6691",
   "metadata": {},
   "outputs": [
    {
     "name": "stdout",
     "output_type": "stream",
     "text": [
      "Set after removal: {2, 3, 4, 5}\n",
      "Set after removal: {3, 4, 5}\n",
      "Set after removal: {4, 5}\n",
      "Set after removal: {5}\n",
      "Set after removal: set()\n"
     ]
    }
   ],
   "source": [
    "# 12: Removing Elements from Sets\n",
    "#  Remove elements one by one until set is empty.\n",
    "\n",
    "# Assignment 12\n",
    "s = {1, 2, 3, 4, 5}\n",
    "while s:\n",
    "    s.pop()\n",
    "    print(\"Set after removal:\", s)"
   ]
  },
  {
   "cell_type": "code",
   "execution_count": 18,
   "id": "cf1eaa1f",
   "metadata": {},
   "outputs": [
    {
     "name": "stdout",
     "output_type": "stream",
     "text": [
      "Updated set after symmetric difference: {1, 2, 5, 6}\n"
     ]
    }
   ],
   "source": [
    "# 13: Set Symmetric Difference Update\n",
    "# Update first set with symmetric difference.\n",
    "\n",
    "a = {1, 2, 3, 4}\n",
    "b = {3, 4, 5, 6}\n",
    "a.symmetric_difference_update(b)\n",
    "print(\"Updated set after symmetric difference:\", a)"
   ]
  },
  {
   "cell_type": "code",
   "execution_count": 20,
   "id": "ae3a7c14",
   "metadata": {},
   "outputs": [
    {
     "name": "stdout",
     "output_type": "stream",
     "text": [
      "True\n",
      "False\n"
     ]
    }
   ],
   "source": [
    "# 14: Set Membership Testing\n",
    "# Check if certain elements exist.\n",
    "\n",
    "s = {2, 4, 6, 8, 10}\n",
    "print(4 in s)\n",
    "print(5 in s)"
   ]
  },
  {
   "cell_type": "code",
   "execution_count": 22,
   "id": "af148213",
   "metadata": {},
   "outputs": [
    {
     "name": "stdout",
     "output_type": "stream",
     "text": [
      "Set of tuples: {(1, 2), (3, 4), (5, 6)}\n"
     ]
    }
   ],
   "source": [
    "# 15: Set of Tuples\n",
    "# Create set containing tuples.\n",
    "\n",
    "set_of_tuples = {(1, 2), (3, 4), (5, 6)}\n",
    "print(\"Set of tuples:\", set_of_tuples)"
   ]
  }
 ],
 "metadata": {
  "kernelspec": {
   "display_name": "Python 3",
   "language": "python",
   "name": "python3"
  },
  "language_info": {
   "codemirror_mode": {
    "name": "ipython",
    "version": 3
   },
   "file_extension": ".py",
   "mimetype": "text/x-python",
   "name": "python",
   "nbconvert_exporter": "python",
   "pygments_lexer": "ipython3",
   "version": "3.13.5"
  }
 },
 "nbformat": 4,
 "nbformat_minor": 5
}
