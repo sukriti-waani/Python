{
 "cells": [
  {
   "cell_type": "markdown",
   "id": "a3b374a1",
   "metadata": {},
   "source": [
    "# Module 3: Data Structures Assignments\n",
    "## Lesson 3.4: Dictionaries\n",
    "### Assignment 1: Creating and Accessing Dictionaries\n",
    "\n",
    "Create a dictionary with the first 10 positive integers as keys and their squares as values. Print the dictionary.\n",
    "\n",
    "### Assignment 2: Accessing Dictionary Elements\n",
    "\n",
    "Print the value of the key 5 and the keys of the dictionary created in Assignment 1.\n",
    "\n",
    "### Assignment 3: Dictionary Methods\n",
    "\n",
    "Add a new key-value pair (11, 121) to the dictionary created in Assignment 1 and then remove the key-value pair with key 1. Print the modified dictionary.\n",
    "\n",
    "### Assignment 4: Iterating Over Dictionaries\n",
    "\n",
    "Iterate over the dictionary created in Assignment 1 and print each key-value pair.\n",
    "\n",
    "### Assignment 5: Dictionary Comprehensions\n",
    "\n",
    "Create a new dictionary containing the cubes of the first 10 positive integers using a dictionary comprehension. Print the new dictionary.\n",
    "\n",
    "### Assignment 6: Merging Dictionaries\n",
    "\n",
    "Create two dictionaries: one with keys as the first 5 positive integers and values as their squares, and another with keys as the next 5 positive integers and values as their squares. Merge these dictionaries into a single dictionary and print it.\n",
    "\n",
    "### Assignment 7: Nested Dictionaries\n",
    "\n",
    "Create a nested dictionary representing a student with keys 'name', 'age', 'grades', where 'grades' is another dictionary with keys 'math', 'science', and 'english'. Print the nested dictionary.\n",
    "\n",
    "### Assignment 8: Dictionary of Lists\n",
    "\n",
    "Create a dictionary where the keys are the first 5 positive integers and the values are lists containing the first 5 multiples of the key. Print the dictionary.\n",
    "\n",
    "### Assignment 9: Dictionary of Tuples\n",
    "\n",
    "Create a dictionary where the keys are the first 5 positive integers and the values are tuples containing the key and its square. Print the dictionary.\n",
    "\n",
    "### Assignment 10: Dictionary and List Conversion\n",
    "\n",
    "Create a dictionary with the first 5 positive integers as keys and their squares as values. Convert the dictionary to a list of tuples and print it.\n",
    "\n",
    "### Assignment 11: Dictionary Filtering\n",
    "\n",
    "Create a dictionary with the first 10 positive integers as keys and their squares as values. Create a new dictionary containing only the key-value pairs where the key is even. Print the new dictionary.\n",
    "\n",
    "### Assignment 12: Dictionary Key and Value Transformation\n",
    "\n",
    "Create a dictionary with the first 5 positive integers as keys and their squares as values. Create a new dictionary with keys and values swapped. Print the new dictionary.\n",
    "\n",
    "### Assignment 13: Default Dictionary\n",
    "\n",
    "Create a default dictionary where each key has a default value of an empty list. Add some elements to the lists and print the dictionary.\n",
    "\n",
    "### Assignment 14: Counting with Dictionaries\n",
    "\n",
    "Write a function that takes a string and returns a dictionary with the count of each character in the string. Print the dictionary.\n",
    "\n",
    "### Assignment 15: Dictionary and JSON\n",
    "\n",
    "Create a dictionary representing a book with keys 'title', 'author', 'year', and 'genre'. Convert the dictionary to a JSON string and print it."
   ]
  },
  {
   "cell_type": "code",
   "execution_count": 8,
   "id": "cbec6540",
   "metadata": {},
   "outputs": [
    {
     "name": "stdout",
     "output_type": "stream",
     "text": [
      "Squares = {1: 1, 2: 4, 3: 9, 4: 16, 5: 25, 6: 36, 7: 49, 8: 64, 9: 81, 10: 100}\n"
     ]
    }
   ],
   "source": [
    "# 1: Creating and Accessing Dictionaries\n",
    "\n",
    "numbers = {x: x**2 for x in range(1, 11)}\n",
    "print(\"Squares =\", numbers)\n"
   ]
  },
  {
   "cell_type": "code",
   "execution_count": 9,
   "id": "af653645",
   "metadata": {},
   "outputs": [
    {
     "name": "stdout",
     "output_type": "stream",
     "text": [
      "Value of key 5 = 25\n",
      "All keys in dictionary = [1, 2, 3, 4, 5, 6, 7, 8, 9, 10]\n"
     ]
    }
   ],
   "source": [
    "# 2: Accessing Dictionary Elements\n",
    "\n",
    "print(\"Value of key 5 =\", numbers[5])\n",
    "print(\"All keys in dictionary =\", list(numbers.keys()))"
   ]
  },
  {
   "cell_type": "code",
   "execution_count": 10,
   "id": "64019435",
   "metadata": {},
   "outputs": [
    {
     "name": "stdout",
     "output_type": "stream",
     "text": [
      "Modified dictionary = {2: 4, 3: 9, 4: 16, 5: 25, 6: 36, 7: 49, 8: 64, 9: 81, 10: 100, 11: 121}\n"
     ]
    }
   ],
   "source": [
    "# 3: Assignment 3: Dictionary Methods\n",
    "\n",
    "numbers[11] = 121\n",
    "numbers.pop(1)\n",
    "print(\"Modified dictionary =\", numbers)"
   ]
  },
  {
   "cell_type": "code",
   "execution_count": 11,
   "id": "8778860a",
   "metadata": {},
   "outputs": [
    {
     "name": "stdout",
     "output_type": "stream",
     "text": [
      "key-value pairs:\n",
      "2 : 4\n",
      "3 : 9\n",
      "4 : 16\n",
      "5 : 25\n",
      "6 : 36\n",
      "7 : 49\n",
      "8 : 64\n",
      "9 : 81\n",
      "10 : 100\n",
      "11 : 121\n"
     ]
    }
   ],
   "source": [
    "# Assignment 4: Iterating Over Dictionaries\n",
    "\n",
    "print(\"key-value pairs:\")\n",
    "for key, value in numbers.items():\n",
    "    print(key, \":\", value)"
   ]
  },
  {
   "cell_type": "code",
   "execution_count": 12,
   "id": "31bc4f8d",
   "metadata": {},
   "outputs": [
    {
     "name": "stdout",
     "output_type": "stream",
     "text": [
      "Cubes = {1: 1, 2: 8, 3: 27, 4: 64, 5: 125, 6: 216, 7: 343, 8: 512, 9: 729, 10: 1000}\n"
     ]
    }
   ],
   "source": [
    "# Assignment 5: Dictionary Comprehensions\n",
    "\n",
    "cubes = {x: x**3 for x in range(1, 11)}\n",
    "print(\"Cubes =\", cubes)"
   ]
  },
  {
   "cell_type": "code",
   "execution_count": 14,
   "id": "4e229225",
   "metadata": {},
   "outputs": [
    {
     "name": "stdout",
     "output_type": "stream",
     "text": [
      "Merged dictionary =  {1: 1, 2: 4, 3: 9, 4: 16, 5: 25, 6: 36, 7: 49, 8: 64, 9: 81, 10: 100}\n"
     ]
    }
   ],
   "source": [
    "# Assignment 6: Merging Dictionaries\n",
    "\n",
    "dict1 = {x: x**2 for x in range(1, 6)}\n",
    "dict2 = {x: x**2 for x in range(6, 11)}\n",
    "merged = dict1 | dict2   # merge using union operator\n",
    "print(\"Merged dictionary = \", merged)"
   ]
  },
  {
   "cell_type": "code",
   "execution_count": 16,
   "id": "6fb45f04",
   "metadata": {},
   "outputs": [
    {
     "name": "stdout",
     "output_type": "stream",
     "text": [
      "Nested student dictionary = {'name': 'Sukriti', 'age': 19, 'grades': {'math': 88, 'science': 92, 'english': 85}}\n"
     ]
    }
   ],
   "source": [
    "#  Assignment 7: Nested Dictionaries\n",
    "\n",
    "student = {\n",
    "    \"name\": \"Sukriti\",\n",
    "    \"age\": 19,\n",
    "    \"grades\": {\"math\": 88, \"science\": 92, \"english\": 85}\n",
    "}\n",
    "print(\"Nested student dictionary =\", student)"
   ]
  },
  {
   "cell_type": "code",
   "execution_count": 18,
   "id": "5447db2e",
   "metadata": {},
   "outputs": [
    {
     "name": "stdout",
     "output_type": "stream",
     "text": [
      "Dictionary of lists = {1: [1, 2, 3, 4, 5], 2: [2, 4, 6, 8, 10], 3: [3, 6, 9, 12, 15], 4: [4, 8, 12, 16, 20], 5: [5, 10, 15, 20, 25]}\n"
     ]
    }
   ],
   "source": [
    "# 8: Dictionary of Lists\n",
    "\n",
    "multiples = {x: [x*i for i in range(1, 6)] for x in range(1, 6)}\n",
    "print(\"Dictionary of lists =\", multiples)\n"
   ]
  },
  {
   "cell_type": "code",
   "execution_count": 19,
   "id": "18f56935",
   "metadata": {},
   "outputs": [
    {
     "name": "stdout",
     "output_type": "stream",
     "text": [
      "Dictionary of tuples = {1: (1, 1), 2: (2, 4), 3: (3, 9), 4: (4, 16), 5: (5, 25)}\n"
     ]
    }
   ],
   "source": [
    "# 9: Dictionary of Tuples\n",
    "\n",
    "tuples_dict = {x: (x, x**2) for x in range(1, 6)}\n",
    "print(\"Dictionary of tuples =\", tuples_dict)"
   ]
  },
  {
   "cell_type": "code",
   "execution_count": 20,
   "id": "ab50a44a",
   "metadata": {},
   "outputs": [
    {
     "name": "stdout",
     "output_type": "stream",
     "text": [
      "Dictionary converted to list of tuples = [(1, 1), (2, 4), (3, 9), (4, 16), (5, 25)]\n"
     ]
    }
   ],
   "source": [
    "# 10: Dictionary and List Conversion\n",
    "\n",
    "dict_to_list = list(dict1.items())\n",
    "print(\"Dictionary converted to list of tuples =\", dict_to_list)"
   ]
  },
  {
   "cell_type": "code",
   "execution_count": 22,
   "id": "521f1f2a",
   "metadata": {},
   "outputs": [
    {
     "name": "stdout",
     "output_type": "stream",
     "text": [
      "Filtered dictionary (even keys) = {2: 4, 4: 16, 6: 36, 8: 64, 10: 100}\n"
     ]
    }
   ],
   "source": [
    "# 11: Dictionary Filtering\n",
    "\n",
    "filtered = {k: v for k, v in numbers.items() if k % 2 == 0}\n",
    "print(\"Filtered dictionary (even keys) =\", filtered)"
   ]
  },
  {
   "cell_type": "code",
   "execution_count": 23,
   "id": "0f63a25b",
   "metadata": {},
   "outputs": [
    {
     "name": "stdout",
     "output_type": "stream",
     "text": [
      "Swapped key-value dictionary = {1: 1, 4: 2, 9: 3, 16: 4, 25: 5}\n"
     ]
    }
   ],
   "source": [
    "# 12: Dictionary Key and Value Transformation\n",
    "\n",
    "swap_dict = {v: k for k, v in dict1.items()}\n",
    "print(\"Swapped key-value dictionary =\", swap_dict)"
   ]
  },
  {
   "cell_type": "code",
   "execution_count": 24,
   "id": "7952d100",
   "metadata": {},
   "outputs": [
    {
     "name": "stdout",
     "output_type": "stream",
     "text": [
      "Default dictionary = {'fruits': ['apple', 'banana'], 'colors': ['blue']}\n"
     ]
    }
   ],
   "source": [
    "# 13: Default Dictionary\n",
    "\n",
    "from collections import defaultdict\n",
    "d = defaultdict(list)\n",
    "d[\"fruits\"].extend([\"apple\", \"banana\"])\n",
    "d[\"colors\"].append(\"blue\")\n",
    "print(\"Default dictionary =\", dict(d))"
   ]
  },
  {
   "cell_type": "code",
   "execution_count": 26,
   "id": "3da35e8b",
   "metadata": {},
   "outputs": [
    {
     "name": "stdout",
     "output_type": "stream",
     "text": [
      "Character count = {'d': 1, 'i': 2, 'c': 1, 't': 1, 'o': 1, 'n': 1, 'a': 1, 'r': 1, 'y': 1}\n"
     ]
    }
   ],
   "source": [
    "# 14: Counting with Dictionaries\n",
    "\n",
    "def count_chars(s):\n",
    "    count = {}\n",
    "    for ch in s:\n",
    "        count[ch] = count.get(ch, 0) + 1\n",
    "    return count\n",
    "\n",
    "string = \"dictionary\"\n",
    "print(\"Character count =\", count_chars(string))"
   ]
  },
  {
   "cell_type": "code",
   "execution_count": 28,
   "id": "7f9cb647",
   "metadata": {},
   "outputs": [
    {
     "name": "stdout",
     "output_type": "stream",
     "text": [
      "JSON string:\n",
      " {\n",
      "  \"title\": \"Python Basics\",\n",
      "  \"author\": \"Guido van Rossum\",\n",
      "  \"year\": 2024,\n",
      "  \"genre\": \"Programming\"\n",
      "}\n"
     ]
    }
   ],
   "source": [
    "# 15: Dictionary and JSON\n",
    "\n",
    "import json\n",
    "book = {\n",
    "    \"title\": \"Python Basics\",\n",
    "    \"author\": \"Guido van Rossum\",\n",
    "    \"year\": 2024,\n",
    "    \"genre\": \"Programming\"\n",
    "}\n",
    "book_json = json.dumps(book, indent=2)\n",
    "print(\"JSON string:\\n\", book_json)"
   ]
  }
 ],
 "metadata": {
  "kernelspec": {
   "display_name": "Python 3",
   "language": "python",
   "name": "python3"
  },
  "language_info": {
   "codemirror_mode": {
    "name": "ipython",
    "version": 3
   },
   "file_extension": ".py",
   "mimetype": "text/x-python",
   "name": "python",
   "nbconvert_exporter": "python",
   "pygments_lexer": "ipython3",
   "version": "3.13.5"
  }
 },
 "nbformat": 4,
 "nbformat_minor": 5
}
