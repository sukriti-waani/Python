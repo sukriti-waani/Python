{
 "cells": [
  {
   "cell_type": "markdown",
   "id": "73c1340c",
   "metadata": {},
   "source": [
    "Abstraction is a concept of hiding the complex implementation details and showing only the necessary features og an object. \n",
    "This helps in reducing programming complexity and effort."
   ]
  },
  {
   "cell_type": "code",
   "execution_count": null,
   "id": "5527fb82",
   "metadata": {},
   "outputs": [
    {
     "name": "stdout",
     "output_type": "stream",
     "text": [
      "The vehicle is used for driving\n",
      "The car engine has started\n"
     ]
    }
   ],
   "source": [
    "from abc import ABC, abstractmethod\n",
    "# Importing 'ABC' (Abstract Base Class) and 'abstractmethod' from the 'abc' module.\n",
    "# These are used to create abstract classes and abstract methods in Python.\n",
    "# Abstract classes cannot be instantiated directly — they only serve as blueprints.\n",
    "\n",
    "\n",
    "# Abstract Base Class\n",
    "class Vehicle(ABC):                   # 'Vehicle' is an abstract class (cannot be directly instantiated)\n",
    "    def drive(self):                  # Normal (concrete) method with implementation\n",
    "        print(\"The vehicle is used for driving\")\n",
    "\n",
    "    @abstractmethod                   # Decorator — makes this method abstract\n",
    "    def start_engine(self):           # Abstract method — only declared, not defined\n",
    "        pass                          # Forces subclasses to provide their own implementation\n",
    "\n",
    "\n",
    "# Derived Class\n",
    "class Car(Vehicle):                   # 'Car' inherits from 'Vehicle'\n",
    "    def start_engine(self):           # Must define the abstract method from Vehicle\n",
    "        print(\"The car engine has started\")\n",
    "\n",
    "\n",
    "# Function that uses abstraction (works on any Vehicle type)\n",
    "def operate_vehicle(vehicle):         # Takes a 'Vehicle' object (could be Car, Bike, etc.)\n",
    "    vehicle.drive()                   # Calls the concrete method from Vehicle\n",
    "    vehicle.start_engine()            # Calls the overridden method from the subclass\n",
    "\n",
    "car = Car()                           # Create a 'Car' object (allowed because it defined start_engine)\n",
    "operate_vehicle(car)                  # Run both methods — shows abstraction in action\n"
   ]
  }
 ],
 "metadata": {
  "kernelspec": {
   "display_name": "Python 3",
   "language": "python",
   "name": "python3"
  },
  "language_info": {
   "codemirror_mode": {
    "name": "ipython",
    "version": 3
   },
   "file_extension": ".py",
   "mimetype": "text/x-python",
   "name": "python",
   "nbconvert_exporter": "python",
   "pygments_lexer": "ipython3",
   "version": "3.13.5"
  }
 },
 "nbformat": 4,
 "nbformat_minor": 5
}
