{
 "cells": [
  {
   "cell_type": "markdown",
   "metadata": {},
   "source": [
    "# Module: Inheritance Assignments\n",
    "## Lesson: Single and Multiple Inheritance\n",
    "### Assignment 1: Single Inheritance Basic\n",
    "\n",
    "Create a base class named `Animal` with attributes `name` and `species`. Create a derived class named `Dog` that inherits from `Animal` and adds an attribute `breed`. Create an object of the `Dog` class and print its attributes.\n",
    "\n",
    "### Assignment 2: Method Overriding in Single Inheritance\n",
    "\n",
    "In the `Dog` class, override the `__str__` method to return a string representation of the object. Create an object of the class and print it.\n",
    "\n",
    "### Assignment 3: Single Inheritance with Additional Methods\n",
    "\n",
    "In the `Dog` class, add a method named `bark` that prints a barking sound. Create an object of the class and call the method.\n",
    "\n",
    "### Assignment 4: Multiple Inheritance Basic\n",
    "\n",
    "Create a base class named `Walker` with a method `walk` that prints a walking message. Create another base class named `Runner` with a method `run` that prints a running message. Create a derived class named `Athlete` that inherits from both `Walker` and `Runner`. Create an object of the `Athlete` class and call both methods.\n",
    "\n",
    "### Assignment 5: Method Resolution Order (MRO) in Multiple Inheritance\n",
    "\n",
    "In the `Athlete` class, override the `walk` method to print a different message. Create an object of the class and call the `walk` method. Use the `super()` function to call the `walk` method of the `Walker` class.\n",
    "\n",
    "### Assignment 6: Multiple Inheritance with Additional Attributes\n",
    "\n",
    "In the `Athlete` class, add an attribute `training_hours` and a method `train` that prints the training hours. Create an object of the class and call the method.\n",
    "\n",
    "### Assignment 7: Diamond Problem in Multiple Inheritance\n",
    "\n",
    "Create a class named `A` with a method `show` that prints a message. Create two derived classes `B` and `C` that inherit from `A` and override the `show` method. Create a class `D` that inherits from both `B` and `C`. Create an object of the `D` class and call the `show` method. Observe the method resolution order.\n",
    "\n",
    "### Assignment 8: Using `super()` in Single Inheritance\n",
    "\n",
    "Create a base class named `Shape` with an attribute `color`. Create a derived class named `Circle` that inherits from `Shape` and adds an attribute `radius`. Use the `super()` function to initialize the attributes. Create an object of the `Circle` class and print its attributes.\n",
    "\n",
    "### Assignment 9: Using `super()` in Multiple Inheritance\n",
    "\n",
    "Create a class named `Person` with an attribute `name`. Create a class named `Employee` with an attribute `employee_id`. Create a derived class `Manager` that inherits from both `Person` and `Employee`. Use the `super()` function to initialize the attributes. Create an object of the `Manager` class and print its attributes.\n",
    "\n",
    "### Assignment 10: Method Overriding and `super()`\n",
    "\n",
    "Create a class named `Vehicle` with a method `start` that prints a starting message. Create a derived class `Car` that overrides the `start` method to print a different message. Use the `super()` function to call the `start` method of the `Vehicle` class. Create an object of the `Car` class and call the `start` method.\n",
    "\n",
    "### Assignment 11: Multiple Inheritance with Different Methods\n",
    "\n",
    "Create a class named `Flyer` with a method `fly` that prints a flying message. Create a class named `Swimmer` with a method `swim` that prints a swimming message. Create a derived class `Superhero` that inherits from both `Flyer` and `Swimmer`. Create an object of the `Superhero` class and call both methods.\n",
    "\n",
    "### Assignment 12: Complex Multiple Inheritance\n",
    "\n",
    "Create a class named `Base1` with an attribute `a`. Create a class named `Base2` with an attribute `b`. Create a class named `Derived` that inherits from both `Base1` and `Base2` and adds an attribute `c`. Initialize all attributes using the `super()` function. Create an object of the `Derived` class and print its attributes.\n",
    "\n",
    "### Assignment 13: Checking Instance Types with Inheritance\n",
    "\n",
    "Create a base class named `Animal` and a derived class named `Cat`. Create objects of both classes and use the `isinstance` function to check the instance types.\n",
    "\n",
    "### Assignment 14: Polymorphism with Inheritance\n",
    "\n",
    "Create a base class named `Bird` with a method `speak`. Create two derived classes `Parrot` and `Penguin` that override the `speak` method. Create a list of `Bird` objects and call the `speak` method on each object to demonstrate polymorphism.\n",
    "\n",
    "### Assignment 15: Combining Single and Multiple Inheritance\n",
    "\n",
    "Create a base class named `Device` with an attribute `brand`. Create a derived class `Phone` that inherits from `Device` and adds an attribute `model`. Create another base class `Camera` with an attribute `resolution`. Create a derived class `Smartphone` that inherits from both `Phone` and `Camera`. Create an object of the `Smartphone` class and print its attributes."
   ]
  },
  {
   "cell_type": "code",
   "execution_count": 1,
   "metadata": {},
   "outputs": [
    {
     "name": "stdout",
     "output_type": "stream",
     "text": [
      "Buddy\n",
      "Canine\n",
      "Golden Retriever\n"
     ]
    }
   ],
   "source": [
    "# 1: Single Inheritance Basic\n",
    "\n",
    "class Animal:\n",
    "  def __init__(self, name, species):\n",
    "    self.name = name\n",
    "    self.species = species\n",
    "\n",
    "class Dog(Animal):\n",
    "  def __init__(self, name, species, breed):\n",
    "    super().__init__(name, species)\n",
    "    self.breed = breed\n",
    "\n",
    "dog = Dog(\"Buddy\", \"Canine\", \"Golden Retriever\")\n",
    "print(dog.name)\n",
    "print(dog.species)\n",
    "print(dog.breed)"
   ]
  },
  {
   "cell_type": "code",
   "execution_count": 2,
   "id": "8b1a2522",
   "metadata": {},
   "outputs": [
    {
     "name": "stdout",
     "output_type": "stream",
     "text": [
      "Dog (Name: Max, Species: Canine, Breed: Beagle)\n"
     ]
    }
   ],
   "source": [
    "#  2: Method Overriding in Single Inheritance\n",
    "\n",
    "class DogStr(Animal):\n",
    "  def __init__(self, name, species, breed):\n",
    "    super().__init__(name, species)\n",
    "    self.breed = breed\n",
    "\n",
    "  def __str__(self):\n",
    "    return f\"Dog (Name: {self.name}, Species: {self.species}, Breed: {self.breed})\"\n",
    "  \n",
    "dog2 = DogStr(\"Max\", \"Canine\", \"Beagle\")\n",
    "print(dog2)"
   ]
  },
  {
   "cell_type": "code",
   "execution_count": 3,
   "id": "e0cff7aa",
   "metadata": {},
   "outputs": [
    {
     "name": "stdout",
     "output_type": "stream",
     "text": [
      "Woof!\n"
     ]
    }
   ],
   "source": [
    "# 3: Single Inheritance with Additional Methods\n",
    "\n",
    "class DogMethods(Animal):\n",
    "  def __init__(self, name, species, breed):\n",
    "    super().__init__(name, species)\n",
    "    self.breed = breed\n",
    "\n",
    "  def bark(self):\n",
    "    return \"Woof!\"\n",
    "  \n",
    "dog3 = DogMethods(\"Charlie\", \"Canine\", \"Bulldog\")\n",
    "print(dog3.bark())"
   ]
  },
  {
   "cell_type": "code",
   "execution_count": 5,
   "id": "72ec9af5",
   "metadata": {},
   "outputs": [
    {
     "name": "stdout",
     "output_type": "stream",
     "text": [
      "Walking...\n",
      "Running...\n"
     ]
    }
   ],
   "source": [
    "# 4: Multiple Inheritance Basic\n",
    "\n",
    "class Walker:\n",
    "    def walk(self):\n",
    "        print(\"Walking...\")\n",
    "\n",
    "class Runner:\n",
    "    def run(self):\n",
    "        print(\"Running...\")\n",
    "\n",
    "class Athlete(Walker, Runner):\n",
    "    pass\n",
    "\n",
    "athlete1 = Athlete()\n",
    "athlete1.walk()\n",
    "athlete1.run()"
   ]
  },
  {
   "cell_type": "code",
   "execution_count": 6,
   "id": "c0e8c3a0",
   "metadata": {},
   "outputs": [
    {
     "name": "stdout",
     "output_type": "stream",
     "text": [
      "Athlete walking...\n",
      "Walking...\n"
     ]
    }
   ],
   "source": [
    "# 5: Method Resolution Order (MRO) in Multiple Inheritance\n",
    "\n",
    "class Athlete(Walker, Runner):\n",
    "    def walk(self):\n",
    "        print(\"Athlete walking...\")\n",
    "        super().walk()\n",
    "\n",
    "athlete = Athlete()\n",
    "athlete.walk()"
   ]
  },
  {
   "cell_type": "code",
   "execution_count": 7,
   "id": "ffe03770",
   "metadata": {},
   "outputs": [
    {
     "name": "stdout",
     "output_type": "stream",
     "text": [
      "Training for 5 hours.\n"
     ]
    }
   ],
   "source": [
    "# 6: Multiple Inheritance with Additional Attributes\n",
    "\n",
    "class Athlete(Walker, Runner):\n",
    "    def __init__(self, training_hours):\n",
    "        self.training_hours = training_hours\n",
    "\n",
    "    def train(self):\n",
    "        print(f\"Training for {self.training_hours} hours.\")\n",
    "\n",
    "athlete = Athlete(5)\n",
    "athlete.train()"
   ]
  },
  {
   "cell_type": "code",
   "execution_count": 8,
   "id": "afa01e5d",
   "metadata": {},
   "outputs": [
    {
     "name": "stdout",
     "output_type": "stream",
     "text": [
      "B's show method\n"
     ]
    }
   ],
   "source": [
    "# 7: Diamond Problem in Multiple Inheritance\n",
    "\n",
    "class A:\n",
    "    def show(self):\n",
    "        print(\"A's show method\")\n",
    "\n",
    "class B(A):\n",
    "    def show(self):\n",
    "        print(\"B's show method\")\n",
    "\n",
    "class C(A):\n",
    "    def show(self):\n",
    "        print(\"C's show method\")\n",
    "\n",
    "class D(B, C):\n",
    "    pass\n",
    "\n",
    "d = D()\n",
    "d.show()"
   ]
  },
  {
   "cell_type": "code",
   "execution_count": 9,
   "id": "f6c2550d",
   "metadata": {},
   "outputs": [
    {
     "name": "stdout",
     "output_type": "stream",
     "text": [
      "Assignment 8:\n",
      "Circle color: red\n",
      "Circle radius: 5\n"
     ]
    }
   ],
   "source": [
    "# 8: Using super() in Single Inheritance\n",
    "\n",
    "class Shape:\n",
    "    def __init__(self, color):\n",
    "        self.color = color\n",
    "\n",
    "class Circle(Shape):\n",
    "    def __init__(self, color, radius):\n",
    "        super().__init__(color)\n",
    "        self.radius = radius\n",
    "\n",
    "circle = Circle(\"red\", 5)\n",
    "print(\"Assignment 8:\")\n",
    "print(\"Circle color:\", circle.color)\n",
    "print(\"Circle radius:\", circle.radius)"
   ]
  },
  {
   "cell_type": "code",
   "execution_count": 13,
   "id": "d5fd98c9",
   "metadata": {},
   "outputs": [
    {
     "name": "stdout",
     "output_type": "stream",
     "text": [
      "Adi\n",
      "ID123\n"
     ]
    }
   ],
   "source": [
    "#  9: Using super() in Multiple Inheritance\n",
    "\n",
    "class Person:\n",
    "    def __init__(self, name):\n",
    "        self.name = name\n",
    "\n",
    "class Employee:\n",
    "    def __init__(self, employee_id):\n",
    "        self.employee_id = employee_id\n",
    "\n",
    "class Manager(Person, Employee):\n",
    "    def __init__(self, name, employee_id):\n",
    "        super().__init__(name)\n",
    "        Employee.__init__(self, employee_id)\n",
    "\n",
    "manager = Manager('Adi', 'ID123')\n",
    "print(manager.name)\n",
    "print(manager.employee_id)"
   ]
  },
  {
   "cell_type": "code",
   "execution_count": 14,
   "id": "be8ca713",
   "metadata": {},
   "outputs": [
    {
     "name": "stdout",
     "output_type": "stream",
     "text": [
      "Car starting...\n",
      "Vehicle starting...\n"
     ]
    }
   ],
   "source": [
    "# 10: Method Overriding and super()\n",
    "\n",
    "class Vehicle:\n",
    "    def start(self):\n",
    "        print(\"Vehicle starting...\")\n",
    "\n",
    "class Car(Vehicle):\n",
    "    def start(self):\n",
    "        print(\"Car starting...\")\n",
    "        super().start()\n",
    "\n",
    "car = Car()\n",
    "car.start()"
   ]
  },
  {
   "cell_type": "code",
   "execution_count": 15,
   "id": "987a3ee8",
   "metadata": {},
   "outputs": [
    {
     "name": "stdout",
     "output_type": "stream",
     "text": [
      "Flying...\n",
      "Swimming...\n"
     ]
    }
   ],
   "source": [
    "# 11: Multiple Inheritance with Different Methods\n",
    "\n",
    "class Flyer:\n",
    "    def fly(self):\n",
    "        print(\"Flying...\")\n",
    "\n",
    "class Swimmer:\n",
    "    def swim(self):\n",
    "        print(\"Swimming...\")\n",
    "\n",
    "class Superhero(Flyer, Swimmer):\n",
    "    pass\n",
    "\n",
    "superhero = Superhero()\n",
    "superhero.fly()\n",
    "superhero.swim()"
   ]
  },
  {
   "cell_type": "code",
   "execution_count": 21,
   "id": "d420c0a5",
   "metadata": {},
   "outputs": [
    {
     "name": "stdout",
     "output_type": "stream",
     "text": [
      "1 2 3\n"
     ]
    }
   ],
   "source": [
    "# 12: Complex Multiple Inheritance\n",
    "\n",
    "class Base1:\n",
    "    def __init__(self, a):\n",
    "        self.a = a\n",
    "\n",
    "class Base2:\n",
    "    def __init__(self, b):\n",
    "        self.b = b\n",
    "\n",
    "class Derived(Base1, Base2):\n",
    "    def __init__(self, a, b, c):\n",
    "        super().__init__(a)\n",
    "        Base2.__init__(self, b)\n",
    "        self.c = c\n",
    "\n",
    "derived = Derived(1, 2, 3)\n",
    "print(derived.a, derived.b, derived.c)"
   ]
  },
  {
   "cell_type": "code",
   "execution_count": 23,
   "id": "074c26f5",
   "metadata": {},
   "outputs": [
    {
     "name": "stdout",
     "output_type": "stream",
     "text": [
      "True\n",
      "True\n",
      "True\n",
      "False\n"
     ]
    }
   ],
   "source": [
    "# 13: Checking Instance Types with Inheritance\n",
    "\n",
    "class Animal:\n",
    "    pass\n",
    "\n",
    "class Cat(Animal):\n",
    "    pass\n",
    "\n",
    "animal = Animal()\n",
    "cat = Cat()\n",
    "print(isinstance(animal, Animal))\n",
    "print(isinstance(cat, Animal))\n",
    "print(isinstance(cat, Cat))\n",
    "print(isinstance(animal, Cat))"
   ]
  },
  {
   "cell_type": "code",
   "execution_count": 24,
   "id": "4f9c5a5b",
   "metadata": {},
   "outputs": [
    {
     "name": "stdout",
     "output_type": "stream",
     "text": [
      "Parrot says: Squawk!\n",
      "Penguin says: Honk!\n"
     ]
    }
   ],
   "source": [
    "# 14: Polymorphism with Inheritance\n",
    "\n",
    "class Bird:\n",
    "    def speak(self):\n",
    "        pass\n",
    "\n",
    "class Parrot(Bird):\n",
    "    def speak(self):\n",
    "        print(\"Parrot says: Squawk!\")\n",
    "\n",
    "class Penguin(Bird):\n",
    "    def speak(self):\n",
    "        print(\"Penguin says: Honk!\")\n",
    "\n",
    "birds = [Parrot(), Penguin()]\n",
    "for bird in birds:\n",
    "    bird.speak()"
   ]
  },
  {
   "cell_type": "code",
   "execution_count": 25,
   "id": "4696c199",
   "metadata": {},
   "outputs": [
    {
     "name": "stdout",
     "output_type": "stream",
     "text": [
      "Apple iPhone 12 12 MP\n"
     ]
    }
   ],
   "source": [
    "# 15: Combining Single and Multiple Inheritance\n",
    "\n",
    "class Device:\n",
    "    def __init__(self, brand):\n",
    "        self.brand = brand\n",
    "\n",
    "class Phone(Device):\n",
    "    def __init__(self, brand, model):\n",
    "        super().__init__(brand)\n",
    "        self.model = model\n",
    "\n",
    "class Camera:\n",
    "    def __init__(self, resolution):\n",
    "        self.resolution = resolution\n",
    "\n",
    "class Smartphone(Phone, Camera):\n",
    "    def __init__(self, brand, model, resolution):\n",
    "        Phone.__init__(self, brand, model)\n",
    "        Camera.__init__(self, resolution)\n",
    "\n",
    "smartphone = Smartphone('Apple', 'iPhone 12', '12 MP')\n",
    "print(smartphone.brand, smartphone.model, smartphone.resolution)"
   ]
  }
 ],
 "metadata": {
  "kernelspec": {
   "display_name": "Python 3",
   "language": "python",
   "name": "python3"
  },
  "language_info": {
   "codemirror_mode": {
    "name": "ipython",
    "version": 3
   },
   "file_extension": ".py",
   "mimetype": "text/x-python",
   "name": "python",
   "nbconvert_exporter": "python",
   "pygments_lexer": "ipython3",
   "version": "3.13.5"
  }
 },
 "nbformat": 4,
 "nbformat_minor": 5
}
