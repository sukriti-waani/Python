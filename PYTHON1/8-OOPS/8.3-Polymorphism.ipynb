{
 "cells": [
  {
   "cell_type": "markdown",
   "id": "26a2fcb4",
   "metadata": {},
   "source": [
    "Polymorphism is a core concept in OOP that allows of different classes to be treated as objects of a common superclass.\n",
    "It provides a way to perform a single action in different forms.\n",
    "Polymorphism is typically achieved through method overriding and interfaces"
   ]
  },
  {
   "cell_type": "markdown",
   "id": "058b3fc5",
   "metadata": {},
   "source": [
    "### Method Overriding\n",
    "\n",
    "It allows a child class to provide a specific implementation of a method that is already defined in its parent class."
   ]
  },
  {
   "cell_type": "code",
   "execution_count": 3,
   "id": "1f087cc5",
   "metadata": {},
   "outputs": [
    {
     "name": "stdout",
     "output_type": "stream",
     "text": [
      "Bark!\n",
      "Meow!\n",
      "Bark!\n"
     ]
    }
   ],
   "source": [
    "# Base Class\n",
    "class Animal:\n",
    "  def speak(self):\n",
    "    return \"Sound of the animal\"\n",
    "\n",
    "# Derived Class 1\n",
    "class Dog(Animal):\n",
    "  def speak(self):\n",
    "    return \"Bark!\"\n",
    "\n",
    "# Derived Class 2\n",
    "class Cat(Animal):\n",
    "  def speak(self):\n",
    "    return \"Meow!\"\n",
    "\n",
    "# Function that demonstrates polymorphism\n",
    "def animal_speak(animal):\n",
    "    print(animal.speak())\n",
    "\n",
    "dog = Dog()\n",
    "cat = Cat()\n",
    "print(dog.speak())\n",
    "print(cat.speak())\n",
    "animal_speak(dog)"
   ]
  },
  {
   "cell_type": "code",
   "execution_count": 5,
   "id": "2950fb43",
   "metadata": {},
   "outputs": [
    {
     "name": "stdout",
     "output_type": "stream",
     "text": [
      "The area is: 50\n",
      "The area is: 153.86\n"
     ]
    }
   ],
   "source": [
    "# Polymorphism with Functions and Methods\n",
    "\n",
    "# Base class\n",
    "class Shape:\n",
    "  def area(self):\n",
    "    return \"The area of the figure\"\n",
    "  \n",
    "# Derived class 1\n",
    "class Rectangle(Shape):\n",
    "  def __init__(self, width, height):\n",
    "    self.width = width\n",
    "    self.height = height\n",
    "\n",
    "  def area(self):\n",
    "    return self.width * self.height\n",
    "  \n",
    "# Derived class 2\n",
    "class Circle(Shape):\n",
    "  def __init__(self, radius):\n",
    "    self.radius = radius\n",
    "\n",
    "  def area(self):\n",
    "    return 3.14 * self.radius * self.radius\n",
    "  \n",
    "# Function that demonstrates polymorphism\n",
    "def print_area(shape):\n",
    "    print(f\"The area is: {shape.area()}\")\n",
    "\n",
    "rect = Rectangle(5, 10)\n",
    "circle = Circle(7)\n",
    "\n",
    "print_area(rect)\n",
    "print_area(circle)"
   ]
  },
  {
   "cell_type": "markdown",
   "id": "6e5604fb",
   "metadata": {},
   "source": [
    "### Polymorphism with Abstract Base Classes\n",
    "\n",
    "Abstract Base Classes (ABCs) are used to define common methods for a group of related objects.\n",
    "They can enforce that derived classes implement particular methods, promoting consistency across different implementations."
   ]
  },
  {
   "cell_type": "code",
   "execution_count": 6,
   "id": "c3bb1ea2",
   "metadata": {},
   "outputs": [
    {
     "name": "stdout",
     "output_type": "stream",
     "text": [
      "Car engine started\n",
      "Motorcycle engine started\n"
     ]
    }
   ],
   "source": [
    "from abc import ABC, abstractmethod\n",
    "\n",
    "# Define an abstract class\n",
    "class Vehicle(ABC):\n",
    "  @abstractmethod\n",
    "  def start_engine(self):\n",
    "    pass\n",
    "\n",
    "# Derived class 1\n",
    "class Car(Vehicle):\n",
    "  def start_engine(self):\n",
    "    return \"Car engine started\"\n",
    "  \n",
    "# Derived class 2\n",
    "class Motorcycle(Vehicle):\n",
    "  def start_engine(self):\n",
    "    return \"Motorcycle engine started\"\n",
    "  \n",
    "# Function that demonstrates polymorphism\n",
    "def vehicle_start(vehicle):\n",
    "    print(vehicle.start_engine())\n",
    "\n",
    "car = Car()\n",
    "motorcycle = Motorcycle()\n",
    "vehicle_start(car)\n",
    "vehicle_start(motorcycle)"
   ]
  },
  {
   "cell_type": "markdown",
   "id": "28fa4242",
   "metadata": {},
   "source": [
    "## Conclusion\n",
    "\n",
    "Polymorphism is a powerful feature of OOP that allows for flexibility and integration in code design.\n",
    "It enables a single function to handle objects of different classes, each with its own implementation of a method.\n",
    "By understanding and applying polymorphism, we can create more extensible and maintainable object-oriented programs."
   ]
  }
 ],
 "metadata": {
  "kernelspec": {
   "display_name": "Python 3",
   "language": "python",
   "name": "python3"
  },
  "language_info": {
   "codemirror_mode": {
    "name": "ipython",
    "version": 3
   },
   "file_extension": ".py",
   "mimetype": "text/x-python",
   "name": "python",
   "nbconvert_exporter": "python",
   "pygments_lexer": "ipython3",
   "version": "3.13.5"
  }
 },
 "nbformat": 4,
 "nbformat_minor": 5
}
