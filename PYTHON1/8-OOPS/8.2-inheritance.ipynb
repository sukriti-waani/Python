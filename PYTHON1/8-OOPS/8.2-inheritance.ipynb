{
 "cells": [
  {
   "cell_type": "markdown",
   "id": "e7fddc06",
   "metadata": {},
   "source": [
    "Inheritance is a fundamental concept in Object-Oriented Programming (OOP) that allows a class to inherit attributes and methods from another class."
   ]
  },
  {
   "cell_type": "markdown",
   "id": "e586b71a",
   "metadata": {},
   "source": [
    "### SINGLE INHERITANCE"
   ]
  },
  {
   "cell_type": "code",
   "execution_count": 11,
   "id": "e1976bd9",
   "metadata": {},
   "outputs": [],
   "source": [
    "# Parent Class\n",
    "class Car:\n",
    "  def __init__(self, windows, doors, enginetype):\n",
    "    self.windows = windows\n",
    "    self.doors = doors\n",
    "    self.enginetype = enginetype\n",
    "\n",
    "  def drive(self):\n",
    "    print(f\"The person will drive the {self.enginetype} car\")"
   ]
  },
  {
   "cell_type": "code",
   "execution_count": 12,
   "id": "8ba475ce",
   "metadata": {},
   "outputs": [
    {
     "name": "stdout",
     "output_type": "stream",
     "text": [
      "The person will drive the Petrol car\n"
     ]
    }
   ],
   "source": [
    "car1 = Car(4, 4, \"Petrol\")\n",
    "car1.drive()"
   ]
  },
  {
   "cell_type": "code",
   "execution_count": 20,
   "id": "65f6bb03",
   "metadata": {},
   "outputs": [],
   "source": [
    "class Tesla(Car):\n",
    "  def __init__(self, windows, doors, enignetype, is_selfdriving):\n",
    "    super().__init__(windows, doors, enignetype)\n",
    "    self.is_selfdriving = is_selfdriving\n",
    "\n",
    "  def selfdriving(self):\n",
    "    print(f\"Tesla Supports self driving : {self.is_selfdriving}\")"
   ]
  },
  {
   "cell_type": "code",
   "execution_count": 21,
   "id": "5d5b260f",
   "metadata": {},
   "outputs": [
    {
     "name": "stdout",
     "output_type": "stream",
     "text": [
      "Tesla Supports self driving : True\n",
      "None\n"
     ]
    }
   ],
   "source": [
    "tesla1 = Tesla(4, 4, \"Electric\", True)\n",
    "print(tesla1.selfdriving())"
   ]
  },
  {
   "cell_type": "code",
   "execution_count": 22,
   "id": "62ebafc1",
   "metadata": {},
   "outputs": [
    {
     "name": "stdout",
     "output_type": "stream",
     "text": [
      "The person will drive the Electric car\n"
     ]
    }
   ],
   "source": [
    "tesla1.drive()"
   ]
  },
  {
   "cell_type": "markdown",
   "id": "5770ecd1",
   "metadata": {},
   "source": [
    "### MULTIPLE INHERITANCE\n",
    "\n",
    "When a class inherits more than one base class."
   ]
  },
  {
   "cell_type": "code",
   "execution_count": 26,
   "id": "81c377e5",
   "metadata": {},
   "outputs": [
    {
     "name": "stdout",
     "output_type": "stream",
     "text": [
      "Buddy say Woof! Woof!\n",
      "Owner of the dog is Alice\n"
     ]
    }
   ],
   "source": [
    "# Base Class 1\n",
    "class Animal:\n",
    "  def __init__(self, name):\n",
    "    self.name = name\n",
    "\n",
    "  def speak(self):\n",
    "    print(\"Subclass must implement this method\")\n",
    "\n",
    "# Base Class 2\n",
    "class Pet:\n",
    "  def __init__(self, owner):\n",
    "    self.owner = owner\n",
    "\n",
    "# Derived Class\n",
    "class Dog(Animal, Pet):\n",
    "  def __init__(self, name, owner):\n",
    "    Animal.__init__(self, name)\n",
    "    Pet.__init__(self, owner)\n",
    "\n",
    "  def speak(self):\n",
    "    print(f\"{self.name} say Woof! Woof!\")\n",
    "\n",
    "dog1 = Dog(\"Buddy\", \"Alice\")\n",
    "dog1.speak()\n",
    "print(f\"Owner of the dog is {dog1.owner}\")"
   ]
  }
 ],
 "metadata": {
  "kernelspec": {
   "display_name": "Python 3",
   "language": "python",
   "name": "python3"
  },
  "language_info": {
   "codemirror_mode": {
    "name": "ipython",
    "version": 3
   },
   "file_extension": ".py",
   "mimetype": "text/x-python",
   "name": "python",
   "nbconvert_exporter": "python",
   "pygments_lexer": "ipython3",
   "version": "3.13.5"
  }
 },
 "nbformat": 4,
 "nbformat_minor": 5
}
