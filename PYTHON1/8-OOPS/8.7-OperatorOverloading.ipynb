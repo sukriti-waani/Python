{
 "cells": [
  {
   "cell_type": "markdown",
   "id": "7e4be3e0",
   "metadata": {},
   "source": [
    "### Operator Overloading\n",
    "\n",
    "It allows us to define the behavior of operators(+,-,*, etc.) for custom objects.\n",
    "We achieve this by overriding specific magic methods."
   ]
  },
  {
   "cell_type": "code",
   "execution_count": 1,
   "id": "c5543c73",
   "metadata": {},
   "outputs": [
    {
     "data": {
      "text/plain": [
       "'\\n__add__(self, other): Adds two objects using the + operator.\\n__sub__(self, other): Subtracts two objects using the - operator.\\n__mul__(self, other): Multiplies two objects using the * operator.\\n__truediv__(self, other): Divides two objects using the / operator.\\n__floordiv__(self, other): Performs floor division using the // operator.\\n__mod__(self, other): Computes the modulus using the % operator.\\n__pow__(self, other): Raises one object to the power of another using the ** operator.\\n__eq__(self, other): Checks if two objects are equal using the == operator.\\n__lt__(self, other): Checks if one object is less than another using the < operator.\\n__le__(self, other): Checks if one object is less than or equal to another using the <= operator.\\n__gt__(self, other): Checks if one object is greater than another using the > operator.\\n__ge__(self, other): Checks if one object is greater than or equal to another using the >= operator.\\n__ne__(self, other): Checks if two objects are not equal using the != operator.\\n'"
      ]
     },
     "execution_count": 1,
     "metadata": {},
     "output_type": "execute_result"
    }
   ],
   "source": [
    "## Common Operator Overloading Magic Methods\n",
    "\n",
    "'''\n",
    "__add__(self, other): Adds two objects using the + operator.\n",
    "__sub__(self, other): Subtracts two objects using the - operator.\n",
    "__mul__(self, other): Multiplies two objects using the * operator.\n",
    "__truediv__(self, other): Divides two objects using the / operator.\n",
    "__floordiv__(self, other): Performs floor division using the // operator.\n",
    "__mod__(self, other): Computes the modulus using the % operator.\n",
    "__pow__(self, other): Raises one object to the power of another using the ** operator.\n",
    "__eq__(self, other): Checks if two objects are equal using the == operator.\n",
    "__lt__(self, other): Checks if one object is less than another using the < operator.\n",
    "__le__(self, other): Checks if one object is less than or equal to another using the <= operator.\n",
    "__gt__(self, other): Checks if one object is greater than another using the > operator.\n",
    "__ge__(self, other): Checks if one object is greater than or equal to another using the >= operator.\n",
    "__ne__(self, other): Checks if two objects are not equal using the != operator.\n",
    "'''"
   ]
  },
  {
   "cell_type": "code",
   "execution_count": 3,
   "id": "792927a8",
   "metadata": {},
   "outputs": [
    {
     "name": "stdout",
     "output_type": "stream",
     "text": [
      "Vector(6, 8)\n",
      "Vector(-2, -2)\n",
      "Vector(8, 15)\n"
     ]
    }
   ],
   "source": [
    "# Mathematical Vector Example\n",
    "\n",
    "class Vector:\n",
    "  def __init__(self, x, y):\n",
    "    self.x = x\n",
    "    self.y = y\n",
    "  \n",
    "  def __add__(self, other):\n",
    "    return Vector(self.x + other.x, self.y + other.y)\n",
    "  \n",
    "  def __sub__(self, other):\n",
    "    return Vector(self.x - other.x, self.y - other.y)\n",
    "\n",
    "  def __mul__(self, other):\n",
    "    return Vector(self.x * other.x, self.y * other.y)\n",
    "  \n",
    "  def __repr__(self):\n",
    "    return f\"Vector({self.x}, {self.y})\"\n",
    "  \n",
    "v1 = Vector(2, 3)\n",
    "v2 = Vector(4, 5)\n",
    "\n",
    "print(v1 + v2)\n",
    "print(v1 - v2)\n",
    "print(v1 * v2)"
   ]
  },
  {
   "cell_type": "code",
   "execution_count": 8,
   "id": "bfe32690",
   "metadata": {},
   "outputs": [
    {
     "name": "stdout",
     "output_type": "stream",
     "text": [
      "6 + 8i\n",
      "-2 + -2i\n",
      "-7 + 22i\n",
      "0.5609756097560976 + 0.04878048780487805i\n",
      "False\n"
     ]
    }
   ],
   "source": [
    "# Overloading Operators for Complex Numbers\n",
    "\n",
    "class ComplexNumber:\n",
    "  def __init__(self, real, imag):\n",
    "    self.real = real\n",
    "    self.imag = imag\n",
    "  \n",
    "  def __add__(self, other):\n",
    "    return ComplexNumber(self.real + other.real, self.imag + other.imag)\n",
    "  \n",
    "  def __sub__(self, other):\n",
    "    return ComplexNumber(self.real - other.real, self.imag - other.imag)\n",
    "  \n",
    "  def __mul__(self, other):\n",
    "    real_part = self.real * other.real - self.imag * other.imag\n",
    "    imag_part = self.real * other.imag + self.imag * other.real\n",
    "    return ComplexNumber(real_part, imag_part)\n",
    "  \n",
    "  def __truediv__(self, other):\n",
    "    # Called when '/' operator is used between two ComplexNumber objects\n",
    "    denom = other.real**2 + other.imag**2\n",
    "    # Calculate denominator = (c² + d²)\n",
    "    real_part = (self.real * other.real + self.imag * other.imag) / denom\n",
    "    # Formula for real part = (ac + bd) / (c² + d²)\n",
    "    imag_part = (self.imag * other.real - self.real * other.imag) / denom\n",
    "    # Formula for imaginary part = (bc - ad) / (c² + d²)\n",
    "    return ComplexNumber(real_part, imag_part)\n",
    "    # Return new ComplexNumber object with the result\n",
    "\n",
    "  def __eq__(self, other):\n",
    "    return self.real == other.real and self.imag == other.imag\n",
    "  \n",
    "  def __repr__(self):\n",
    "    return f\"{self.real} + {self.imag}i\"\n",
    "  \n",
    "c1 = ComplexNumber(2, 3)\n",
    "c2 = ComplexNumber(4, 5)\n",
    "\n",
    "print(c1 + c2)\n",
    "print(c1 - c2)\n",
    "print(c1 * c2)\n",
    "print(c1 / c2)\n",
    "print(c1 == c2)"
   ]
  }
 ],
 "metadata": {
  "kernelspec": {
   "display_name": "Python 3",
   "language": "python",
   "name": "python3"
  },
  "language_info": {
   "codemirror_mode": {
    "name": "ipython",
    "version": 3
   },
   "file_extension": ".py",
   "mimetype": "text/x-python",
   "name": "python",
   "nbconvert_exporter": "python",
   "pygments_lexer": "ipython3",
   "version": "3.13.5"
  }
 },
 "nbformat": 4,
 "nbformat_minor": 5
}
