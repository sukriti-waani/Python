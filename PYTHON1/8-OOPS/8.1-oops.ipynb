{
 "cells": [
  {
   "cell_type": "markdown",
   "id": "4f7c2bb8",
   "metadata": {},
   "source": [
    "## Classes and Objects\n",
    "\n",
    "Object-Oriented Programming (OOP) is a programming paradigm that uses \"objects\" to design applications and computer programs.\n",
    "OOP allows for modelling real-world scenarios using classes and objects."
   ]
  },
  {
   "cell_type": "code",
   "execution_count": null,
   "id": "6fdfef34",
   "metadata": {},
   "outputs": [
    {
     "name": "stdout",
     "output_type": "stream",
     "text": [
      "<class '__main__.Car'>\n"
     ]
    }
   ],
   "source": [
    "# A class is a blue print for creating objects.\n",
    "\n",
    "class Car:\n",
    "  pass\n",
    "\n",
    "audi = Car()\n",
    "bmw = Car()\n",
    "\n",
    "print(type(audi))\n"
   ]
  },
  {
   "cell_type": "code",
   "execution_count": 2,
   "id": "3387e5dc",
   "metadata": {},
   "outputs": [
    {
     "name": "stdout",
     "output_type": "stream",
     "text": [
      "<__main__.Car object at 0x000001DEB25B86E0>\n",
      "<__main__.Car object at 0x000001DEB23C34D0>\n"
     ]
    }
   ],
   "source": [
    "print(audi)\n",
    "print(bmw)"
   ]
  },
  {
   "cell_type": "code",
   "execution_count": null,
   "id": "97b64717",
   "metadata": {},
   "outputs": [
    {
     "name": "stdout",
     "output_type": "stream",
     "text": [
      "4\n"
     ]
    }
   ],
   "source": [
    "audi.windows = 4\n",
    "print(audi.windows)"
   ]
  },
  {
   "cell_type": "code",
   "execution_count": null,
   "id": "3cc5f43a",
   "metadata": {},
   "outputs": [
    {
     "name": "stdout",
     "output_type": "stream",
     "text": [
      "4\n"
     ]
    }
   ],
   "source": [
    "tata = Car()\n",
    "tata.doors = 4\n",
    "print(tata.doors)\n",
    "# print(tata.windows)  # This will raise an AttributeError since 'windows' is not defined for 'tata'"
   ]
  },
  {
   "cell_type": "code",
   "execution_count": 7,
   "id": "d1b053bd",
   "metadata": {},
   "outputs": [
    {
     "name": "stdout",
     "output_type": "stream",
     "text": [
      "<__main__.Dog object at 0x000001DEB25B81A0>\n",
      "Buddy\n",
      "3\n"
     ]
    }
   ],
   "source": [
    "# Instance Variable and Methods\n",
    "\n",
    "class Dog:\n",
    "  # Constructor\n",
    "  def __init__(self, name, age):\n",
    "    self.name = name  # Instance Variable\n",
    "    self.age = age    # Instance Variable\n",
    "\n",
    "# Create Object\n",
    "dog1 = Dog(\"Buddy\", 3)\n",
    "print(dog1)\n",
    "print(dog1.name)\n",
    "print(dog1.age)"
   ]
  },
  {
   "cell_type": "code",
   "execution_count": 8,
   "id": "33cd0a52",
   "metadata": {},
   "outputs": [
    {
     "name": "stdout",
     "output_type": "stream",
     "text": [
      "Lucy\n"
     ]
    }
   ],
   "source": [
    "dog2 = Dog(\"Lucy\", 5)\n",
    "print(dog2.name)"
   ]
  },
  {
   "cell_type": "code",
   "execution_count": 14,
   "id": "dc839ab9",
   "metadata": {},
   "outputs": [
    {
     "name": "stdout",
     "output_type": "stream",
     "text": [
      "Buddy says Woof!\n",
      "Lucy says Woof!\n"
     ]
    }
   ],
   "source": [
    "# Define a class with instance methods\n",
    "\n",
    "class Dog:\n",
    "  def __init__(self, name, age):\n",
    "    self.name = name\n",
    "    self.age = age\n",
    "\n",
    "  def bark(self):  # Instance Method\n",
    "    print(f\"{self.name} says Woof!\")\n",
    "  \n",
    "dog1 = Dog(\"Buddy\", 3)\n",
    "dog1.bark()\n",
    "\n",
    "dog2 = Dog(\"Lucy\", 3)\n",
    "dog2.bark()\n"
   ]
  },
  {
   "cell_type": "code",
   "execution_count": 16,
   "id": "6a4dee3e",
   "metadata": {},
   "outputs": [
    {
     "name": "stdout",
     "output_type": "stream",
     "text": [
      "1000\n"
     ]
    }
   ],
   "source": [
    "# Modeling a Bank Account\n",
    "\n",
    "# Define a class for bank account\n",
    "\n",
    "class BankAccount:\n",
    "  def __init__(self, owner, balance = 0):\n",
    "    self.owner = owner\n",
    "    self.balance = balance\n",
    "\n",
    "  def deposit(self, amount):\n",
    "    self.balance += amount\n",
    "    print(f\" {amount} is deposited. New balance is {self.balance}\")\n",
    "\n",
    "  def withdraw(self, amount):\n",
    "    if amount > self.balance:\n",
    "      print(\"Insufficient funds\")\n",
    "    else:\n",
    "      self.balance -= amount\n",
    "      print(f\" {amount} is withdrawn. New balance is {self.balance}\")\n",
    "\n",
    "  def get_balance(self):\n",
    "    return self.balance\n",
    "\n",
    "# Create an account\n",
    "account = BankAccount(\"Alice\", 1000)\n",
    "print(account.balance)"
   ]
  },
  {
   "cell_type": "code",
   "execution_count": 17,
   "id": "55e65ebd",
   "metadata": {},
   "outputs": [
    {
     "name": "stdout",
     "output_type": "stream",
     "text": [
      " 500 is deposited. New balance is 1500\n"
     ]
    }
   ],
   "source": [
    "# Call instance methods\n",
    "\n",
    "account.deposit(500)"
   ]
  },
  {
   "cell_type": "code",
   "execution_count": 18,
   "id": "4a7b1884",
   "metadata": {},
   "outputs": [
    {
     "name": "stdout",
     "output_type": "stream",
     "text": [
      " 200 is withdrawn. New balance is 1300\n"
     ]
    }
   ],
   "source": [
    "account.withdraw(200)"
   ]
  },
  {
   "cell_type": "code",
   "execution_count": 19,
   "id": "24eb748f",
   "metadata": {},
   "outputs": [
    {
     "name": "stdout",
     "output_type": "stream",
     "text": [
      "1300\n"
     ]
    }
   ],
   "source": [
    "print(account.get_balance())"
   ]
  }
 ],
 "metadata": {
  "kernelspec": {
   "display_name": "Python 3",
   "language": "python",
   "name": "python3"
  },
  "language_info": {
   "codemirror_mode": {
    "name": "ipython",
    "version": 3
   },
   "file_extension": ".py",
   "mimetype": "text/x-python",
   "name": "python",
   "nbconvert_exporter": "python",
   "pygments_lexer": "ipython3",
   "version": "3.13.5"
  }
 },
 "nbformat": 4,
 "nbformat_minor": 5
}
