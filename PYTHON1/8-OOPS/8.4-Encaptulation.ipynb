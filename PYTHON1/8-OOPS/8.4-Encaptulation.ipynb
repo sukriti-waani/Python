{
 "cells": [
  {
   "cell_type": "markdown",
   "id": "676ce75b",
   "metadata": {},
   "source": [
    "### Encapsulation and Abstraction\n",
    "\n",
    "Encapsulation means binding data (variables) and methods (functions) that operate on that data into a single unit — a class.\n",
    "It also restricts direct access to some data by using private (__) or protected (_) members.\n",
    "\n",
    "Abstraction means showing only essential features and hiding the complex implementation details from the user.\n",
    "It is achieved using abstract classes and methods (from the abc module)."
   ]
  },
  {
   "cell_type": "markdown",
   "id": "69471c6b",
   "metadata": {},
   "source": [
    "Encaptulation with Getter and Setter Methods\n",
    "Public, protected, private variables or access modifiers"
   ]
  },
  {
   "cell_type": "code",
   "execution_count": 5,
   "metadata": {},
   "outputs": [
    {
     "name": "stdout",
     "output_type": "stream",
     "text": [
      "Alice\n"
     ]
    }
   ],
   "source": [
    "class Person:\n",
    "  def __init__(self, name, age):\n",
    "    self.name = name # public variables\n",
    "    self.age = age   # public variables\n",
    "\n",
    "def get_name(person):\n",
    "    return person.name\n",
    "\n",
    "person = Person(\"Alice\", 30)\n",
    "print(person.name)  # Accessing public variable"
   ]
  },
  {
   "cell_type": "code",
   "execution_count": 6,
   "id": "ce3c2a58",
   "metadata": {},
   "outputs": [
    {
     "data": {
      "text/plain": [
       "['__class__',\n",
       " '__delattr__',\n",
       " '__dict__',\n",
       " '__dir__',\n",
       " '__doc__',\n",
       " '__eq__',\n",
       " '__firstlineno__',\n",
       " '__format__',\n",
       " '__ge__',\n",
       " '__getattribute__',\n",
       " '__getstate__',\n",
       " '__gt__',\n",
       " '__hash__',\n",
       " '__init__',\n",
       " '__init_subclass__',\n",
       " '__le__',\n",
       " '__lt__',\n",
       " '__module__',\n",
       " '__ne__',\n",
       " '__new__',\n",
       " '__reduce__',\n",
       " '__reduce_ex__',\n",
       " '__repr__',\n",
       " '__setattr__',\n",
       " '__sizeof__',\n",
       " '__static_attributes__',\n",
       " '__str__',\n",
       " '__subclasshook__',\n",
       " '__weakref__',\n",
       " 'age',\n",
       " 'name']"
      ]
     },
     "execution_count": 6,
     "metadata": {},
     "output_type": "execute_result"
    }
   ],
   "source": [
    "dir(person)"
   ]
  },
  {
   "cell_type": "code",
   "execution_count": 2,
   "id": "6c84cb05",
   "metadata": {},
   "outputs": [
    {
     "ename": "AttributeError",
     "evalue": "'Person' object has no attribute '__name'",
     "output_type": "error",
     "traceback": [
      "\u001b[31m---------------------------------------------------------------------------\u001b[39m",
      "\u001b[31mAttributeError\u001b[39m                            Traceback (most recent call last)",
      "\u001b[36mCell\u001b[39m\u001b[36m \u001b[39m\u001b[32mIn[2]\u001b[39m\u001b[32m, line 11\u001b[39m\n\u001b[32m      8\u001b[39m     \u001b[38;5;28;01mreturn\u001b[39;00m person.__name\n\u001b[32m     10\u001b[39m person = Person(\u001b[33m\"\u001b[39m\u001b[33mAlice\u001b[39m\u001b[33m\"\u001b[39m,  \u001b[32m30\u001b[39m, \u001b[33m\"\u001b[39m\u001b[33mMale\u001b[39m\u001b[33m\"\u001b[39m)\n\u001b[32m---> \u001b[39m\u001b[32m11\u001b[39m \u001b[43mget_name\u001b[49m\u001b[43m(\u001b[49m\u001b[43mperson\u001b[49m\u001b[43m)\u001b[49m\n",
      "\u001b[36mCell\u001b[39m\u001b[36m \u001b[39m\u001b[32mIn[2]\u001b[39m\u001b[32m, line 8\u001b[39m, in \u001b[36mget_name\u001b[39m\u001b[34m(person)\u001b[39m\n\u001b[32m      7\u001b[39m \u001b[38;5;28;01mdef\u001b[39;00m\u001b[38;5;250m \u001b[39m\u001b[34mget_name\u001b[39m(person):\n\u001b[32m----> \u001b[39m\u001b[32m8\u001b[39m     \u001b[38;5;28;01mreturn\u001b[39;00m \u001b[43mperson\u001b[49m\u001b[43m.\u001b[49m\u001b[43m__name\u001b[49m\n",
      "\u001b[31mAttributeError\u001b[39m: 'Person' object has no attribute '__name'"
     ]
    }
   ],
   "source": [
    "class Person:\n",
    "  def __init__(self, name, age, gender ):\n",
    "    self.__name = name # private variables\n",
    "    self.__age = age   # private variables\n",
    "    self.gender = gender\n",
    "\n",
    "def get_name(person):\n",
    "    return person.__name\n",
    "\n",
    "person = Person(\"Alice\",  30, \"Male\")\n",
    "get_name(person)"
   ]
  },
  {
   "cell_type": "code",
   "execution_count": null,
   "id": "350e2fe2",
   "metadata": {},
   "outputs": [
    {
     "data": {
      "text/plain": [
       "['_Person__age',\n",
       " '_Person__name',\n",
       " '__class__',\n",
       " '__delattr__',\n",
       " '__dict__',\n",
       " '__dir__',\n",
       " '__doc__',\n",
       " '__eq__',\n",
       " '__firstlineno__',\n",
       " '__format__',\n",
       " '__ge__',\n",
       " '__getattribute__',\n",
       " '__getstate__',\n",
       " '__gt__',\n",
       " '__hash__',\n",
       " '__init__',\n",
       " '__init_subclass__',\n",
       " '__le__',\n",
       " '__lt__',\n",
       " '__module__',\n",
       " '__ne__',\n",
       " '__new__',\n",
       " '__reduce__',\n",
       " '__reduce_ex__',\n",
       " '__repr__',\n",
       " '__setattr__',\n",
       " '__sizeof__',\n",
       " '__static_attributes__',\n",
       " '__str__',\n",
       " '__subclasshook__',\n",
       " '__weakref__',\n",
       " 'gender']"
      ]
     },
     "execution_count": 13,
     "metadata": {},
     "output_type": "execute_result"
    }
   ],
   "source": [
    "person = Person(\"Alice\", 30, \"Male\")\n",
    "dir(person)"
   ]
  },
  {
   "cell_type": "code",
   "execution_count": 4,
   "id": "abc6f7a4",
   "metadata": {},
   "outputs": [
    {
     "name": "stdout",
     "output_type": "stream",
     "text": [
      "Bob\n",
      "25\n"
     ]
    }
   ],
   "source": [
    "class Person:\n",
    "  def __init__(self, name, age, gender ):\n",
    "    self._name = name # private variables\n",
    "    self._age = age   # protected variables\n",
    "    self.gender = gender\n",
    "    \n",
    "class Employee(Person):\n",
    "  def __init__(self, name, age, gender):\n",
    "    super().__init__(name, age, gender)\n",
    "\n",
    "emp = Employee(\"Bob\", 25, \"Male\")\n",
    "print(emp._name) # Accessing protected variable\n",
    "print(emp._age)  # Accessing protected variable"
   ]
  },
  {
   "cell_type": "code",
   "execution_count": 5,
   "id": "bde989c7",
   "metadata": {},
   "outputs": [
    {
     "name": "stdout",
     "output_type": "stream",
     "text": [
      "Alice\n",
      "35\n",
      "Age cannot be negative\n"
     ]
    }
   ],
   "source": [
    "## Encapsulation with Getter and Setter\n",
    "\n",
    "class Person:\n",
    "  def __init__(self, name, age):\n",
    "    self.__name = name # private access modifier or variables\n",
    "    self.__age = age   # private variables\n",
    "\n",
    "  # getter method for name\n",
    "  def get_name(self):\n",
    "      return self.__name\n",
    "  \n",
    "  # setter method for name\n",
    "  def set_name(self, name):\n",
    "      self.__name = name\n",
    "\n",
    "  # getter method for age\n",
    "  def get_age(self):\n",
    "      return self.__age\n",
    "\n",
    "  # setter method for age\n",
    "  def set_age(self, age):\n",
    "      if age > 0:\n",
    "          self.__age = age\n",
    "      else:\n",
    "          print(\"Age cannot be negative\")\n",
    "\n",
    "person = Person(\"Alice\", 30)\n",
    "\n",
    "print(person.get_name())  # Accessing private variable via getter\n",
    "person.set_age(35)        # Modifying private variable via setter\n",
    "print(person.get_age())   # Accessing modified private variable via getter\n",
    "person.set_age(-5)       # Trying to set a negative age"
   ]
  }
 ],
 "metadata": {
  "kernelspec": {
   "display_name": "Python 3",
   "language": "python",
   "name": "python3"
  },
  "language_info": {
   "codemirror_mode": {
    "name": "ipython",
    "version": 3
   },
   "file_extension": ".py",
   "mimetype": "text/x-python",
   "name": "python",
   "nbconvert_exporter": "python",
   "pygments_lexer": "ipython3",
   "version": "3.13.5"
  }
 },
 "nbformat": 4,
 "nbformat_minor": 5
}
