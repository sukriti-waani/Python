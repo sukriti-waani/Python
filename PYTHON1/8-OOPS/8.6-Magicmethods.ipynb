{
 "cells": [
  {
   "cell_type": "markdown",
   "id": "f8c28166",
   "metadata": {},
   "source": [
    "Magic methods in Python, also known ad dunder methods (double underscore methods), are special methods that start and end with double underscores.\n",
    "These methods enable us to define the behavior of objects for built-in operations, such as arithmetic operations, and more."
   ]
  },
  {
   "cell_type": "markdown",
   "id": "a55d9b76",
   "metadata": {},
   "source": [
    "### Magic Methods"
   ]
  },
  {
   "cell_type": "markdown",
   "id": "93f9d016",
   "metadata": {},
   "source": [
    "Magic methods are predefined methods in Python that we can override to change the behavior of our objects.\n",
    "Some common magic methods include:"
   ]
  },
  {
   "cell_type": "code",
   "execution_count": 1,
   "id": "ddc32cf2",
   "metadata": {},
   "outputs": [
    {
     "data": {
      "text/plain": [
       "'\\n__init__ : Initializes a new instace of a class.\\n__str__ : Returns a string representation of the object.\\n__repr__: Returns a detailed string representation of the object, useful for debugging.\\n__len__: Returns the length of the object.\\n__getitem__: Gets an item from a collection.\\n__setitem__: Sets an item in a collection.\\n'"
      ]
     },
     "execution_count": 1,
     "metadata": {},
     "output_type": "execute_result"
    }
   ],
   "source": [
    "'''\n",
    "__init__ : Initializes a new instace of a class.\n",
    "__str__ : Returns a string representation of the object.\n",
    "__repr__: Returns a detailed string representation of the object, useful for debugging.\n",
    "__len__: Returns the length of the object.\n",
    "__getitem__: Gets an item from a collection.\n",
    "__setitem__: Sets an item in a collection.\n",
    "'''"
   ]
  },
  {
   "cell_type": "code",
   "execution_count": 3,
   "id": "64be5a00",
   "metadata": {},
   "outputs": [
    {
     "data": {
      "text/plain": [
       "['__class__',\n",
       " '__delattr__',\n",
       " '__dict__',\n",
       " '__dir__',\n",
       " '__doc__',\n",
       " '__eq__',\n",
       " '__firstlineno__',\n",
       " '__format__',\n",
       " '__ge__',\n",
       " '__getattribute__',\n",
       " '__getstate__',\n",
       " '__gt__',\n",
       " '__hash__',\n",
       " '__init__',\n",
       " '__init_subclass__',\n",
       " '__le__',\n",
       " '__lt__',\n",
       " '__module__',\n",
       " '__ne__',\n",
       " '__new__',\n",
       " '__reduce__',\n",
       " '__reduce_ex__',\n",
       " '__repr__',\n",
       " '__setattr__',\n",
       " '__sizeof__',\n",
       " '__static_attributes__',\n",
       " '__str__',\n",
       " '__subclasshook__',\n",
       " '__weakref__']"
      ]
     },
     "execution_count": 3,
     "metadata": {},
     "output_type": "execute_result"
    }
   ],
   "source": [
    "class Person:\n",
    "  pass\n",
    "\n",
    "person = Person()\n",
    "dir(person)"
   ]
  },
  {
   "cell_type": "code",
   "execution_count": 4,
   "id": "4b6acbec",
   "metadata": {},
   "outputs": [
    {
     "name": "stdout",
     "output_type": "stream",
     "text": [
      "<__main__.Person object at 0x0000022F2AE99BE0>\n"
     ]
    }
   ],
   "source": [
    "print(person)  # Output: <__main__.Person object at 0x...>"
   ]
  },
  {
   "cell_type": "code",
   "execution_count": 8,
   "id": "09518321",
   "metadata": {},
   "outputs": [
    {
     "name": "stdout",
     "output_type": "stream",
     "text": [
      "Alice, 30 years old\n",
      "Person(name=Alice, age=30)\n"
     ]
    }
   ],
   "source": [
    "# Basics Methods\n",
    "\n",
    "class Person:\n",
    "  def __init__(self, name, age):\n",
    "    self.name = name\n",
    "    self.age = age\n",
    "\n",
    "  def __str__(self):\n",
    "    return f\"{self.name}, {self.age} years old\"\n",
    "\n",
    "  def __repr__(self):\n",
    "    return f\"Person(name={self.name}, age={self.age})\"\n",
    "\n",
    "person = Person(\"Alice\", 30)\n",
    "print(person)\n",
    "print(repr(person))"
   ]
  }
 ],
 "metadata": {
  "kernelspec": {
   "display_name": "Python 3",
   "language": "python",
   "name": "python3"
  },
  "language_info": {
   "codemirror_mode": {
    "name": "ipython",
    "version": 3
   },
   "file_extension": ".py",
   "mimetype": "text/x-python",
   "name": "python",
   "nbconvert_exporter": "python",
   "pygments_lexer": "ipython3",
   "version": "3.13.5"
  }
 },
 "nbformat": 4,
 "nbformat_minor": 5
}
