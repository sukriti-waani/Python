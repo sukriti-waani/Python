{
 "cells": [
  {
   "cell_type": "markdown",
   "id": "f7c505d1",
   "metadata": {},
   "source": [
    "### Custom Exception (Raise and Throw an Exception)"
   ]
  },
  {
   "cell_type": "code",
   "execution_count": 2,
   "id": "4a1ad4ab",
   "metadata": {},
   "outputs": [],
   "source": [
    "class Error(Exception):\n",
    "    \"\"\"Base class for other exceptions\"\"\"\n",
    "    pass\n",
    "\n",
    "class dobException(Error):\n",
    "    \"\"\"Raised when the input date of birth is invalid\"\"\"\n",
    "    pass"
   ]
  },
  {
   "cell_type": "code",
   "execution_count": 4,
   "id": "66a3aa12",
   "metadata": {},
   "outputs": [
    {
     "name": "stdout",
     "output_type": "stream",
     "text": [
      "Sorry, your age should be greater than 20 or less than 30.\n"
     ]
    }
   ],
   "source": [
    "year = int(input(\"Enter your birth year: \"))\n",
    "age = 2025 - year\n",
    "\n",
    "try:\n",
    "  if age <= 30 and age >= 20:\n",
    "    print(\"You are eligible to work with us.\")\n",
    "  else:\n",
    "    raise dobException(\"Sorry, your age is not in the range of 20 to 30 years.\")\n",
    "\n",
    "except dobException:\n",
    "  print(\"Sorry, your age should be greater than 20 or less than 30.\")"
   ]
  }
 ],
 "metadata": {
  "kernelspec": {
   "display_name": "Python 3",
   "language": "python",
   "name": "python3"
  },
  "language_info": {
   "codemirror_mode": {
    "name": "ipython",
    "version": 3
   },
   "file_extension": ".py",
   "mimetype": "text/x-python",
   "name": "python",
   "nbconvert_exporter": "python",
   "pygments_lexer": "ipython3",
   "version": "3.13.5"
  }
 },
 "nbformat": 4,
 "nbformat_minor": 5
}
