{
 "cells": [
  {
   "cell_type": "code",
   "execution_count": 1,
   "id": "200761d1",
   "metadata": {},
   "outputs": [
    {
     "name": "stdout",
     "output_type": "stream",
     "text": [
      "You are allowed to vote in the elections\n"
     ]
    }
   ],
   "source": [
    "# If Statement\n",
    "\n",
    "age = 20\n",
    "if age >= 18:\n",
    "  print(\"You are allowed to vote in the elections\")"
   ]
  },
  {
   "cell_type": "code",
   "execution_count": 2,
   "id": "dab55486",
   "metadata": {},
   "outputs": [
    {
     "name": "stdout",
     "output_type": "stream",
     "text": [
      "You are not allowed to vote in the elections\n"
     ]
    }
   ],
   "source": [
    "# else\n",
    "age = 15\n",
    "if age >= 18:\n",
    "  print(\"You are allowed to vote in the elections\")\n",
    "else:\n",
    "  print(\"You are not allowed to vote in the elections\")"
   ]
  },
  {
   "cell_type": "code",
   "execution_count": 3,
   "id": "cefdd85b",
   "metadata": {},
   "outputs": [
    {
     "name": "stdout",
     "output_type": "stream",
     "text": [
      "you are an adult\n"
     ]
    }
   ],
   "source": [
    "# elif - allows us to check multiple conditions.\n",
    "\n",
    "age = 20\n",
    "if age < 13:\n",
    "  print(\"You are a child\")\n",
    "elif age < 18:\n",
    "  print(\"You are a teenager\")\n",
    "else:\n",
    "  print(\"you are an adult\")"
   ]
  },
  {
   "cell_type": "code",
   "execution_count": null,
   "id": "02456960",
   "metadata": {},
   "outputs": [
    {
     "name": "stdout",
     "output_type": "stream",
     "text": [
      "The number is positive\n",
      "The number is odd\n"
     ]
    }
   ],
   "source": [
    "# Nested Conditional Statements\n",
    "\n",
    "num = int(input(\"Enter the number: \"))\n",
    "\n",
    "if num >= 0:\n",
    "  print(\"The number is positive\")\n",
    "  if num % 2 == 0:\n",
    "    print(\"The number is even\")\n",
    "  else:\n",
    "    print(\"The number is odd\")\n",
    "\n",
    "else:\n",
    "  print(\"The number is zero or negative\")"
   ]
  },
  {
   "cell_type": "code",
   "execution_count": 11,
   "id": "28850e81",
   "metadata": {},
   "outputs": [
    {
     "name": "stdout",
     "output_type": "stream",
     "text": [
      "2024 is a leap year\n"
     ]
    }
   ],
   "source": [
    "year = int(input(\"Enter the year: \"))\n",
    "\n",
    "if year % 4 == 0:\n",
    "    if year % 100 == 0:\n",
    "        if year % 400 == 0:\n",
    "            print(year, \"is a leap year\")\n",
    "        else:\n",
    "            print(year, \"is not a leap year\")\n",
    "    else:\n",
    "        print(year, \"is a leap year\")\n",
    "else:\n",
    "    print(year, \"is not a leap year\")\n"
   ]
  },
  {
   "cell_type": "code",
   "execution_count": 13,
   "id": "595ec1be",
   "metadata": {},
   "outputs": [
    {
     "name": "stdout",
     "output_type": "stream",
     "text": [
      "Result:  36.0\n"
     ]
    }
   ],
   "source": [
    "# Simple Calculator\n",
    "\n",
    "num1 = float(input(\"Enter first number: \"))\n",
    "num2 = float(input(\"Enter second number: \"))\n",
    "\n",
    "operation = input(\"Enter operation (+, -, *, /): \")\n",
    "\n",
    "if operation == '+':\n",
    "  res = num1 + num2\n",
    "elif operation == '-':\n",
    "  res = num1 - num2\n",
    "elif operation == \"*\":\n",
    "  res = num1 * num2\n",
    "elif operation == '/':\n",
    "  if num2 != 0:\n",
    "    res = num1 / num2\n",
    "  else:\n",
    "    res = \"Error! Division by zero.\"\n",
    "else:\n",
    "  res = \"Invalid operation.\"\n",
    "\n",
    "print(\"Result: \", res)"
   ]
  },
  {
   "cell_type": "code",
   "execution_count": null,
   "id": "23ed0a4a",
   "metadata": {},
   "outputs": [],
   "source": []
  }
 ],
 "metadata": {
  "kernelspec": {
   "display_name": "Python 3",
   "language": "python",
   "name": "python3"
  },
  "language_info": {
   "codemirror_mode": {
    "name": "ipython",
    "version": 3
   },
   "file_extension": ".py",
   "mimetype": "text/x-python",
   "name": "python",
   "nbconvert_exporter": "python",
   "pygments_lexer": "ipython3",
   "version": "3.13.5"
  }
 },
 "nbformat": 4,
 "nbformat_minor": 5
}
