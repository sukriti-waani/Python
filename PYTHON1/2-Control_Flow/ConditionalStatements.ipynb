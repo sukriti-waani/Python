{
 "cells": [
  {
   "cell_type": "code",
   "execution_count": 1,
   "id": "200761d1",
   "metadata": {},
   "outputs": [
    {
     "name": "stdout",
     "output_type": "stream",
     "text": [
      "You are allowed to vote in the elections\n"
     ]
    }
   ],
   "source": [
    "# If Statement\n",
    "\n",
    "age = 20\n",
    "if age >= 18:\n",
    "  print(\"You are allowed to vote in the elections\")"
   ]
  },
  {
   "cell_type": "code",
   "execution_count": 2,
   "id": "dab55486",
   "metadata": {},
   "outputs": [
    {
     "name": "stdout",
     "output_type": "stream",
     "text": [
      "You are not allowed to vote in the elections\n"
     ]
    }
   ],
   "source": [
    "# else\n",
    "age = 15\n",
    "if age >= 18:\n",
    "  print(\"You are allowed to vote in the elections\")\n",
    "else:\n",
    "  print(\"You are not allowed to vote in the elections\")"
   ]
  },
  {
   "cell_type": "code",
   "execution_count": 3,
   "id": "cefdd85b",
   "metadata": {},
   "outputs": [
    {
     "name": "stdout",
     "output_type": "stream",
     "text": [
      "you are an adult\n"
     ]
    }
   ],
   "source": [
    "# elif - allows us to check multiple conditions.\n",
    "\n",
    "age = 20\n",
    "if age < 13:\n",
    "  print(\"You are a child\")\n",
    "elif age < 18:\n",
    "  print(\"You are a teenager\")\n",
    "else:\n",
    "  print(\"you are an adult\")"
   ]
  },
  {
   "cell_type": "code",
   "execution_count": null,
   "id": "02456960",
   "metadata": {},
   "outputs": [
    {
     "name": "stdout",
     "output_type": "stream",
     "text": [
      "The number is positive\n",
      "The number is odd\n"
     ]
    }
   ],
   "source": [
    "# Nested Conditional Statements\n",
    "\n",
    "num = int(input(\"Enter the number: \"))\n",
    "\n",
    "if num >= 0:\n",
    "  print(\"The number is positive\")\n",
    "  if num % 2 == 0:\n",
    "    print(\"The number is even\")\n",
    "  else:\n",
    "    print(\"The number is odd\")\n",
    "\n",
    "else:\n",
    "  print(\"The number is zero or negative\")"
   ]
  },
  {
   "cell_type": "code",
   "execution_count": null,
   "id": "28850e81",
   "metadata": {},
   "outputs": [],
   "source": [
    "# Determine if a year is a leap year using nested condition statement\n",
    "\n",
    "year = int(input(\"Enter the year: \"))\n",
    "\n",
    "if year % 4 == 0:\n",
    "  if year % 100 == 0:\n",
    "    if year % 400 == 0:\n",
    "      print(year, \" is a leap year\")\n",
    "    else:\n",
    "      print(year, \" is not a leap year\")\n",
    "  else:\n",
    "    print(year, \" is not a leap year\")\n",
    "    \n",
    "else:\n",
    "  print(year, \" is not a leap year\")"
   ]
  }
 ],
 "metadata": {
  "kernelspec": {
   "display_name": "Python 3",
   "language": "python",
   "name": "python3"
  },
  "language_info": {
   "codemirror_mode": {
    "name": "ipython",
    "version": 3
   },
   "file_extension": ".py",
   "mimetype": "text/x-python",
   "name": "python",
   "nbconvert_exporter": "python",
   "pygments_lexer": "ipython3",
   "version": "3.13.5"
  }
 },
 "nbformat": 4,
 "nbformat_minor": 5
}
