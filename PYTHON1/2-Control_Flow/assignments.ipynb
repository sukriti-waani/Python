{
 "cells": [
  {
   "cell_type": "markdown",
   "metadata": {},
   "source": [
    "# Module 2: Control Flow Assignments\n",
    "## Lesson 2.1: Conditional Statements\n",
    "### Assignment 1: Simple if Statement\n",
    "\n",
    "Write a program that asks the user to input a number and prints whether the number is positive.\n",
    "\n",
    "### Assignment 2: if-else Statement\n",
    "\n",
    "Write a program that asks the user to input a number and prints whether the number is positive or negative.\n",
    "\n",
    "### Assignment 3: if-elif-else Statement\n",
    "\n",
    "Write a program that asks the user to input a number and prints whether the number is positive, negative, or zero.\n",
    "\n",
    "### Assignment 4: Nested if Statement\n",
    "\n",
    "Write a program that asks the user to input a number and prints whether the number is positive and even, positive and odd, or negative.\n",
    "\n",
    "## Lesson 2.2: Loops\n",
    "### Assignment 5: for Loop\n",
    "\n",
    "Write a program that prints all the numbers from 1 to 10 using a for loop.\n",
    "\n",
    "### Assignment 6: while Loop\n",
    "\n",
    "Write a program that prints all the numbers from 1 to 10 using a while loop.\n",
    "\n",
    "### Assignment 7: Nested Loops\n",
    "\n",
    "Write a program that prints a 5x5 grid of asterisks (*) using nested loops.\n",
    "\n",
    "### Assignment 8: break Statement\n",
    "\n",
    "Write a program that asks the user to input numbers until they input 0. The program should print the sum of all the input numbers.\n",
    "\n",
    "### Assignment 9: continue Statement\n",
    "\n",
    "Write a program that prints all the numbers from 1 to 10 except 5 using a for loop and continue statement.\n",
    "\n",
    "### Assignment 10: pass Statement\n",
    "\n",
    "Write a program that defines an empty function using the pass statement.\n",
    "\n",
    "### Assignment 11: Combining Loops and Conditionals\n",
    "\n",
    "Write a program that asks the user to input a number and prints all the even numbers from 1 to that number using a for loop.\n",
    "\n",
    "### Assignment 12: Factorial Calculation\n",
    "\n",
    "Write a program that calculates the factorial of a number input by the user using a while loop.\n",
    "\n",
    "### Assignment 13: Sum of Digits\n",
    "\n",
    "Write a program that calculates the sum of the digits of a number input by the user using a while loop.\n",
    "\n",
    "### Assignment 14: Prime Number Check\n",
    "\n",
    "Write a program that checks if a number input by the user is a prime number using a for loop.\n",
    "\n",
    "### Assignment 15: Fibonacci Sequence\n",
    "\n",
    "Write a program that prints the first n Fibonacci numbers, where n is input by the user."
   ]
  },
  {
   "cell_type": "code",
   "execution_count": 1,
   "id": "8ca40a2d",
   "metadata": {},
   "outputs": [
    {
     "name": "stdout",
     "output_type": "stream",
     "text": [
      "The number is positive.\n"
     ]
    }
   ],
   "source": [
    "# 1\n",
    "# Check if a number is positive\n",
    "num = int(input(\"Enter a number: \"))\n",
    "if num > 0:\n",
    "    print(\"The number is positive.\")\n",
    "\n"
   ]
  },
  {
   "cell_type": "code",
   "execution_count": 2,
   "id": "ae9e9f67",
   "metadata": {},
   "outputs": [
    {
     "name": "stdout",
     "output_type": "stream",
     "text": [
      "The number is negative.\n"
     ]
    }
   ],
   "source": [
    "# 2\n",
    "# Check if a number is positive or negative\n",
    "num = int(input(\"Enter a number: \"))\n",
    "if num > 0:\n",
    "    print(\"The number is positive.\")\n",
    "else:\n",
    "    print(\"The number is negative.\")\n"
   ]
  },
  {
   "cell_type": "code",
   "execution_count": 3,
   "metadata": {},
   "outputs": [
    {
     "name": "stdout",
     "output_type": "stream",
     "text": [
      "The number is positive.\n"
     ]
    }
   ],
   "source": [
    "# 3\n",
    "# Check if a number is positive, negative, or zero\n",
    "num = int(input(\"Enter a number: \"))\n",
    "if num > 0:\n",
    "    print(\"The number is positive.\")\n",
    "elif num < 0:\n",
    "    print(\"The number is negative.\")\n",
    "else:\n",
    "    print(\"The number is zero.\")\n"
   ]
  },
  {
   "cell_type": "code",
   "execution_count": 4,
   "id": "d44ddc0f",
   "metadata": {},
   "outputs": [
    {
     "name": "stdout",
     "output_type": "stream",
     "text": [
      "The number is positive and odd.\n"
     ]
    }
   ],
   "source": [
    "# 4\n",
    "# Check if a number is positive and even/odd, or negative\n",
    "num = int(input(\"Enter a number: \"))\n",
    "if num > 0:\n",
    "    if num % 2 == 0:\n",
    "        print(\"The number is positive and even.\")\n",
    "    else:\n",
    "        print(\"The number is positive and odd.\")\n",
    "else:\n",
    "    print(\"The number is negative.\")\n"
   ]
  },
  {
   "cell_type": "code",
   "execution_count": 5,
   "id": "4550fb46",
   "metadata": {},
   "outputs": [
    {
     "name": "stdout",
     "output_type": "stream",
     "text": [
      "1 2 3 4 5 6 7 8 9 10 "
     ]
    }
   ],
   "source": [
    "# 5\n",
    "# Print numbers from 1 to 10 using for loop\n",
    "for i in range(1, 11):\n",
    "    print(i, end=\" \")\n"
   ]
  },
  {
   "cell_type": "code",
   "execution_count": 6,
   "id": "d3b05537",
   "metadata": {},
   "outputs": [
    {
     "name": "stdout",
     "output_type": "stream",
     "text": [
      "1 2 3 4 5 6 7 8 9 10 "
     ]
    }
   ],
   "source": [
    "# 6\n",
    "# Print numbers from 1 to 10 using while loop\n",
    "i = 1\n",
    "while i <= 10:\n",
    "    print(i, end=\" \")\n",
    "    i += 1\n"
   ]
  },
  {
   "cell_type": "code",
   "execution_count": null,
   "id": "ec7718af",
   "metadata": {},
   "outputs": [],
   "source": [
    "# 7\n",
    "# Print a 5x5 grid of asterisks\n",
    "for i in range(5):\n",
    "    for j in range(5):\n",
    "        print(\"*\", end=\" \")\n",
    "    print()  # Move to next line after each row"
   ]
  }
 ],
 "metadata": {
  "kernelspec": {
   "display_name": "Python 3",
   "language": "python",
   "name": "python3"
  },
  "language_info": {
   "codemirror_mode": {
    "name": "ipython",
    "version": 3
   },
   "file_extension": ".py",
   "mimetype": "text/x-python",
   "name": "python",
   "nbconvert_exporter": "python",
   "pygments_lexer": "ipython3",
   "version": "3.13.5"
  }
 },
 "nbformat": 4,
 "nbformat_minor": 5
}
