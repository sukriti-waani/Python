{
 "cells": [
  {
   "cell_type": "code",
   "execution_count": 1,
   "id": "a4358b4d",
   "metadata": {},
   "outputs": [
    {
     "name": "stdout",
     "output_type": "stream",
     "text": [
      "Sukriti\n",
      "Waani\n"
     ]
    }
   ],
   "source": [
    "## Basic syntax Rules in Python\n",
    "## Case Sensitivity\n",
    "\n",
    "name=\"Sukriti\"\n",
    "Name=\"Waani\"\n",
    "\n",
    "print(name)\n",
    "print(Name)"
   ]
  },
  {
   "cell_type": "code",
   "execution_count": null,
   "id": "28616ac7",
   "metadata": {},
   "outputs": [
    {
     "name": "stdout",
     "output_type": "stream",
     "text": [
      "32\n"
     ]
    }
   ],
   "source": [
    "## Indentation\n",
    "## Python uses indentation to define blocks of code. Consistent use of spaces (commonly 4) or a tab is required.\n",
    "\n",
    "age=32\n",
    "if age>30:\n",
    "  print(age)\n",
    "\n",
    "print(age)"
   ]
  }
 ],
 "metadata": {
  "kernelspec": {
   "display_name": "venv1",
   "language": "python",
   "name": "python3"
  },
  "language_info": {
   "codemirror_mode": {
    "name": "ipython",
    "version": 3
   },
   "file_extension": ".py",
   "mimetype": "text/x-python",
   "name": "python",
   "nbconvert_exporter": "python",
   "pygments_lexer": "ipython3",
   "version": "3.13.5"
  }
 },
 "nbformat": 4,
 "nbformat_minor": 5
}
