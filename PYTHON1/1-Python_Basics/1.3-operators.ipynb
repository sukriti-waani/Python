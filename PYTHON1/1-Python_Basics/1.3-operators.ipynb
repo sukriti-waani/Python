{
 "cells": [
  {
   "cell_type": "markdown",
   "id": "ec92cb12",
   "metadata": {},
   "source": [
    "#### Arithmetic Operation"
   ]
  },
  {
   "cell_type": "code",
   "execution_count": null,
   "id": "ae02c09d",
   "metadata": {},
   "outputs": [
    {
     "name": "stdout",
     "output_type": "stream",
     "text": [
      "15\n",
      "5\n",
      "50\n",
      "2.0\n",
      "2\n",
      "0\n",
      "100000\n"
     ]
    }
   ],
   "source": [
    "# a = 10\n",
    "# b = 5\n",
    "# add = a + b\n",
    "# sub = a - b\n",
    "# mult = a * b\n",
    "# div = a / b\n",
    "# floorDiv = a // b \n",
    "# modulus = a % b\n",
    "# exponent = a ** b\n",
    "\n",
    "# print(add)\n",
    "# print(sub)\n",
    "# print(mult)\n",
    "# print(div)\n",
    "# print(floorDiv)\n",
    "# print(modulus)\n",
    "# print(exponent)"
   ]
  },
  {
   "cell_type": "markdown",
   "id": "937c201d",
   "metadata": {},
   "source": [
    "#### Comparison Operators"
   ]
  },
  {
   "cell_type": "code",
   "execution_count": null,
   "metadata": {},
   "outputs": [
    {
     "data": {
      "text/plain": [
       "False"
      ]
     },
     "execution_count": 8,
     "metadata": {},
     "output_type": "execute_result"
    }
   ],
   "source": [
    "# ==\n",
    "a = 10\n",
    "b = 10\n",
    "a == b\n",
    "\n",
    "str1 = \"Suk\"\n",
    "str2 = \"Suk\"\n",
    "# str1 == str2\n",
    "str1 != str2"
   ]
  },
  {
   "cell_type": "code",
   "execution_count": null,
   "metadata": {},
   "outputs": [
    {
     "data": {
      "text/plain": [
       "False"
      ]
     },
     "execution_count": 9,
     "metadata": {},
     "output_type": "execute_result"
    }
   ],
   "source": [
    "# greater than >\n",
    "num1 = 45\n",
    "num2 = 55\n",
    "num1 > num2"
   ]
  },
  {
   "cell_type": "code",
   "execution_count": 10,
   "metadata": {},
   "outputs": [
    {
     "name": "stdout",
     "output_type": "stream",
     "text": [
      "True\n"
     ]
    }
   ],
   "source": [
    "# less than <\n",
    "print(num1 < num2)"
   ]
  },
  {
   "cell_type": "code",
   "execution_count": 14,
   "metadata": {},
   "outputs": [
    {
     "name": "stdout",
     "output_type": "stream",
     "text": [
      "True\n"
     ]
    }
   ],
   "source": [
    "# greater than or equal to\n",
    "num3 = 35\n",
    "num4 = 12\n",
    "print(num3 >= num4)"
   ]
  },
  {
   "cell_type": "code",
   "execution_count": 15,
   "id": "3a70a642",
   "metadata": {},
   "outputs": [
    {
     "name": "stdout",
     "output_type": "stream",
     "text": [
      "True\n"
     ]
    }
   ],
   "source": [
    "# less than or equal to\n",
    "num3 = 35\n",
    "num4 = 35\n",
    "print(num3 <= num4)"
   ]
  },
  {
   "cell_type": "markdown",
   "id": "000223c7",
   "metadata": {},
   "source": [
    "#### Logical Operators"
   ]
  },
  {
   "cell_type": "code",
   "execution_count": 20,
   "id": "0b5754e4",
   "metadata": {},
   "outputs": [],
   "source": [
    "## And, Not, OR\n",
    "\n",
    "X = True\n",
    "Y = True\n",
    "\n",
    "res = X and Y"
   ]
  },
  {
   "cell_type": "code",
   "execution_count": 24,
   "id": "3330c9e5",
   "metadata": {},
   "outputs": [],
   "source": [
    "X = True\n",
    "Y = False\n",
    "\n",
    "result = X and Y\n"
   ]
  },
  {
   "cell_type": "code",
   "execution_count": null,
   "id": "cbf09b37",
   "metadata": {},
   "outputs": [],
   "source": [
    "# Or\n",
    "X = False\n",
    "Y = False\n",
    "\n",
    "res = X or Y"
   ]
  },
  {
   "cell_type": "code",
   "execution_count": 26,
   "id": "b20bda41",
   "metadata": {},
   "outputs": [
    {
     "data": {
      "text/plain": [
       "False"
      ]
     },
     "execution_count": 26,
     "metadata": {},
     "output_type": "execute_result"
    }
   ],
   "source": [
    "# Not Operator\n",
    "X = True\n",
    "not X"
   ]
  },
  {
   "cell_type": "code",
   "execution_count": 31,
   "id": "26935858",
   "metadata": {},
   "outputs": [
    {
     "ename": "TypeError",
     "evalue": "'bool' object is not callable",
     "output_type": "error",
     "traceback": [
      "\u001b[31m---------------------------------------------------------------------------\u001b[39m",
      "\u001b[31mTypeError\u001b[39m                                 Traceback (most recent call last)",
      "\u001b[36mCell\u001b[39m\u001b[36m \u001b[39m\u001b[32mIn[31]\u001b[39m\u001b[32m, line 13\u001b[39m\n\u001b[32m     10\u001b[39m modulus = n1 % n2\n\u001b[32m     11\u001b[39m exponentiation = n1 ** n2\n\u001b[32m---> \u001b[39m\u001b[32m13\u001b[39m \u001b[38;5;28;43mprint\u001b[39;49m\u001b[43m(\u001b[49m\u001b[33;43m\"\u001b[39;49m\u001b[33;43mSum: \u001b[39;49m\u001b[33;43m\"\u001b[39;49m\u001b[43m,\u001b[49m\u001b[43m \u001b[49m\u001b[43maddition\u001b[49m\u001b[43m)\u001b[49m\n\u001b[32m     14\u001b[39m \u001b[38;5;28mprint\u001b[39m(\u001b[33m\"\u001b[39m\u001b[33mSubtraction: \u001b[39m\u001b[33m\"\u001b[39m, sub)\n\u001b[32m     15\u001b[39m \u001b[38;5;28mprint\u001b[39m(\u001b[33m\"\u001b[39m\u001b[33mProduct: \u001b[39m\u001b[33m\"\u001b[39m, product)\n",
      "\u001b[31mTypeError\u001b[39m: 'bool' object is not callable"
     ]
    }
   ],
   "source": [
    "## Simple Calculator\n",
    "n1 = float(input(\"Enter first number: \"))\n",
    "n2 = float(input(\"Enter second number: \"))\n",
    "\n",
    "addition = n1 + n2\n",
    "sub = n1 - n2\n",
    "product = n1 * n2\n",
    "division = n1 / n2\n",
    "floor_division = n1 // n2\n",
    "modulus = n1 % n2\n",
    "exponentiation = n1 ** n2\n",
    "\n",
    "print(\"Sum: \", addition)\n",
    "print(\"Subtraction: \", sub)\n",
    "print(\"Product: \", product)\n",
    "print(\"Division: \",division)\n",
    "print(\"Floor Division: \",floor_division)\n",
    "print(\"Modulus: \",modulus)\n",
    "print(\"Exponentiation: \",exponentiation)\n",
    "\n"
   ]
  },
  {
   "cell_type": "code",
   "execution_count": null,
   "id": "9ba47e7f",
   "metadata": {},
   "outputs": [],
   "source": []
  }
 ],
 "metadata": {
  "kernelspec": {
   "display_name": "Python 3",
   "language": "python",
   "name": "python3"
  },
  "language_info": {
   "codemirror_mode": {
    "name": "ipython",
    "version": 3
   },
   "file_extension": ".py",
   "mimetype": "text/x-python",
   "name": "python",
   "nbconvert_exporter": "python",
   "pygments_lexer": "ipython3",
   "version": "3.13.5"
  }
 },
 "nbformat": 4,
 "nbformat_minor": 5
}
