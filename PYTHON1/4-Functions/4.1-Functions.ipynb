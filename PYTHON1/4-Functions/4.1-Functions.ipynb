{
 "cells": [
  {
   "cell_type": "markdown",
   "id": "15b69dc9",
   "metadata": {},
   "source": [
    "A function is a block of code that performs a specific task. Functions help in organizing code, reusing code, and improving readability."
   ]
  },
  {
   "cell_type": "code",
   "execution_count": 1,
   "id": "55f1a439",
   "metadata": {},
   "outputs": [],
   "source": [
    "# Syntax\n",
    "\n",
    "def function_name(parameters):\n",
    "  \"\"\"Docstring\"\"\" # to write some kind of comments what the specific function does\n",
    "  # Function body\n",
    "  return expression"
   ]
  },
  {
   "cell_type": "code",
   "execution_count": 2,
   "id": "f137745d",
   "metadata": {},
   "outputs": [
    {
     "name": "stdout",
     "output_type": "stream",
     "text": [
      "The number is even\n"
     ]
    }
   ],
   "source": [
    "# why functions ?\n",
    "\n",
    "n = 24\n",
    "if n % 2 == 0:\n",
    "  print(\"The number is even\")\n",
    "else:\n",
    "  print(\"The number is even\")"
   ]
  },
  {
   "cell_type": "code",
   "execution_count": 3,
   "id": "caf425c8",
   "metadata": {},
   "outputs": [],
   "source": [
    "def even_or_odd(n):\n",
    "  \"\"\"This function finds even or odd\"\"\"\n",
    "  if n % 2 == 0:\n",
    "    print(\"The number is even\")\n",
    "  else:\n",
    "    print(\"The number is odd\")"
   ]
  },
  {
   "cell_type": "code",
   "execution_count": 4,
   "id": "d3bb2e8c",
   "metadata": {},
   "outputs": [
    {
     "name": "stdout",
     "output_type": "stream",
     "text": [
      "The number is even\n"
     ]
    }
   ],
   "source": [
    "## Call this function\n",
    "even_or_odd(24)"
   ]
  },
  {
   "cell_type": "code",
   "execution_count": 5,
   "id": "3b6f4bc3",
   "metadata": {},
   "outputs": [
    {
     "name": "stdout",
     "output_type": "stream",
     "text": [
      "6\n"
     ]
    }
   ],
   "source": [
    "## function with multiple parameters\n",
    "\n",
    "def add(a,b):\n",
    "  return a + b\n",
    "\n",
    "res = add(2,4)\n",
    "print(res)"
   ]
  },
  {
   "cell_type": "code",
   "execution_count": 6,
   "id": "5241cc77",
   "metadata": {},
   "outputs": [
    {
     "name": "stdout",
     "output_type": "stream",
     "text": [
      "Hello Suk\n"
     ]
    }
   ],
   "source": [
    "# Default Parameters\n",
    "\n",
    "def greet(name):\n",
    "  print(f\"Hello {name}\")\n",
    "\n",
    "greet(\"Suk\")"
   ]
  },
  {
   "cell_type": "code",
   "execution_count": 7,
   "id": "a59e0df9",
   "metadata": {},
   "outputs": [
    {
     "name": "stdout",
     "output_type": "stream",
     "text": [
      "Hello Guest\n"
     ]
    }
   ],
   "source": [
    "def greet(name = \"Guest\"):\n",
    "  print(f\"Hello {name}\")\n",
    "\n",
    "greet()"
   ]
  },
  {
   "cell_type": "code",
   "execution_count": 8,
   "id": "ed926925",
   "metadata": {},
   "outputs": [],
   "source": [
    "## Variable Length Arguments\n",
    "## Positional and Keywords arguments\n",
    "\n",
    "def print_nums(*Suk):\n",
    "  for num in Suk:\n",
    "    print(num)"
   ]
  },
  {
   "cell_type": "code",
   "execution_count": 9,
   "id": "eb46fa45",
   "metadata": {},
   "outputs": [
    {
     "name": "stdout",
     "output_type": "stream",
     "text": [
      "1\n",
      "2\n",
      "3\n",
      "4\n",
      "5\n",
      "6\n",
      "7\n",
      "8\n",
      "Suk\n"
     ]
    }
   ],
   "source": [
    "print_nums(1,2,3,4,5,6,7,8,\"Suk\")"
   ]
  },
  {
   "cell_type": "code",
   "execution_count": 12,
   "id": "270a324c",
   "metadata": {},
   "outputs": [],
   "source": [
    "## Positional Arguments\n",
    "\n",
    "# *args is used to allow a function to take any number of positional arguments — that means we can pass multiple values without specifying how many in advance\n",
    "\n",
    "def print_nums(*args):\n",
    "  for num in args:\n",
    "    print(num)"
   ]
  },
  {
   "cell_type": "code",
   "execution_count": 13,
   "id": "a7b8a97c",
   "metadata": {},
   "outputs": [
    {
     "name": "stdout",
     "output_type": "stream",
     "text": [
      "1\n",
      "2\n",
      "3\n",
      "4\n",
      "5\n",
      "6\n",
      "7\n",
      "8\n",
      "Suk\n"
     ]
    }
   ],
   "source": [
    "print_nums(1,2,3,4,5,6,7,8,\"Suk\")"
   ]
  },
  {
   "cell_type": "code",
   "execution_count": 14,
   "id": "d544ae6c",
   "metadata": {},
   "outputs": [],
   "source": [
    "## Keywords Arguments\n",
    "\n",
    "def print_details(**kwargs):\n",
    "  for key, value in kwargs.items():\n",
    "    print(f\"{key}:{value}\")"
   ]
  },
  {
   "cell_type": "code",
   "execution_count": 15,
   "id": "56856107",
   "metadata": {},
   "outputs": [
    {
     "name": "stdout",
     "output_type": "stream",
     "text": [
      "name:suk\n",
      "age:19\n",
      "country:India\n"
     ]
    }
   ],
   "source": [
    "print_details(name = \"suk\", age = 19, country = \"India\")"
   ]
  },
  {
   "cell_type": "code",
   "execution_count": 16,
   "id": "dd57799f",
   "metadata": {},
   "outputs": [],
   "source": [
    "def print_details(*args,**kwargs):\n",
    "  for val in args:\n",
    "    print(f\"Positional argument : {val}\")\n",
    "\n",
    "  for key, value in kwargs.items():\n",
    "    print(f\"{key}:{value}\")"
   ]
  },
  {
   "cell_type": "code",
   "execution_count": 18,
   "id": "60463405",
   "metadata": {},
   "outputs": [
    {
     "name": "stdout",
     "output_type": "stream",
     "text": [
      "Positional argument : 1\n",
      "Positional argument : 2\n",
      "Positional argument : 3\n",
      "Positional argument : 4\n",
      "Positional argument : Suk\n",
      "name:suk\n",
      "age:19\n",
      "country:India\n"
     ]
    }
   ],
   "source": [
    "print_details(1,2,3,4,\"Suk\",name = \"suk\", age = 19, country = \"India\")"
   ]
  },
  {
   "cell_type": "code",
   "execution_count": 20,
   "id": "88d5132b",
   "metadata": {},
   "outputs": [
    {
     "data": {
      "text/plain": [
       "(6, 2)"
      ]
     },
     "execution_count": 20,
     "metadata": {},
     "output_type": "execute_result"
    }
   ],
   "source": [
    "### Return Multiple Parameters\n",
    "def multiply(a,b):\n",
    "  return a*b, a\n",
    "\n",
    "multiply(2,3)"
   ]
  }
 ],
 "metadata": {
  "kernelspec": {
   "display_name": "Python 3",
   "language": "python",
   "name": "python3"
  },
  "language_info": {
   "codemirror_mode": {
    "name": "ipython",
    "version": 3
   },
   "file_extension": ".py",
   "mimetype": "text/x-python",
   "name": "python",
   "nbconvert_exporter": "python",
   "pygments_lexer": "ipython3",
   "version": "3.13.5"
  }
 },
 "nbformat": 4,
 "nbformat_minor": 5
}
