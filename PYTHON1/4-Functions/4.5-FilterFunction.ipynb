{
 "cells": [
  {
   "cell_type": "markdown",
   "id": "b741114a",
   "metadata": {},
   "source": [
    "The filter() function constructs an iterator from elements of an iterable for which a function returns true.\n",
    "It is used to filter out items from a list (or any other iterable) based on a condition."
   ]
  },
  {
   "cell_type": "code",
   "execution_count": 2,
   "id": "9653f181",
   "metadata": {},
   "outputs": [],
   "source": [
    "def even(n):\n",
    "  if n%2==0:\n",
    "    return True"
   ]
  },
  {
   "cell_type": "code",
   "execution_count": 3,
   "id": "2336a157",
   "metadata": {},
   "outputs": [
    {
     "data": {
      "text/plain": [
       "True"
      ]
     },
     "execution_count": 3,
     "metadata": {},
     "output_type": "execute_result"
    }
   ],
   "source": [
    "even(14)"
   ]
  },
  {
   "cell_type": "code",
   "execution_count": 4,
   "id": "b8fc698d",
   "metadata": {},
   "outputs": [
    {
     "data": {
      "text/plain": [
       "[2, 4, 6, 8, 10, 12]"
      ]
     },
     "execution_count": 4,
     "metadata": {},
     "output_type": "execute_result"
    }
   ],
   "source": [
    "lst = [1,2,3,4,5,6,7,8,9,10,11,12]\n",
    "\n",
    "list(filter(even, lst))"
   ]
  },
  {
   "cell_type": "code",
   "execution_count": 6,
   "id": "33cb70f8",
   "metadata": {},
   "outputs": [
    {
     "name": "stdout",
     "output_type": "stream",
     "text": [
      "[6, 7, 8, 9]\n"
     ]
    }
   ],
   "source": [
    "# Filter with a Lambda Function\n",
    "\n",
    "nums = [1,2,3,4,5,6,7,8,9]\n",
    "greater_than_five = list(filter(lambda x: x > 5, nums))\n",
    "print(greater_than_five)"
   ]
  },
  {
   "cell_type": "code",
   "execution_count": 8,
   "id": "83d82e57",
   "metadata": {},
   "outputs": [
    {
     "name": "stdout",
     "output_type": "stream",
     "text": [
      "[6, 8]\n"
     ]
    }
   ],
   "source": [
    "# Filter with a Lambda function and multiple conditions\n",
    "\n",
    "nums = [1,2,3,4,5,6,7,8,9]\n",
    "even_and_greater_than_five = list(filter(lambda x : x > 5 and x % 2 == 0, nums))\n",
    "print(even_and_greater_than_five)"
   ]
  },
  {
   "cell_type": "code",
   "execution_count": 10,
   "id": "07997f40",
   "metadata": {},
   "outputs": [
    {
     "data": {
      "text/plain": [
       "[{'name': 'Waani', 'age': 20}]"
      ]
     },
     "execution_count": 10,
     "metadata": {},
     "output_type": "execute_result"
    }
   ],
   "source": [
    "# Filter() to check it the age is greater than 19 in dictionaries\n",
    "\n",
    "people = [\n",
    "  {'name': 'Suk', 'age': 19},\n",
    "  {'name': 'Waani', 'age': 20},\n",
    "  {'name': 'Sourya', 'age': 18},\n",
    "]\n",
    "\n",
    "def age_greater_tha_19(person):\n",
    "  return person['age'] > 19\n",
    "\n",
    "list(filter(age_greater_tha_19, people))"
   ]
  },
  {
   "cell_type": "markdown",
   "id": "4adac86b",
   "metadata": {},
   "source": [
    "### Conclusion\n",
    "\n",
    "The filter() function is a powerful tool for creating iterators that filter items out of an iterable based on a function.\n",
    "It is commonly used for data cleaning, filtering objects, and removing unwanted elements from lists.\n",
    "By mastering filter(), we can write more concise and efficient code for processing and manipulating collections in Python."
   ]
  }
 ],
 "metadata": {
  "kernelspec": {
   "display_name": "Python 3",
   "language": "python",
   "name": "python3"
  },
  "language_info": {
   "codemirror_mode": {
    "name": "ipython",
    "version": 3
   },
   "file_extension": ".py",
   "mimetype": "text/x-python",
   "name": "python",
   "nbconvert_exporter": "python",
   "pygments_lexer": "ipython3",
   "version": "3.13.5"
  }
 },
 "nbformat": 4,
 "nbformat_minor": 5
}
