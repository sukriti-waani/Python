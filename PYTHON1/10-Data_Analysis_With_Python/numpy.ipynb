{
 "cells": [
  {
   "cell_type": "markdown",
   "id": "0bc31a7a",
   "metadata": {},
   "source": [
    "NumPy is a fundamental library for scientific computing in Python.\n",
    "It provides support for arrays and matrices, along with collection of mathematical functions to operate on these structures."
   ]
  },
  {
   "cell_type": "code",
   "execution_count": 1,
   "id": "56063bb9",
   "metadata": {},
   "outputs": [
    {
     "name": "stdout",
     "output_type": "stream",
     "text": [
      "Requirement already satisfied: numpy in c:\\my_programs\\python\\python\\python1\\venv1\\lib\\site-packages (2.3.3)\n",
      "Note: you may need to restart the kernel to use updated packages.\n"
     ]
    }
   ],
   "source": [
    "pip install numpy"
   ]
  },
  {
   "cell_type": "code",
   "execution_count": 4,
   "id": "75876614",
   "metadata": {},
   "outputs": [
    {
     "name": "stdout",
     "output_type": "stream",
     "text": [
      "[1 2 3 4 5]\n",
      "<class 'numpy.ndarray'>\n",
      "(5,)\n"
     ]
    }
   ],
   "source": [
    "import numpy as np\n",
    "\n",
    "# Creating a 1D array\n",
    "arr1 = np.array([1, 2, 3, 4, 5])\n",
    "print(arr1)\n",
    "print(type(arr1))\n",
    "print(arr1.shape)"
   ]
  },
  {
   "cell_type": "code",
   "execution_count": 6,
   "id": "3e302be8",
   "metadata": {},
   "outputs": [
    {
     "data": {
      "text/plain": [
       "array([[1, 2, 3, 4, 5]])"
      ]
     },
     "execution_count": 6,
     "metadata": {},
     "output_type": "execute_result"
    }
   ],
   "source": [
    "arr2 = np.array([1,2,3,4,5])\n",
    "arr2.reshape(1,5) # 1 row and 5 columns"
   ]
  },
  {
   "cell_type": "code",
   "execution_count": null,
   "id": "a0c6c207",
   "metadata": {},
   "outputs": [
    {
     "name": "stdout",
     "output_type": "stream",
     "text": [
      "[[1 2 3 4 5]\n",
      " [2 3 4 5 6]]\n",
      "(2, 5)\n"
     ]
    }
   ],
   "source": [
    "# 2D array\n",
    "\n",
    "arr2 = np.array([[1,2,3,4,5],[2,3,4,5,6]])\n",
    "print(arr2)\n",
    "print(arr2.shape)"
   ]
  },
  {
   "cell_type": "code",
   "execution_count": null,
   "id": "f7ea8239",
   "metadata": {},
   "outputs": [
    {
     "data": {
      "text/plain": [
       "array([[0],\n",
       "       [2],\n",
       "       [4],\n",
       "       [6],\n",
       "       [8]])"
      ]
     },
     "execution_count": 11,
     "metadata": {},
     "output_type": "execute_result"
    }
   ],
   "source": [
    "np.arange(0,10,2).reshape(5,1)  # start, end, step"
   ]
  },
  {
   "cell_type": "code",
   "execution_count": 12,
   "id": "f61a4f42",
   "metadata": {},
   "outputs": [
    {
     "data": {
      "text/plain": [
       "array([[1., 1., 1., 1.],\n",
       "       [1., 1., 1., 1.],\n",
       "       [1., 1., 1., 1.]])"
      ]
     },
     "execution_count": 12,
     "metadata": {},
     "output_type": "execute_result"
    }
   ],
   "source": [
    "np.ones((3,4))  # 3 rows and 4 columns of ones"
   ]
  },
  {
   "cell_type": "code",
   "execution_count": 13,
   "id": "4a1e4bb0",
   "metadata": {},
   "outputs": [
    {
     "data": {
      "text/plain": [
       "array([[1., 0., 0., 0.],\n",
       "       [0., 1., 0., 0.],\n",
       "       [0., 0., 1., 0.],\n",
       "       [0., 0., 0., 1.]])"
      ]
     },
     "execution_count": 13,
     "metadata": {},
     "output_type": "execute_result"
    }
   ],
   "source": [
    "## Identity matrix\n",
    "\n",
    "np.eye(4)  # 4x4 identity matrix"
   ]
  },
  {
   "cell_type": "code",
   "execution_count": null,
   "id": "931992c7",
   "metadata": {},
   "outputs": [
    {
     "name": "stdout",
     "output_type": "stream",
     "text": [
      "Array:\n",
      " [[1 2 3]\n",
      " [4 5 6]\n",
      " [7 8 9]]\n",
      "Shape: (3, 3)\n",
      "Dimensions: 2\n",
      "Data Type: int64\n",
      "Size: 9\n",
      "Item Size (in bytes): 8\n",
      "Total Bytes: 72\n"
     ]
    }
   ],
   "source": [
    "# Attributes of NumPy arrays\n",
    "\n",
    "arr = np.array([[1,2,3],[4,5,6],[7,8,9]])\n",
    "\n",
    "print(\"Array:\\n\", arr)\n",
    "print(\"Shape:\", arr.shape)\n",
    "print(\"Dimensions:\", arr.ndim)\n",
    "print(\"Data Type:\", arr.dtype)\n",
    "print(\"Size:\", arr.size)\n",
    "print(\"Item Size (in bytes):\", arr.itemsize)\n",
    "print(\"Total Bytes:\", arr.nbytes)"
   ]
  },
  {
   "cell_type": "code",
   "execution_count": 16,
   "id": "7ee9e3de",
   "metadata": {},
   "outputs": [
    {
     "name": "stdout",
     "output_type": "stream",
     "text": [
      "Addition: [11 22 33 44 55]\n",
      "Subtraction: [ 9 18 27 36 45]\n",
      "Multiplication: [ 10  40  90 160 250]\n",
      "Division: [10. 10. 10. 10. 10.]\n"
     ]
    }
   ],
   "source": [
    "# NumPy Vectorized Operations\n",
    "\n",
    "arr4 = np.array([1,2,3,4,5])\n",
    "arr5 = np.array([10,20,30,40,50])\n",
    "\n",
    "# Element-wise addition\n",
    "print(\"Addition:\", arr4 + arr5)\n",
    "\n",
    "# Element-wise subtraction\n",
    "print(\"Subtraction:\", arr5 - arr4)\n",
    "\n",
    "# Element-wise multiplication\n",
    "print(\"Multiplication:\", arr4 * arr5)\n",
    "\n",
    "# Element-wise division\n",
    "print(\"Division:\", arr5 / arr4)"
   ]
  },
  {
   "cell_type": "code",
   "execution_count": 17,
   "id": "e104ed51",
   "metadata": {},
   "outputs": [
    {
     "name": "stdout",
     "output_type": "stream",
     "text": [
      "Square Root: [1.41421356 1.73205081 2.         2.23606798 2.44948974]\n",
      "Exponential: [  7.3890561   20.08553692  54.59815003 148.4131591  403.42879349]\n",
      "Sine: [ 0.90929743  0.14112001 -0.7568025  -0.95892427 -0.2794155 ]\n",
      "Natural Logarithm: [0.69314718 1.09861229 1.38629436 1.60943791 1.79175947]\n"
     ]
    }
   ],
   "source": [
    "# Universal Functions (ufuncs) in NumPy\n",
    "\n",
    "arr6 = np.array([2,3,4,5,6])\n",
    "# Square root\n",
    "print(\"Square Root:\", np.sqrt(arr6))\n",
    "\n",
    "# Exponential\n",
    "print(\"Exponential:\", np.exp(arr6))\n",
    "\n",
    "# Sine\n",
    "print(\"Sine:\", np.sin(arr6))\n",
    "\n",
    "# Natural Logarithm\n",
    "print(\"Natural Logarithm:\", np.log(arr6))"
   ]
  },
  {
   "cell_type": "code",
   "execution_count": 19,
   "id": "eb9a17bc",
   "metadata": {},
   "outputs": [
    {
     "name": "stdout",
     "output_type": "stream",
     "text": [
      "Original Array:\n",
      " [[ 10  20  30  40  50]\n",
      " [ 60  70  80  90 100]\n",
      " [110 120 130 140 150]]\n"
     ]
    }
   ],
   "source": [
    "# Slicing and Indexing in NumPy Arrays\n",
    "\n",
    "arr7 = np.array([[10,20,30,40,50], [60,70,80,90,100], [110,120,130,140,150]])\n",
    "print(\"Original Array:\\n\", arr7)"
   ]
  },
  {
   "cell_type": "code",
   "execution_count": 27,
   "id": "d3a80a9a",
   "metadata": {},
   "outputs": [
    {
     "name": "stdout",
     "output_type": "stream",
     "text": [
      "10\n",
      "[[ 20  30  40  50]\n",
      " [ 70  80  90 100]]\n"
     ]
    }
   ],
   "source": [
    "print(arr7[0][0])\n",
    "print(arr7[0:2, 1:])"
   ]
  },
  {
   "cell_type": "code",
   "execution_count": 28,
   "id": "62ba5545",
   "metadata": {},
   "outputs": [
    {
     "name": "stdout",
     "output_type": "stream",
     "text": [
      "[[ 70  80]\n",
      " [120 130]]\n"
     ]
    }
   ],
   "source": [
    "print(arr7[1:, 1:3])"
   ]
  },
  {
   "cell_type": "code",
   "execution_count": 25,
   "id": "f7702de8",
   "metadata": {},
   "outputs": [
    {
     "name": "stdout",
     "output_type": "stream",
     "text": [
      "[[ 80  90 100]\n",
      " [130 140 150]]\n"
     ]
    }
   ],
   "source": [
    "print(arr7[1:, 2:])"
   ]
  },
  {
   "cell_type": "code",
   "execution_count": 29,
   "id": "4f253dfa",
   "metadata": {},
   "outputs": [
    {
     "name": "stdout",
     "output_type": "stream",
     "text": [
      "Modified Array:\n",
      " [[200  20  30  40  50]\n",
      " [ 60  70  80  90 100]\n",
      " [110 120 130 140 150]]\n"
     ]
    }
   ],
   "source": [
    "# Modify elements\n",
    "arr7[0,0] = 200\n",
    "print(\"Modified Array:\\n\", arr7)"
   ]
  },
  {
   "cell_type": "code",
   "execution_count": 32,
   "id": "4c2e6191",
   "metadata": {},
   "outputs": [
    {
     "name": "stdout",
     "output_type": "stream",
     "text": [
      "[[200  20  30  40  50]\n",
      " [300 300 300 300 300]\n",
      " [300 300 300 300 300]]\n"
     ]
    }
   ],
   "source": [
    "arr7[1:] = 300\n",
    "print(arr7)"
   ]
  },
  {
   "cell_type": "code",
   "execution_count": 34,
   "id": "dcb0ea87",
   "metadata": {},
   "outputs": [
    {
     "name": "stdout",
     "output_type": "stream",
     "text": [
      "Normalized Array:\n",
      " [[-0.19547333 -1.74776156 -1.66152332 -1.57528509 -1.48904685]\n",
      " [ 0.66690901  0.66690901  0.66690901  0.66690901  0.66690901]\n",
      " [ 0.66690901  0.66690901  0.66690901  0.66690901  0.66690901]]\n"
     ]
    }
   ],
   "source": [
    "# Statistical Operations with NumPy - Normalization\n",
    "# To have a mean of 0 and standard deviation of 1\n",
    "\n",
    "# Calculate mean and standard deviation\n",
    "mean = np.mean(arr7)\n",
    "std_dev = np.std(arr7)\n",
    "\n",
    "# Normalize the array\n",
    "normalized_arr = (arr7 - mean) / std_dev\n",
    "print(\"Normalized Array:\\n\", normalized_arr)"
   ]
  },
  {
   "cell_type": "code",
   "execution_count": 35,
   "id": "b9cfd05b",
   "metadata": {},
   "outputs": [
    {
     "name": "stdout",
     "output_type": "stream",
     "text": [
      "Mean: 5.5\n",
      "Median: 5.5\n",
      "Standard Deviation: 2.8722813232690143\n",
      "Variance: 8.25\n"
     ]
    }
   ],
   "source": [
    "data = np.array([1,2,3,4,5,6,7,8,9,10])\n",
    "\n",
    "# Mean\n",
    "mean = np.mean(data)\n",
    "print(\"Mean:\", mean)\n",
    "\n",
    "# Median\n",
    "median = np.median(data)\n",
    "print(\"Median:\", median)\n",
    "\n",
    "# Standard Deviation\n",
    "std_dev = np.std(data)\n",
    "print(\"Standard Deviation:\", std_dev)\n",
    "\n",
    "# Variance\n",
    "variance = np.var(data)\n",
    "print(\"Variance:\", variance)"
   ]
  },
  {
   "cell_type": "code",
   "execution_count": 37,
   "id": "c078ad8b",
   "metadata": {},
   "outputs": [
    {
     "data": {
      "text/plain": [
       "array([25])"
      ]
     },
     "execution_count": 37,
     "metadata": {},
     "output_type": "execute_result"
    }
   ],
   "source": [
    "# Logical Operations\n",
    "\n",
    "data = np.array([10, 15, 20, 25, 30])\n",
    "\n",
    "data[(data > 20) & (data < 30)]  # This will raise an error"
   ]
  }
 ],
 "metadata": {
  "kernelspec": {
   "display_name": "Python 3",
   "language": "python",
   "name": "python3"
  },
  "language_info": {
   "codemirror_mode": {
    "name": "ipython",
    "version": 3
   },
   "file_extension": ".py",
   "mimetype": "text/x-python",
   "name": "python",
   "nbconvert_exporter": "python",
   "pygments_lexer": "ipython3",
   "version": "3.13.5"
  }
 },
 "nbformat": 4,
 "nbformat_minor": 5
}
