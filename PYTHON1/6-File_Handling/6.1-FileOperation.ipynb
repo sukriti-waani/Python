{
 "cells": [
  {
   "cell_type": "markdown",
   "id": "ec76acfa",
   "metadata": {},
   "source": [
    "## File Operation - Read And Write Files\n",
    "\n",
    "File Handling is a crucial part of any programming language.\n",
    "Python provides built-in functions and methods to read from and write to files, both text and binary."
   ]
  },
  {
   "cell_type": "code",
   "execution_count": 2,
   "id": "65beb6c0",
   "metadata": {},
   "outputs": [
    {
     "name": "stdout",
     "output_type": "stream",
     "text": [
      "Hello, How are you ?\n",
      "I am good\n",
      "Sukriti is my name\n"
     ]
    }
   ],
   "source": [
    "# Read a whole file\n",
    "\n",
    "with open('example1.txt', 'r') as file:\n",
    "  content = file.read()\n",
    "  print(content)"
   ]
  },
  {
   "cell_type": "code",
   "execution_count": null,
   "id": "4badcf56",
   "metadata": {},
   "outputs": [
    {
     "name": "stdout",
     "output_type": "stream",
     "text": [
      "Hello, How are you ?\n",
      "I am good\n",
      "Sukriti is my name\n"
     ]
    }
   ],
   "source": [
    "## Read a file line by line\n",
    "\n",
    "with open('example1.txt', 'r') as file:\n",
    "  for line in file:\n",
    "    print(line.strip()) # strip() removes leading/trailing whitespace (newline characters)"
   ]
  },
  {
   "cell_type": "code",
   "execution_count": 5,
   "id": "bdf26985",
   "metadata": {},
   "outputs": [],
   "source": [
    "## Writing a file\n",
    "\n",
    "with open('example1.txt', 'w') as file:\n",
    "  file.write(\"Hello, World!\\n\")\n",
    "  file.write(\"This is a new line.\\n\")"
   ]
  },
  {
   "cell_type": "code",
   "execution_count": 4,
   "id": "eb852e8b",
   "metadata": {},
   "outputs": [],
   "source": [
    "## Write a file(without overwriting)\n",
    "\n",
    "with open('example1.txt', 'a') as file:\n",
    "  file.write('Append operation using place!\\n')"
   ]
  },
  {
   "cell_type": "code",
   "execution_count": 9,
   "id": "61f2953b",
   "metadata": {},
   "outputs": [],
   "source": [
    "# Writing a list of lines to a file\n",
    "\n",
    "lines = ['First line\\n', 'Second line\\n', 'Third line\\n']\n",
    "with open('example1.txt', 'a') as file:\n",
    "  file.writelines(lines)"
   ]
  },
  {
   "cell_type": "code",
   "execution_count": 15,
   "id": "c0182ba3",
   "metadata": {},
   "outputs": [],
   "source": [
    "# Binary Files\n",
    "\n",
    "# Writing to a binary file\n",
    "data = b'\\x00\\x01\\x02\\x03\\x04'\n",
    "with open('example.bin', 'wb') as file:\n",
    "  file.write(data)"
   ]
  },
  {
   "cell_type": "code",
   "execution_count": 16,
   "id": "8996544e",
   "metadata": {},
   "outputs": [
    {
     "name": "stdout",
     "output_type": "stream",
     "text": [
      "b'\\x00\\x01\\x02\\x03\\x04'\n"
     ]
    }
   ],
   "source": [
    "# Reading a binary file\n",
    "with open('example.bin', 'rb') as file:\n",
    "  content = file.read()\n",
    "  print(content)"
   ]
  },
  {
   "cell_type": "code",
   "execution_count": 17,
   "id": "1a3cd81d",
   "metadata": {},
   "outputs": [],
   "source": [
    "# Read the content from a source file and write it to a destination file\n",
    "# Copying a text file\n",
    "\n",
    "with open('example1.txt', 'r') as source_file:\n",
    "  content = source_file.read()\n",
    "\n",
    "with open('destination.txt', 'w') as dest_file:\n",
    "  dest_file.write(content)"
   ]
  },
  {
   "cell_type": "code",
   "execution_count": 19,
   "id": "8f20ff6a",
   "metadata": {},
   "outputs": [
    {
     "name": "stdout",
     "output_type": "stream",
     "text": [
      "Lines: 18, Words: 44, Characters: 264\n"
     ]
    }
   ],
   "source": [
    "# Define a function to count lines, words, and characters in a text file\n",
    "def count_text_file(file_path):\n",
    "  # Open the file in read mode\n",
    "  with open(file_path, 'r') as file:\n",
    "    # Read all lines from the file into a list\n",
    "    lines = file.readlines()\n",
    "    \n",
    "    # Count total number of lines\n",
    "    line_count = len(lines)\n",
    "    \n",
    "    # Count total number of words in all lines\n",
    "    word_count = sum(len(line.split()) for line in lines)\n",
    "    \n",
    "    # Count total number of characters in all lines (including spaces and '\\n')\n",
    "    char_count = sum(len(line) for line in lines)\n",
    "  \n",
    "  # Return all three counts\n",
    "  return line_count, word_count, char_count\n",
    "\n",
    "\n",
    "# File path of the text file to analyze\n",
    "file_path = 'example1.txt'\n",
    "\n",
    "# Call the function and store the results in separate variables\n",
    "lines, words, characters = count_text_file(file_path)\n",
    "\n",
    "# Print the results in a formatted way\n",
    "print(f'Lines: {lines}, Words: {words}, Characters: {characters}')\n"
   ]
  },
  {
   "cell_type": "code",
   "execution_count": 20,
   "id": "56de82ba",
   "metadata": {},
   "outputs": [
    {
     "name": "stdout",
     "output_type": "stream",
     "text": [
      "Hello, World!\n",
      "This is a new line.\n",
      "\n"
     ]
    }
   ],
   "source": [
    "# Writing and reading a file\n",
    "\n",
    "with open('example1.txt', 'w+') as file:\n",
    "  file.write(\"Hello, World!\\n\")\n",
    "  file.write(\"This is a new line.\\n\")\n",
    "  \n",
    "  file.seek(0)  # Move the cursor to the beginning of the file\n",
    "  content = file.read()\n",
    "  print(content)"
   ]
  },
  {
   "cell_type": "code",
   "execution_count": null,
   "id": "763abe92",
   "metadata": {},
   "outputs": [],
   "source": []
  }
 ],
 "metadata": {
  "kernelspec": {
   "display_name": "Python 3",
   "language": "python",
   "name": "python3"
  },
  "language_info": {
   "codemirror_mode": {
    "name": "ipython",
    "version": 3
   },
   "file_extension": ".py",
   "mimetype": "text/x-python",
   "name": "python",
   "nbconvert_exporter": "python",
   "pygments_lexer": "ipython3",
   "version": "3.13.5"
  }
 },
 "nbformat": 4,
 "nbformat_minor": 5
}
