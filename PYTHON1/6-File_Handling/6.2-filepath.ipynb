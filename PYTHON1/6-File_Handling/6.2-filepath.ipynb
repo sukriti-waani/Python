{
 "cells": [
  {
   "cell_type": "code",
   "execution_count": 3,
   "id": "f9e84ecb",
   "metadata": {},
   "outputs": [
    {
     "name": "stdout",
     "output_type": "stream",
     "text": [
      "Directory 'package' created.\n"
     ]
    }
   ],
   "source": [
    "# create a new directory\n",
    "\n",
    "import os\n",
    "new_directory = \"package\"\n",
    "os.mkdir(new_directory)\n",
    "print(f\"Directory '{new_directory}' created.\")"
   ]
  },
  {
   "cell_type": "code",
   "execution_count": 4,
   "id": "d5bfc6a6",
   "metadata": {},
   "outputs": [
    {
     "name": "stdout",
     "output_type": "stream",
     "text": [
      "['6.1-FileOperation.ipynb', '6.2-filepath.ipynb', 'destination.txt', 'example.bin', 'example1.txt', 'package']\n"
     ]
    }
   ],
   "source": [
    "# Listing Files and Directories\n",
    "\n",
    "items = os.listdir('.')\n",
    "print(items)"
   ]
  },
  {
   "cell_type": "code",
   "execution_count": 7,
   "id": "586d1237",
   "metadata": {},
   "outputs": [
    {
     "name": "stdout",
     "output_type": "stream",
     "text": [
      "c:\\My_Programs\\Python\\Python\\PYTHON1\\6-File_Handling\\folder\\file.txt\n"
     ]
    }
   ],
   "source": [
    "# Joining Paths\n",
    "\n",
    "dir_name = \"folder\"\n",
    "file_name = \"file.txt\"\n",
    "full_path = os.path.join(os.getcwd(), dir_name, file_name)\n",
    "print(full_path)"
   ]
  },
  {
   "cell_type": "code",
   "execution_count": 10,
   "id": "ba5a3707",
   "metadata": {},
   "outputs": [
    {
     "name": "stdout",
     "output_type": "stream",
     "text": [
      "The path 'example.txt' does not exist.\n"
     ]
    }
   ],
   "source": [
    "path = 'example.txt'\n",
    "if os.path.exists(path):\n",
    "  print(f\"The path '{path}' exists.\")\n",
    "else:\n",
    "  print(f\"The path '{path}' does not exist.\")"
   ]
  },
  {
   "cell_type": "code",
   "execution_count": 11,
   "id": "eda8f423",
   "metadata": {},
   "outputs": [
    {
     "name": "stdout",
     "output_type": "stream",
     "text": [
      "The path 'example1.txt' is a file.\n"
     ]
    }
   ],
   "source": [
    "# Checking if a Path is a File or Directory\n",
    "\n",
    "import os\n",
    "\n",
    "path = 'example1.txt'\n",
    "if os.path.isfile(path):\n",
    "  print(f\"The path '{path}' is a file.\")\n",
    "elif os.path.isdir(path):\n",
    "  print(f\"The path '{path}' is a directory.\")\n",
    "else:\n",
    "  print(f\"The path '{path}' is neither a file nor a directory.\")"
   ]
  },
  {
   "cell_type": "code",
   "execution_count": 12,
   "id": "ad7ff4e6",
   "metadata": {},
   "outputs": [
    {
     "name": "stdout",
     "output_type": "stream",
     "text": [
      "Absolute path: c:\\My_Programs\\Python\\Python\\PYTHON1\\6-File_Handling\\example1.txt\n"
     ]
    }
   ],
   "source": [
    "## Getting the absolute path\n",
    "\n",
    "relative_path = 'example1.txt'\n",
    "absolute_path = os.path.abspath(relative_path)\n",
    "print(f\"Absolute path: {absolute_path}\")"
   ]
  },
  {
   "cell_type": "code",
   "execution_count": null,
   "id": "b869b6f9",
   "metadata": {},
   "outputs": [],
   "source": []
  }
 ],
 "metadata": {
  "kernelspec": {
   "display_name": "Python 3",
   "language": "python",
   "name": "python3"
  },
  "language_info": {
   "codemirror_mode": {
    "name": "ipython",
    "version": 3
   },
   "file_extension": ".py",
   "mimetype": "text/x-python",
   "name": "python",
   "nbconvert_exporter": "python",
   "pygments_lexer": "ipython3",
   "version": "3.13.5"
  }
 },
 "nbformat": 4,
 "nbformat_minor": 5
}
