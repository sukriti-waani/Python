{
 "cells": [
  {
   "cell_type": "markdown",
   "metadata": {},
   "source": [
    "# Module: File Handling Assignments\n",
    "## Lesson: File Handling and Operations\n",
    "### Assignment 1: Reading a File\n",
    "\n",
    "Write a function that reads the contents of a file named `sample.txt` and prints each line.\n",
    "\n",
    "### Assignment 2: Writing to a File\n",
    "\n",
    "Write a function that writes a list of strings to a file named `output.txt`, with each string on a new line.\n",
    "\n",
    "### Assignment 3: Copying a File\n",
    "\n",
    "Write a function that copies the contents of a file named `source.txt` to a new file named `destination.txt`.\n",
    "\n",
    "### Assignment 4: Appending to a File\n",
    "\n",
    "Write a function that appends a given string to the end of a file named `log.txt`.\n",
    "\n",
    "### Assignment 5: Counting Words in a File\n",
    "\n",
    "Write a function that reads the contents of a file named `document.txt` and returns the number of words in the file.\n",
    "\n",
    "### Assignment 6: Finding and Replacing Text\n",
    "\n",
    "Write a function that finds and replaces all occurrences of a given word in a file named `data.txt` with another word.\n",
    "\n",
    "### Assignment 7: Reading a File in Reverse\n",
    "\n",
    "Write a function that reads the contents of a file named `reverse.txt` and prints each line in reverse order.\n",
    "\n",
    "### Assignment 8: Counting Lines, Words, and Characters\n",
    "\n",
    "Write a function that reads the contents of a file named `stats.txt` and returns the number of lines, words, and characters in the file.\n",
    "\n",
    "### Assignment 9: Merging Multiple Files\n",
    "\n",
    "Write a function that merges the contents of multiple files into a single file named `merged.txt`.\n",
    "\n",
    "### Assignment 10: Splitting a Large File\n",
    "\n",
    "Write a function that splits a large file named `large.txt` into smaller files of 100 lines each.\n",
    "\n",
    "### Assignment 11: Creating a Log File\n",
    "\n",
    "Write a function that creates a log file named `activity.log` and writes log messages with timestamps.\n",
    "\n",
    "### Assignment 12: Binary File Operations\n",
    "\n",
    "Write a function that reads a binary file named `image.bin` and writes its contents to another binary file named `copy_image.bin`.\n",
    "\n",
    "### Assignment 13: CSV File Operations\n",
    "\n",
    "Write a function that reads a CSV file named `data.csv` and prints its contents as a list of dictionaries.\n",
    "\n",
    "### Assignment 14: JSON File Operations\n",
    "\n",
    "Write a function that reads a JSON file named `data.json` and prints its contents as a Python dictionary.\n",
    "\n",
    "### Assignment 15: File Permission Handling\n",
    "\n",
    "Write a function that attempts to read a file named `protected.txt` and handles any permission errors gracefully by printing an error message."
   ]
  },
  {
   "cell_type": "code",
   "execution_count": 2,
   "metadata": {},
   "outputs": [
    {
     "name": "stdout",
     "output_type": "stream",
     "text": [
      "Hello, I am learning Python\n"
     ]
    }
   ],
   "source": [
    "# 1: Reading a File\n",
    "\n",
    "## Read a file line by line\n",
    "\n",
    "with open('sample.txt', 'r') as file:\n",
    "  for line in file:\n",
    "    print(line.strip()) # strip() removes leading/trailing whitespace (newline characters)"
   ]
  },
  {
   "cell_type": "code",
   "execution_count": 7,
   "id": "d34994d0",
   "metadata": {},
   "outputs": [],
   "source": [
    "# 2: Writing to a File\n",
    "\n",
    "lines = ['First line\\n', 'Second line\\n', 'Third line\\n']\n",
    "with open('output.txt', 'a') as file:\n",
    "    file.writelines(lines)"
   ]
  },
  {
   "cell_type": "code",
   "execution_count": 9,
   "id": "ee4aacc5",
   "metadata": {},
   "outputs": [],
   "source": [
    "# 3: Copying a File\n",
    "\n",
    "with open('sample.txt', 'r') as source_file:\n",
    "  content = source_file.read()\n",
    "\n",
    "with open('destination1.txt', 'w') as dest_file:\n",
    "  dest_file.write(content)"
   ]
  },
  {
   "cell_type": "code",
   "execution_count": null,
   "id": "12a42d7b",
   "metadata": {},
   "outputs": [],
   "source": [
    "# 4: Appending to a File\n",
    "with open(\"sample.txt\", \"a\") as file:\n",
    "        file.write(\" I am in 3rd year of my engineering\\n\")"
   ]
  },
  {
   "cell_type": "code",
   "execution_count": 16,
   "id": "c4297697",
   "metadata": {},
   "outputs": [
    {
     "data": {
      "text/plain": [
       "13"
      ]
     },
     "execution_count": 16,
     "metadata": {},
     "output_type": "execute_result"
    }
   ],
   "source": [
    "# 5: Counting Words in a File\n",
    "\n",
    "def count_words():\n",
    "        with open(\"sample.txt\", \"r\") as file:\n",
    "            content = file.read()\n",
    "            words = content.split()\n",
    "            return len(words)\n",
    "        return 0\n",
    "\n",
    "count_words()"
   ]
  },
  {
   "cell_type": "code",
   "execution_count": 22,
   "id": "ed73e490",
   "metadata": {},
   "outputs": [],
   "source": [
    "# 6: Finding and Replacing Text\n",
    "\n",
    "def find_replace(old_word, new_word):\n",
    "  with open(\"sample.txt\", \"r\") as file:\n",
    "    content = file.read()\n",
    "    content = content.replace(old_word, new_word)\n",
    "  with open(\"sample.txt\", \"w\") as file:\n",
    "    file.write(content)\n",
    "\n",
    "find_replace(\"Hello\", \"Hey\")"
   ]
  },
  {
   "cell_type": "code",
   "execution_count": 24,
   "id": "45fc46b8",
   "metadata": {},
   "outputs": [
    {
     "name": "stdout",
     "output_type": "stream",
     "text": [
      "I am in 3rd year of my engineering\n",
      "Hey, I am learning Python.\n"
     ]
    }
   ],
   "source": [
    "# 7: Reading a File in Reverse\n",
    "\n",
    "def read_reverse():\n",
    "  with open(\"sample.txt\", \"r\") as file:\n",
    "    lines = file.readlines()\n",
    "    for line in reversed(lines):\n",
    "      print(line.strip())\n",
    "\n",
    "read_reverse()"
   ]
  },
  {
   "cell_type": "code",
   "execution_count": null,
   "id": "c63c0642",
   "metadata": {},
   "outputs": [
    {
     "data": {
      "text/plain": [
       "(2, 13, 63)"
      ]
     },
     "execution_count": 26,
     "metadata": {},
     "output_type": "execute_result"
    }
   ],
   "source": [
    "# 8: Counting Lines, Words, and Characters\n",
    "\n",
    "def file_stats():\n",
    "  with open(\"sample.txt\", \"r\") as file:\n",
    "    lines = file.readlines()\n",
    "    num_lines = len(lines)\n",
    "    num_words = sum(len(line.split()) for line in lines)\n",
    "    num_chars = sum(len(line) for line in lines)\n",
    "    return num_lines, num_words, num_chars\n",
    "\n",
    "file_stats()\n"
   ]
  },
  {
   "cell_type": "code",
   "execution_count": 27,
   "id": "ca9b8cc5",
   "metadata": {},
   "outputs": [],
   "source": [
    "# 9: Merging Multiple Files\n",
    "\n",
    "def merge_files(file_list):\n",
    "  with open(\"sample.txt\", \"w\") as outfile:\n",
    "    for fname in file_list:\n",
    "      with open(fname, \"r\") as infile:\n",
    "        outfile.write(infile.read() + \"\\n\")\n",
    "\n",
    "merge_files([\"sample.txt\", \"output.txt\"])\n"
   ]
  },
  {
   "cell_type": "code",
   "execution_count": 29,
   "id": "ebbba75b",
   "metadata": {},
   "outputs": [],
   "source": [
    "# 10: Splitting a Large File\n",
    "\n",
    "# Function to split a large file into smaller files of 100 lines each\n",
    "def split_file():\n",
    "    # Open the original file in read mode\n",
    "    with open(\"sample.txt\", \"r\") as file:\n",
    "        lines = file.readlines()  # Read all lines into a list\n",
    "        \n",
    "        # Loop through the lines in steps of 100\n",
    "        for i in range(0, len(lines), 100):\n",
    "            # Create a new file for each 100-line chunk\n",
    "            # f\"part_{i//100 + 1}.txt\" → generates part_1.txt, part_2.txt, etc.\n",
    "            with open(f\"part_{i//100 + 1}.txt\", \"w\") as f:\n",
    "                # Write 100 lines (or remaining lines) to the new file\n",
    "                f.writelines(lines[i:i+100])\n",
    "\n",
    "# Call the function to split the file\n",
    "split_file()"
   ]
  },
  {
   "cell_type": "code",
   "execution_count": 31,
   "id": "68769719",
   "metadata": {},
   "outputs": [],
   "source": [
    "# 11: Creating a Log File\n",
    "\n",
    "# Import datetime module to get current date and time\n",
    "from datetime import datetime\n",
    "\n",
    "# Function to create or append a log message with timestamp\n",
    "def create_log(message):\n",
    "    # Open (or create) 'activity.log' in append mode (\"a\")\n",
    "    with open(\"activity.log\", \"a\") as log_file:\n",
    "        # Get current date and time in format YYYY-MM-DD HH:MM:SS\n",
    "        timestamp = datetime.now().strftime(\"%Y-%m-%d %H:%M:%S\")\n",
    "        # Write the timestamp and message to the log file\n",
    "        # \"\\n\" ensures each log is on a new line\n",
    "        log_file.write(f\"{timestamp} - {message}\\n\")\n",
    "\n",
    "# Call the function with a sample message\n",
    "create_log(\"This is a log message.\")"
   ]
  },
  {
   "cell_type": "code",
   "execution_count": 32,
   "id": "0b1cfa49",
   "metadata": {},
   "outputs": [],
   "source": [
    "# 12: Binary File Operations\n",
    "\n",
    "def copy_binary():\n",
    "  with open(\"image.bin\", \"rb\") as src, open(\"copy_image.bin\", \"wb\") as dest:\n",
    "    dest.write(src.read())\n",
    "\n",
    "copy_binary()\n"
   ]
  },
  {
   "cell_type": "code",
   "execution_count": 37,
   "id": "59fd6983",
   "metadata": {},
   "outputs": [
    {
     "name": "stdout",
     "output_type": "stream",
     "text": [
      "[{'Name': 'Alice', 'Age': '28', 'City': 'New York'}, {'Name': 'Bob', 'Age': '34', 'City': 'Los Angeles'}, {'Name': 'Charlie', 'Age': '25', 'City': 'Chicago'}]\n"
     ]
    }
   ],
   "source": [
    "# 13: CSV File Operations\n",
    "\n",
    "import csv\n",
    "\n",
    "def read_csv():\n",
    "  with open(\"data.csv\", \"r\") as file:\n",
    "    reader = csv.DictReader(file) # csv.DictReader converts each row into a dictionary\n",
    "    data = list(reader)\n",
    "    print(data)\n",
    "\n",
    "read_csv()"
   ]
  },
  {
   "cell_type": "code",
   "execution_count": null,
   "id": "740caff2",
   "metadata": {},
   "outputs": [
    {
     "name": "stdout",
     "output_type": "stream",
     "text": [
      "{'name': 'John', 'age': 30, 'city': 'New York'}\n"
     ]
    }
   ],
   "source": [
    "# 14: JSON File Operations\n",
    "\n",
    "import json\n",
    "\n",
    "def read_json():\n",
    "  with open(\"data.json\", \"r\") as file:\n",
    "    data = json.load(file) # json.load reads JSON data and converts it into a Python dictionary\n",
    "    print(data)\n",
    "\n",
    "read_json()"
   ]
  },
  {
   "cell_type": "code",
   "execution_count": 40,
   "id": "7a400a30",
   "metadata": {},
   "outputs": [
    {
     "name": "stdout",
     "output_type": "stream",
     "text": [
      "This is protected file.\n"
     ]
    }
   ],
   "source": [
    "# 5: File Permission Handling\n",
    "\n",
    "def read_protected():\n",
    "    try:\n",
    "        with open(\"protected.txt\", \"r\") as file:\n",
    "            print(file.read())\n",
    "    except PermissionError:\n",
    "        print(\"Permission denied to read this file.\")\n",
    "    except FileNotFoundError:\n",
    "        print(\"File not found.\")\n",
    "\n",
    "read_protected()"
   ]
  },
  {
   "cell_type": "code",
   "execution_count": null,
   "id": "a6666aec",
   "metadata": {},
   "outputs": [],
   "source": []
  }
 ],
 "metadata": {
  "kernelspec": {
   "display_name": "Python 3",
   "language": "python",
   "name": "python3"
  },
  "language_info": {
   "codemirror_mode": {
    "name": "ipython",
    "version": 3
   },
   "file_extension": ".py",
   "mimetype": "text/x-python",
   "name": "python",
   "nbconvert_exporter": "python",
   "pygments_lexer": "ipython3",
   "version": "3.13.5"
  }
 },
 "nbformat": 4,
 "nbformat_minor": 5
}
